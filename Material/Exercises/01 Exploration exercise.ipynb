{
 "cells": [
  {
   "cell_type": "code",
   "execution_count": null,
   "id": "99afbbf7-5405-4ba8-a6aa-b1743f9822c5",
   "metadata": {},
   "outputs": [],
   "source": [
    "import numpy as np\n",
    "import pandas as pd\n",
    "import geopandas as gpd\n",
    "import plotly.express as px\n",
    "import os\n",
    "\n",
    "import matplotlib.pyplot as plt\n",
    "%matplotlib inline"
   ]
  },
  {
   "cell_type": "markdown",
   "id": "8c4e08f3-3258-40f0-8c3e-da694f7ca4b7",
   "metadata": {},
   "source": [
    "# Exploration\n",
    "\n",
    "The purpose of this notebook is to get familiar with the relevant data sets that are used during the course. You will see examples of how to work with numpy, pandas and plotting libraries. "
   ]
  },
  {
   "cell_type": "markdown",
   "id": "234926a8-5b98-4a15-a28c-d42a17d9b6d8",
   "metadata": {},
   "source": [
    "## Detailed population data"
   ]
  },
  {
   "cell_type": "markdown",
   "id": "4c8c397d-9f70-447f-a241-a7a045ae9295",
   "metadata": {},
   "source": [
    "INSEE provides detailed population information per municipality as open data:\n",
    "\n",
    "- Go to https://www.insee.fr/fr/statistiques/6544333\n",
    "- Download \"Individus localisés au canton-ou-ville - Zone A\" in CSV format\n",
    "- Note that \"Zone A\" includes only the Île-de-France region. There is data for all France or other regions and departments in other zones.\n",
    "- Put the downloaded zip file into the `data` folder next to this notebook\n",
    "- Unpack the zip file so that the CSV file is located inside the `data` folder\n",
    "- Alternatively call the following cell if you are using Linux"
   ]
  },
  {
   "cell_type": "code",
   "execution_count": null,
   "id": "705887b6-4719-4000-8d7e-028b9e84f784",
   "metadata": {},
   "outputs": [],
   "source": [
    "if not os.path.exists(\"data/FD_INDCVIZA_2019.csv\"):\n",
    "    !cd data && wget https://www.insee.fr/fr/statistiques/fichier/6544333/RP2019_INDCVIZA_csv.zip\n",
    "    !cd data && unzip RP2019_INDCVIZA_csv.zip\n",
    "    !cd data && rm RP2019_INDCVIZA_csv.zip"
   ]
  },
  {
   "cell_type": "markdown",
   "id": "6c17a5bc-1467-4421-b283-0401b2e160d9",
   "metadata": {},
   "source": [
    "Next, load a chunk of the data to see what is contained in the file:"
   ]
  },
  {
   "cell_type": "code",
   "execution_count": null,
   "id": "1beec7c2-7d52-4722-8e27-5506711b9a64",
   "metadata": {},
   "outputs": [],
   "source": [
    "df_census = pd.read_csv(\"data/FD_INDCVIZA_2019.csv\", sep = \";\", nrows = 10)\n",
    "df_census.head()"
   ]
  },
  {
   "cell_type": "markdown",
   "id": "c069067f-4f44-4136-9e46-769498ae5b91",
   "metadata": {},
   "source": [
    "You will find information on the variables in the dataset by clicking on \"Dictionnaire des variables\" in the link above and downloading the corresponding PDF."
   ]
  },
  {
   "cell_type": "markdown",
   "id": "84f915e9-d5f2-4c5f-b9b2-0b2515e35631",
   "metadata": {},
   "source": [
    "**Task**:  For our first analysis, load the following columns. For performance reasons, it makes sense, to define a data type for each column:\n",
    "- Detailed age (by year) as `int`\n",
    "- Socioprofessional category (Catégorie socioprofessionnelle en 8 postes) as `int`\n",
    "\n",
    "Additionally, load the following columns:\n",
    "- `IRIS` is an identifier for the location of the observation in France, load it as `str`\n",
    "- `IPONDI` is a weight of each observation, load it as `float`"
   ]
  },
  {
   "cell_type": "code",
   "execution_count": null,
   "id": "6b115072-9d10-444e-ab0b-3b9202c448d4",
   "metadata": {},
   "outputs": [],
   "source": [
    "columns = {\n",
    "    \"IRIS\": str,\n",
    "    \"IPONDI\": float,\n",
    "\n",
    "    \"AGED\": int,\n",
    "    \"CS1\": int\n",
    "\n",
    "}\n",
    "\n",
    "df_census = pd.read_csv(\"data/FD_INDCVIZA_2019.csv\", sep = \";\", dtype = columns, usecols = columns.keys())\n",
    "df_census.head()"
   ]
  },
  {
   "cell_type": "markdown",
   "id": "026f10b1-60d7-4474-9c88-afa22f76e2ec",
   "metadata": {},
   "source": [
    "**Task**:  It is always better to work with a cleaned data set, let's clean up the column names:\n",
    "- The age column to `age`\n",
    "- The socioprofessional category column to `csp`"
   ]
  },
  {
   "cell_type": "code",
   "execution_count": null,
   "id": "47f6eab6-31cb-49ab-9c54-d77715b1c83a",
   "metadata": {},
   "outputs": [],
   "source": [
    "# Insert your code here\n",
    "# df_census = \n",
    "\n",
    "df_census.head()"
   ]
  },
  {
   "cell_type": "markdown",
   "id": "e2b11b52-55a1-4e8b-a0a3-e6f5d8710ab1",
   "metadata": {},
   "source": [
    "The data set contains the official open census data from the French statistical office INSEE. Let's aggregate the data to obtain a data frame that gives us the number of observations at a certain age:"
   ]
  },
  {
   "cell_type": "code",
   "execution_count": null,
   "id": "f5f9f1ec-521c-4e71-b6fd-1cbd8f3752bb",
   "metadata": {},
   "outputs": [],
   "source": [
    "df_age = df_census.groupby(\"age\").size().reset_index(name = \"count\")\n",
    "df_age.head()"
   ]
  },
  {
   "cell_type": "markdown",
   "id": "9422abc4-9a0c-42c8-b65d-ae6b2dd05167",
   "metadata": {},
   "source": [
    "And plot this information using plotly:"
   ]
  },
  {
   "cell_type": "code",
   "execution_count": null,
   "id": "7cd6516b-5c7f-4c16-8a05-d8e5e2d9f034",
   "metadata": {},
   "outputs": [],
   "source": [
    "px.bar(df_age, x = \"age\", y = \"count\")"
   ]
  },
  {
   "cell_type": "markdown",
   "id": "64a8c43e-30fb-4744-9fd8-fbdf3aa7b1df",
   "metadata": {},
   "source": [
    "Is this information correct? Write the code to calculate total number of observations in the data set:"
   ]
  },
  {
   "cell_type": "code",
   "execution_count": null,
   "id": "67a8f4a8-6de2-46fb-bc34-b8b572cdfc1b",
   "metadata": {},
   "outputs": [],
   "source": [
    "# Insert your code here\n"
   ]
  },
  {
   "cell_type": "markdown",
   "id": "2c22d06e-5c27-4d28-af56-bde698de72e8",
   "metadata": {},
   "source": [
    "Compare this value with information from other sources like Wikipedia? Do we see a difference? Why?"
   ]
  },
  {
   "cell_type": "markdown",
   "id": "88647e72-f63b-47da-bef4-f732cf55f359",
   "metadata": {},
   "source": [
    "**Task**: Write the code to calculate the correct number of Île-de-France inhabitants:"
   ]
  },
  {
   "cell_type": "code",
   "execution_count": null,
   "id": "7d5fbbdb-b062-477e-8593-534afb2470f6",
   "metadata": {},
   "outputs": [],
   "source": [
    "# Insert your code here\n"
   ]
  },
  {
   "cell_type": "markdown",
   "id": "1730caee-77e4-4e34-9280-377701ecfc67",
   "metadata": {},
   "source": [
    "**Task:** Show a bar plot of both the count of *observations* at a specific age and the number of *persons*.\n",
    "\n",
    "Hints: \n",
    "- You will need another aggregator function than `size` (used before) in your `groupby` statement\n",
    "- You will need to `merge` the existing `df_age` data frame and a new one that you create\n",
    "- For the y-axis, you may pass a list of columns to plotly\n",
    "- Try to use the `barmode = \"group\"` argument for plotly"
   ]
  },
  {
   "cell_type": "code",
   "execution_count": null,
   "id": "fcddc36f-0649-4a6e-b76e-19e6991d8084",
   "metadata": {},
   "outputs": [],
   "source": [
    "# Insert your code here\n"
   ]
  },
  {
   "cell_type": "markdown",
   "id": "047708cb-c3f8-46c6-ae90-877708e6c912",
   "metadata": {},
   "source": [
    "**Task:** On average, how many persons are represented by one observation in the census data?"
   ]
  },
  {
   "cell_type": "code",
   "execution_count": null,
   "id": "b6edcf4c-f8bf-44e1-8e5f-ff5c5a6d783b",
   "metadata": {},
   "outputs": [],
   "source": [
    "# Insert your code here\n"
   ]
  },
  {
   "cell_type": "markdown",
   "id": "a24030c3-e348-48b6-95a1-36bc963bc8a9",
   "metadata": {},
   "source": [
    "Let's explore the data a bit further. \n",
    "\n",
    "**Task:** Show the number of persons for each socioprofessional category in a plot.\n",
    "\n",
    "Bonus: Instead of showing only CSP identifiers, can you show the name of the CSPs?\n",
    "\n",
    "Remember, the socioprofessional category is a classification of persons in France according to their job status:\n",
    "https://www.insee.fr/fr/metadonnees/pcs2003/categorieSocioprofessionnelleAgregee/1?champRecherche=true"
   ]
  },
  {
   "cell_type": "code",
   "execution_count": null,
   "id": "c7223f12-919c-40d0-9686-4f6eab3df9e1",
   "metadata": {},
   "outputs": [],
   "source": [
    "# Insert your code here\n"
   ]
  },
  {
   "cell_type": "markdown",
   "id": "91d820b4-1f2a-4ac3-a640-ecf594beea8c",
   "metadata": {},
   "source": [
    "**Task:** Show a line plot with one age distribution per CSP in different colors and use it to compare the age distribution of at least three CSP. Aggregate the years by 10.\n",
    "\n",
    "Hint:\n",
    "- You will need to aggregate over two columns this time."
   ]
  },
  {
   "cell_type": "code",
   "execution_count": null,
   "id": "64fb6bad-c814-4b8d-9b7e-db953350f5ab",
   "metadata": {},
   "outputs": [],
   "source": [
    "# Insert your code here\n"
   ]
  },
  {
   "cell_type": "markdown",
   "id": "d963d9da-1c9b-4d8a-b621-9d6f724e4225",
   "metadata": {},
   "source": [
    "The previous analysis were performed in absolute terms. Let's pass on to a relative analysis. We want to know which share of people belongs to a certain CSP for each age. The ages are represented by bars with the CSPs stacked on top of each other. Each bar has a height of `1.0` or 100%.\n",
    "\n",
    "**Task:** Set up a stacked bar plot where all CSPs are shown per age.\n",
    "\n",
    "Hints:\n",
    "- Proceed as in the previous task, but perform a second aggregation by age.\n",
    "- Via `merge`, append another column to the two-variable data set that describes this total\n",
    "- Then, divide the absolute value by the group total"
   ]
  },
  {
   "cell_type": "code",
   "execution_count": null,
   "id": "fe964b58-9ec9-4a52-9523-49e62246c702",
   "metadata": {},
   "outputs": [],
   "source": [
    "# Insert your code here\n"
   ]
  },
  {
   "cell_type": "markdown",
   "id": "81721615-c8f2-4b0f-b6ce-2ad80370ce2d",
   "metadata": {},
   "source": [
    "## Spatial data"
   ]
  },
  {
   "cell_type": "markdown",
   "id": "cc12eb55-3e09-498a-9b03-5a981a026f7e",
   "metadata": {},
   "source": [
    "So far, we have only performed analysis over the whole IDF population. The data set contains a column called `IRIS`. This is a statistical zoning system that covers France. Each zone in that system has a unique identifier. It is constructed as follows:\n",
    "\n",
    "- `[2]` digits are the department identifier\n",
    "- `[3]` following digits describe the municipality\n",
    "- `[4]` following digits describe the IRIS (sub-municipality zoning)\n",
    "\n",
    "For instance, the 14e arrondissement in Paris has the `75` as the department identifier `75`, followed by `114` indicating the arrondissement. After, there are four digits that describe smaller zones within the arrondissement, for instance:\n",
    "\n",
    "`[75][114][0001]`"
   ]
  },
  {
   "cell_type": "markdown",
   "id": "46a11219-cbc4-4785-8a99-7fe808f42d46",
   "metadata": {},
   "source": [
    "**Task:** For convience, let's create additional columns that indicate the department and the municipality of an observation:\n",
    "- `department_id`: The first two digits of `iris_id`\n",
    "- `municipality_id`: The five first digits of `iris_id`\n",
    "\n",
    "Hint: IRIS are strings although they may appear as numbers. The reason is that the department codes for Corsica are 2A and 2B."
   ]
  },
  {
   "cell_type": "code",
   "execution_count": null,
   "id": "5f540510-c06d-4d70-99de-e85855a934de",
   "metadata": {},
   "outputs": [],
   "source": [
    "# Insert your code here\n"
   ]
  },
  {
   "cell_type": "markdown",
   "id": "4e197496-c6d1-4c5a-bcba-2ceb02593d5b",
   "metadata": {},
   "source": [
    "**Task:** Find out which is the department with the highest number of inhabitants. Which is the least inhabitated one? Show an ordered list."
   ]
  },
  {
   "cell_type": "code",
   "execution_count": null,
   "id": "3fd6655e-3b45-4879-bd51-a1ef089558e5",
   "metadata": {},
   "outputs": [],
   "source": [
    "# Insert your code here\n"
   ]
  },
  {
   "cell_type": "markdown",
   "id": "11327c69-4d53-4f1c-a16a-1c69a1b075e3",
   "metadata": {},
   "source": [
    "**Task:** Let's repeat the exercise by identifying the top 10 and bottom 10 municipalities:"
   ]
  },
  {
   "cell_type": "code",
   "execution_count": null,
   "id": "2a157f5f-417a-4668-9f0d-e6ff6763e35e",
   "metadata": {},
   "outputs": [],
   "source": [
    "# Insert your code here\n"
   ]
  },
  {
   "cell_type": "markdown",
   "id": "b0e158c5",
   "metadata": {},
   "source": [
    "Which are the names of those municipalities? You can look them up on Wikipedia, for instance, by searching for their INSEE codes."
   ]
  },
  {
   "cell_type": "markdown",
   "id": "44f7d195-7731-41fa-8e18-b29b6d987fda",
   "metadata": {},
   "source": [
    "## Mapping"
   ]
  },
  {
   "cell_type": "markdown",
   "id": "b44efc18-4f82-4503-9ef3-d1cf3b255360",
   "metadata": {},
   "source": [
    "Looking at spatial data works best when using maps. The IRIS system is not only a system of identifiers, but there is also geographic shape data attached to it. The data is provided by IGN (Institut Géographique National).\n",
    "\n",
    "- Download the data from https://geoservices.ign.fr/contoursiris\n",
    "- Make sure to download the 2021 edition which is compatible with our 2019 census data\n",
    "- Unpack the 7z file. The relevant files for us are located in `CONTOURS*/1_DONNES/*LAMB93*/` (make sure about the last `LAMB93` part).\n",
    "- Copy the files prefixed with `CONTOURS-IRIS.*` to the `data` folder next to this notebook\n",
    "\n",
    "Linux users may execute the next cell:\n"
   ]
  },
  {
   "cell_type": "code",
   "execution_count": null,
   "id": "2e3c967c",
   "metadata": {},
   "outputs": [],
   "source": [
    "if not os.path.exists(\"data/CONTOURS-IRIS.shp\"):\n",
    "    !cd data && wget https://data.geopf.fr/telechargement/download/CONTOURS-IRIS/CONTOURS-IRIS_2-1__SHP__FRA_2021-01-01/CONTOURS-IRIS_2-1__SHP__FRA_2021-01-01.7z\n",
    "    !cd data && 7z x CONTOURS-IRIS_2-1__SHP__FRA_2021-01-01.7z -y\n",
    "    !cd data && cp CONTOURS-IRIS_2-1__SHP__FRA_2021-01-01/CONTOURS-IRIS/1_DONNEES_LIVRAISON_2021-06-00217/CONTOURS-IRIS_2-1_SHP_LAMB93_FXX-2021/CONTOURS-IRIS.* .\n",
    "    !cd data && rm CONTOURS-IRIS_2-1__SHP__FRA_2021-01-01.7z"
   ]
  },
  {
   "cell_type": "markdown",
   "id": "5304b90f-3c21-4acd-a7e9-991b94f4f5ef",
   "metadata": {},
   "source": [
    "Let's load the data using `geopandas`:"
   ]
  },
  {
   "cell_type": "code",
   "execution_count": null,
   "id": "fd4deaf7-6ec9-4995-ab92-b0f29078fa92",
   "metadata": {},
   "outputs": [],
   "source": [
    "df_iris = gpd.read_file(\"data/CONTOURS-IRIS.shp\")\n",
    "df_iris.head()"
   ]
  },
  {
   "cell_type": "markdown",
   "id": "9f666670-0849-4c1e-977e-4f99a09c8f1b",
   "metadata": {},
   "source": [
    "As before, let's clean up the data set. We will need the following columns with the following readable names:\n",
    "- `INSEE_COM`: `municipality_id`\n",
    "- `CODE_IRIS`: `iris_id`\n",
    "- `geometry`\n",
    "\n",
    "**Task:** Set up the data set accordingly."
   ]
  },
  {
   "cell_type": "code",
   "execution_count": null,
   "id": "2eedd72d-5903-4a1d-803e-c6477e02ef37",
   "metadata": {},
   "outputs": [],
   "source": [
    "# Insert your code here\n"
   ]
  },
  {
   "cell_type": "markdown",
   "id": "93de557d-ffef-4aa7-b01c-a3283973fa27",
   "metadata": {},
   "source": [
    "**Task**: Calculate how many IRIS exist in France and how many municipalities are there:"
   ]
  },
  {
   "cell_type": "code",
   "execution_count": null,
   "id": "8858788d-2406-4060-afa4-9087b13f8b84",
   "metadata": {},
   "outputs": [],
   "source": [
    "# Insert your code here\n"
   ]
  },
  {
   "cell_type": "markdown",
   "id": "94a3e575-e77f-483e-8207-5418c2d7b68c",
   "metadata": {},
   "source": [
    "You can try plotting all IRIS or all municipalities, but this will usually take a while with the standard Python tools. Let's plot only Paris:"
   ]
  },
  {
   "cell_type": "code",
   "execution_count": null,
   "id": "5f7a5c36-faf3-49db-ab32-5d35ba0b705b",
   "metadata": {},
   "outputs": [],
   "source": [
    "df_iris[\n",
    "    df_iris[\"municipality_id\"].str.startswith(\"75\")\n",
    "].plot()"
   ]
  },
  {
   "cell_type": "markdown",
   "id": "ab81d6b3-ac5f-45e1-ad5d-2ae165f33468",
   "metadata": {},
   "source": [
    "**Task**: Only the spatial shapes are not really useful. We should attach some data to it. To simplify our life, let's create a data frame based on `df_iris` that only contains the municipality shapes `df_municipalities`.\n",
    "\n",
    "Hint: Check the `dissolve` method in `geopandas`."
   ]
  },
  {
   "cell_type": "code",
   "execution_count": null,
   "id": "c18e63d1-3554-49a7-9343-3770690c81e1",
   "metadata": {},
   "outputs": [],
   "source": [
    "# Insert your code here\n",
    "# df_municipalities = ...\n"
   ]
  },
  {
   "cell_type": "markdown",
   "id": "edb44b04-4eed-4d98-822f-a684d7ca3d8f",
   "metadata": {},
   "source": [
    "**Task**: Plot all municipalities in the Essonne departmennt (91)."
   ]
  },
  {
   "cell_type": "code",
   "execution_count": null,
   "id": "1149cec8-2d8d-4483-bbef-4b46344147f2",
   "metadata": {},
   "outputs": [],
   "source": [
    "# Insert your code here\n"
   ]
  },
  {
   "cell_type": "markdown",
   "id": "f005a4c1-97d1-4ed7-a5bc-20c741e15e82",
   "metadata": {},
   "source": [
    "**Task**: Show all municipalities in the \"petite couronne\" including Paris."
   ]
  },
  {
   "cell_type": "code",
   "execution_count": null,
   "id": "aaea671e-a037-4b43-88af-a330c526a41e",
   "metadata": {},
   "outputs": [],
   "source": [
    "# Insert your code here\n",
    "# filter_departments = [ ... ]\n"
   ]
  },
  {
   "cell_type": "markdown",
   "id": "3e60b1be-eabd-4ff4-a72a-9454d68df864",
   "metadata": {},
   "source": [
    "**Task**: Now we are ready to cross some information with the spatial data set:\n",
    "- Equip your `df_census` data frame with a `municipality_id` column\n",
    "- Prepare a data set that contains the number of inhabitants per municipality (`municipality_id`, `inhabitants`)\n",
    "- Perform a merge between your municipality data frame and the inhabitant data frame\n",
    "- Provide the inhabitants column in the `plot` method"
   ]
  },
  {
   "cell_type": "code",
   "execution_count": null,
   "id": "eabe2efa-00d6-468e-8ccc-a2e7b1652ff7",
   "metadata": {},
   "outputs": [],
   "source": [
    "# Insert your code here\n"
   ]
  },
  {
   "cell_type": "markdown",
   "id": "0127f6d2",
   "metadata": {},
   "source": [
    "Do you observe anything specific?"
   ]
  },
  {
   "cell_type": "markdown",
   "id": "70d17846-f33e-40c8-b515-5ef348816b6f",
   "metadata": {},
   "source": [
    "**Task**: Plot a population map of \"petite couronne\"\" with a legend (using `legend = True`)"
   ]
  },
  {
   "cell_type": "code",
   "execution_count": null,
   "id": "71473d86-d29a-4b19-b729-35bcb74f07a1",
   "metadata": {},
   "outputs": [],
   "source": [
    "# Insert your code here\n"
   ]
  },
  {
   "cell_type": "markdown",
   "id": "1b186325-3a37-4df2-b95c-1faabae57a6e",
   "metadata": {},
   "source": [
    "## Aggregated population data"
   ]
  },
  {
   "cell_type": "markdown",
   "id": "aa7bf0d6-b1d2-42c2-85b2-2a2d94a131e3",
   "metadata": {},
   "source": [
    "To solve the issue, INSEE provides aggregated census data sets with less attributes but higher spatial availability. We will make use of a data set that indicates the total population and population per CSP over 15 years for every municipality in France:\n",
    "\n",
    "- The data is available at https://www.insee.fr/fr/statistiques/6543200\n",
    "- Download \"Population en 2019 - IRIS - France hors Mayotte\" in CSV format\n",
    "- Information on the variables is avaialble in \"Dictionnaire des variables\"\n",
    "\n",
    "Linux users may execute the following cell:"
   ]
  },
  {
   "cell_type": "code",
   "execution_count": null,
   "id": "8fe8b2cc",
   "metadata": {},
   "outputs": [],
   "source": [
    "if not os.path.exists(\"data/base-ic-evol-struct-pop-2019.CSV\"):\n",
    "    !cd data && wget https://www.insee.fr/fr/statistiques/fichier/6543200/base-ic-evol-struct-pop-2019_csv.zip\n",
    "    !cd data && unzip base-ic-evol-struct-pop-2019_csv.zip\n",
    "    !cd data && rm base-ic-evol-struct-pop-2019_csv.zip"
   ]
  },
  {
   "cell_type": "markdown",
   "id": "559569f1-91bc-4911-baaf-67774945ba5b",
   "metadata": {},
   "source": [
    "**Task**: Load the data set have a first look\n",
    "- Only load a couple of lines (`nrows=20`) to be sure that you don't exceed your memory\n",
    "- Look at the first few lines and check the explanation of the variables online\n",
    "- How can you obtain the population total per municipality from this data set?\n",
    "- How can you obtain the number of persons per CSP from this data set?"
   ]
  },
  {
   "cell_type": "code",
   "execution_count": null,
   "id": "e3c63415-dc7a-405b-8405-db685078dcad",
   "metadata": {},
   "outputs": [],
   "source": [
    "# Insert your code here\n"
   ]
  },
  {
   "cell_type": "markdown",
   "id": "a9a4745c-b8c7-42ce-9593-96a3d0e557b2",
   "metadata": {},
   "source": [
    "**Task**: Transform the data set such that you have each municipality together with the population total and the total of each CSP:"
   ]
  },
  {
   "cell_type": "code",
   "execution_count": null,
   "id": "5a93cf66-36da-417b-ab5c-514b3c414007",
   "metadata": {},
   "outputs": [],
   "source": [
    "pd.DataFrame({ \"municipality_id\": [], \"population\": [], \"csp_1\": [], \"csp_2\": [], \"csp_3\": [], \"csp_...\": [] })"
   ]
  },
  {
   "cell_type": "markdown",
   "id": "91885d7b-a3be-44a4-b757-6f255d19bb04",
   "metadata": {},
   "source": [
    "Hint: The data set is given per IRIS."
   ]
  },
  {
   "cell_type": "code",
   "execution_count": null,
   "id": "c8760fa2-85a7-4efb-9260-f5bef01120b7",
   "metadata": {},
   "outputs": [],
   "source": [
    "# Insert your code here\n",
    "# df_population = ... \n"
   ]
  },
  {
   "cell_type": "markdown",
   "id": "4eaa7863-f979-47a7-943a-aadd3065861d",
   "metadata": {},
   "source": [
    "**Task**: Repeat the task from above, create a map of the population in Île-de-France, but with the new data set. Note: The two data sets (geography and population totals) are now given for all France, so you can also plot the whole country."
   ]
  },
  {
   "cell_type": "code",
   "execution_count": null,
   "id": "6ca0eea6-db14-412d-91b3-d280c9a1d761",
   "metadata": {},
   "outputs": [],
   "source": [
    "# Insert your code here\n"
   ]
  },
  {
   "cell_type": "markdown",
   "id": "f69febde-c786-4619-b47e-94b8def42292",
   "metadata": {},
   "source": [
    "Save the cleaned population data, because we will need it again in a later exercise:"
   ]
  },
  {
   "cell_type": "code",
   "execution_count": null,
   "id": "ddae2e88-9027-464f-b858-9192286f408a",
   "metadata": {},
   "outputs": [],
   "source": [
    "df_population.to_parquet(\"data/population.parquet\")"
   ]
  },
  {
   "cell_type": "markdown",
   "id": "53185c35-f08a-4437-bbb5-014a95a133a0",
   "metadata": {},
   "source": [
    "Let's do the same with the municipalities spatial data set:"
   ]
  },
  {
   "cell_type": "code",
   "execution_count": null,
   "id": "7fc745f8-662b-497f-b470-1632bce1cef6",
   "metadata": {},
   "outputs": [],
   "source": [
    "df_municipalities.to_parquet(\"data/municipalities.parquet\")"
   ]
  },
  {
   "cell_type": "markdown",
   "id": "3f95e6e1-fb71-48f8-9577-ea467f11ec18",
   "metadata": {},
   "source": [
    "For mapping, Python can be useful to make a first draft, but there are more elaborate tools available. \n",
    "\n",
    "**Task**: Create a data frame in which the municipality data has been merged with the the population data set, i.e., we want all columns from the population data set and additionally the `geometry` column. Filter for all municipalities in Île-de-France. Save this data frame in GeoPackage format:"
   ]
  },
  {
   "cell_type": "code",
   "execution_count": null,
   "id": "0c11f50d-9ae6-4b21-be8c-fa963498b90d",
   "metadata": {},
   "outputs": [],
   "source": [
    "# Insert your code here\n",
    "# df_export =\n"
   ]
  },
  {
   "cell_type": "code",
   "execution_count": null,
   "id": "faa857c0-6ad3-453a-bfc6-47af9c29d905",
   "metadata": {},
   "outputs": [],
   "source": [
    "df_export.to_file(\"export.gpkg\")"
   ]
  },
  {
   "cell_type": "markdown",
   "id": "e2ce1791-26d3-4e83-8027-5cef4cddc2c5",
   "metadata": {},
   "source": [
    "**Exercise**: Explore the exported data using **QGIS**"
   ]
  },
  {
   "cell_type": "markdown",
   "id": "7b3f3a8f-4a0a-4d46-bf76-f360ba6a0e42",
   "metadata": {},
   "source": [
    "![](material/qgis.png)"
   ]
  },
  {
   "cell_type": "markdown",
   "id": "7865703c-257b-4c96-b06f-6695fe1ffa82",
   "metadata": {},
   "source": [
    "## Employment"
   ]
  },
  {
   "cell_type": "markdown",
   "id": "3d7b0640-7371-4141-90ab-082787002f01",
   "metadata": {},
   "source": [
    "In a later exercise, we will also need information on employment. Employment data per municipality is avaialble as open data from Urssaf.\n",
    "\n",
    "- Download the data from https://open.urssaf.fr/explore/dataset/etablissements-et-effectifs-salaries-au-niveau-commune-x-ape-last/information/\n",
    "- Go to \"Export\" and export the data as CSV\n",
    "\n",
    "Linux users may execute the following cell:"
   ]
  },
  {
   "cell_type": "code",
   "execution_count": null,
   "id": "1e91ee98",
   "metadata": {},
   "outputs": [],
   "source": [
    "if not os.path.exists(\"data/etablissements-et-effectifs-salaries-au-niveau-commune-x-ape-last.csv\"):\n",
    "    !cd data && wget \"https://open.urssaf.fr/api/explore/v2.1/catalog/datasets/etablissements-et-effectifs-salaries-au-niveau-commune-x-ape-last/exports/csv?lang=fr&timezone=Europe%2FBerlin&use_labels=true&delimiter=%3B\" -O etablissements-et-effectifs-salaries-au-niveau-commune-x-ape-last.csv"
   ]
  },
  {
   "cell_type": "markdown",
   "id": "42e11723-3c62-41c4-a152-f125d59a6e40",
   "metadata": {},
   "source": [
    "**Task**: As before, explore the data by first loading a few columns and understanding the content.\n",
    "\n",
    "Hint: To get a better overview of the available columns, try `df.columns`"
   ]
  },
  {
   "cell_type": "code",
   "execution_count": null,
   "id": "e5b9e384-5c36-45aa-82f6-182153956e3e",
   "metadata": {},
   "outputs": [],
   "source": [
    "# Insert your code here\n"
   ]
  },
  {
   "cell_type": "markdown",
   "id": "0b480540-8771-4c46-ae66-04f84c327b2f",
   "metadata": {},
   "source": [
    "**Task**: Clean the data set such that you have a column indicating the municipality identifier and the number of emloyees in 2019 in that zone.\n",
    "\n",
    "Hint: The data frame is disaggregated over various economic sectors (NAF code), but we want the total! Also, make sure to read the municipality codes as a string."
   ]
  },
  {
   "cell_type": "code",
   "execution_count": null,
   "id": "41c34b8a-b24c-4cb0-bdd8-9f169301abdc",
   "metadata": {},
   "outputs": [],
   "source": [
    "pd.DataFrame({ \"municipality_id\": [], \"emloyment\": [] })"
   ]
  },
  {
   "cell_type": "code",
   "execution_count": null,
   "id": "b86ad8d5-b34a-4560-9af1-a080ad758d76",
   "metadata": {},
   "outputs": [],
   "source": [
    "# Insert your code here\n",
    "# df_employment =\n"
   ]
  },
  {
   "cell_type": "markdown",
   "id": "ed705d26-c020-45ed-8bc0-75b82cb20b41",
   "metadata": {},
   "source": [
    "**Task**: Plot a map of the number of employees in a department of your choice"
   ]
  },
  {
   "cell_type": "code",
   "execution_count": null,
   "id": "5bf82e97-9382-421b-9c75-30d4430bd9f1",
   "metadata": {},
   "outputs": [],
   "source": [
    "# Insert your code here\n"
   ]
  },
  {
   "cell_type": "markdown",
   "id": "0b6be259",
   "metadata": {},
   "source": [
    "**Task**: Plot a map of the employment *density* of employees in a department of your choice."
   ]
  },
  {
   "cell_type": "code",
   "execution_count": null,
   "id": "aeb42dd8",
   "metadata": {},
   "outputs": [],
   "source": [
    "# Insert your code here\n"
   ]
  },
  {
   "cell_type": "markdown",
   "id": "00051131-4135-4284-8d66-a1e58000a745",
   "metadata": {},
   "source": [
    "Let's save this data for later:"
   ]
  },
  {
   "cell_type": "code",
   "execution_count": null,
   "id": "47aa176e-bcb0-44c4-9f46-1d52e0651c30",
   "metadata": {},
   "outputs": [],
   "source": [
    "df_employment.to_parquet(\"employment.parquet\")"
   ]
  },
  {
   "cell_type": "markdown",
   "id": "4ac82869-c09a-4856-a794-345e98bedc19",
   "metadata": {},
   "source": [
    "## Commuting data"
   ]
  },
  {
   "cell_type": "markdown",
   "id": "eca5f00f-0afe-41af-9583-b2a83ba159b3",
   "metadata": {},
   "source": [
    "Finally, we will have a look at a more complex data set: commuting data. This data set is also available from INSEE and describes how many people living in a specific municipality in France to to any other municipality for work. This data set is known as *MOBPRO*.\n",
    "\n",
    "- Download the data from https://www.insee.fr/fr/statistiques/6456056\n",
    "- Download the data in CSV format\n",
    "\n",
    "Linux users may execute the following cell:"
   ]
  },
  {
   "cell_type": "code",
   "execution_count": null,
   "id": "a5d89ef4",
   "metadata": {},
   "outputs": [],
   "source": [
    "if not os.path.exists(\"data/FD_MOBPRO_2019.csv\"):\n",
    "    !cd data && wget https://www.insee.fr/fr/statistiques/fichier/6456056/RP2019_mobpro_csv.zip\n",
    "    !cd data && unzip RP2019_mobpro_csv.zip\n",
    "    !cd data && rm RP2019_mobpro_csv.zip"
   ]
  },
  {
   "cell_type": "markdown",
   "id": "068a8246-4a41-4fb4-98d6-86163a9be03f",
   "metadata": {},
   "source": [
    "**Task**: Load the data set with the following columns:\n",
    "- `COMMUNE` : `str`\n",
    "- `ARM` : `str`\n",
    "- `DCLT`: `str`\n",
    "- `IPONDI`: `float`\n",
    "- `TRANS`: `int`"
   ]
  },
  {
   "cell_type": "code",
   "execution_count": null,
   "id": "6208654c-d378-4072-a5af-d2c540b6301b",
   "metadata": {},
   "outputs": [],
   "source": [
    "# Insert your code here\n"
   ]
  },
  {
   "cell_type": "markdown",
   "id": "66f68d58-d45d-4f14-83f0-be86d05156d7",
   "metadata": {},
   "source": [
    "The MOBPRO data set is a bit particular with respect to the spatial identifiers. In fact, `DCLT` describes the destination of a commuters as a municipality identifier. In principle, this is also the case for `COMMUNE` which describes the origin. However, Paris, for instance, is encoded as `75056`, but the actual \"municipality\" (or arrondissement) is contained in `ARM`. If one knows this, there is an easy fix:"
   ]
  },
  {
   "cell_type": "code",
   "execution_count": null,
   "id": "4d26065d-e9e8-4121-bd33-80e492597b4c",
   "metadata": {},
   "outputs": [],
   "source": [
    "f = df_commutes[\"ARM\"] != \"ZZZZZ\"\n",
    "df_commutes.loc[f, \"COMMUNE\"] = df_commutes.loc[f, \"ARM\"]"
   ]
  },
  {
   "cell_type": "markdown",
   "id": "f7cb9a30-9b2d-4d90-8349-248aad092ee7",
   "metadata": {},
   "source": [
    "**Task**: Reformat the data frame so that we have the following format."
   ]
  },
  {
   "cell_type": "code",
   "execution_count": null,
   "id": "54090a26-645f-41aa-b4fa-c318a283804c",
   "metadata": {},
   "outputs": [],
   "source": [
    "pd.DataFrame({ \"origin_id\": [], \"destination_id\": [], \"weight\": [], \"transport_mode\": [] })"
   ]
  },
  {
   "cell_type": "code",
   "execution_count": null,
   "id": "e55152ec-22e7-4653-8a51-46b55b27c4ce",
   "metadata": {},
   "outputs": [],
   "source": [
    "# Insert your code here\n"
   ]
  },
  {
   "cell_type": "markdown",
   "id": "128d939c-fa93-421d-a78c-18f93025b1f6",
   "metadata": {},
   "source": [
    "**Task**: Plot a map showing how many people commute from Melun (77288) in the south of Paris to any other municipality in Île-de-France **by car**."
   ]
  },
  {
   "cell_type": "code",
   "execution_count": null,
   "id": "eb90ba69-621c-45c4-94c7-3b360d34507b",
   "metadata": {},
   "outputs": [],
   "source": [
    "# Insert your code here\n"
   ]
  },
  {
   "cell_type": "markdown",
   "id": "2ff67755-e84e-4766-8462-16cb219a6f87",
   "metadata": {},
   "source": [
    "**Task**: Plot the same map but for commutes by **public transport**. What do you notice?"
   ]
  },
  {
   "cell_type": "code",
   "execution_count": null,
   "id": "a63cb7a8-9934-448d-bda6-29a00f987012",
   "metadata": {},
   "outputs": [],
   "source": [
    "# Insert your code here\n"
   ]
  },
  {
   "cell_type": "markdown",
   "id": "ae19127f-1cdc-4787-82a2-e039fa7e13ff",
   "metadata": {},
   "source": [
    "**Task:** Aggregate the commuting data set further by removing the `transport_mode` column such that we only have the bare commuting flows as a weight between two municipalities. Then, save the data set as `commutes.parquet`, we will need it later on!"
   ]
  },
  {
   "cell_type": "code",
   "execution_count": null,
   "id": "88311e30-67da-4d42-9110-6144496d8489",
   "metadata": {},
   "outputs": [],
   "source": [
    "# Insert your code here\n"
   ]
  },
  {
   "cell_type": "code",
   "execution_count": null,
   "id": "ea1ab28b",
   "metadata": {},
   "outputs": [],
   "source": [
    "df_commutes.to_parquet(\"commutes.parquet\")"
   ]
  },
  {
   "cell_type": "markdown",
   "id": "7153ad3c-63f0-45d5-a12d-dcbc63dea908",
   "metadata": {},
   "source": [
    "**Congratulations!** You can now solve Exercise 1 of the course project."
   ]
  }
 ],
 "metadata": {
  "kernelspec": {
   "display_name": "course2024",
   "language": "python",
   "name": "python3"
  },
  "language_info": {
   "codemirror_mode": {
    "name": "ipython",
    "version": 3
   },
   "file_extension": ".py",
   "mimetype": "text/x-python",
   "name": "python",
   "nbconvert_exporter": "python",
   "pygments_lexer": "ipython3",
   "version": "3.12.8"
  }
 },
 "nbformat": 4,
 "nbformat_minor": 5
}
