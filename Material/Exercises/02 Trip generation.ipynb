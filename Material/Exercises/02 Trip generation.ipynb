{
 "cells": [
  {
   "cell_type": "code",
   "execution_count": null,
   "id": "01c4f122-6b2a-4785-acf4-727f844e3dec",
   "metadata": {},
   "outputs": [],
   "source": [
    "import numpy as np\n",
    "import pandas as pd\n",
    "import geopandas as gpd\n",
    "import plotly.express as px\n",
    "import os\n",
    "\n",
    "import sklearn.linear_model\n",
    "\n",
    "import matplotlib.pyplot as plt\n",
    "%matplotlib inline"
   ]
  },
  {
   "cell_type": "markdown",
   "id": "3acc1cf0-7474-429e-8c01-149379a3e908",
   "metadata": {},
   "source": [
    "# Trip generation\n",
    "\n",
    "The purpose of this notebook is to give the student a basic understand of how a growth-factor-based trip generation model works and how it can be applied to data."
   ]
  },
  {
   "cell_type": "markdown",
   "id": "33f60d95-117f-4604-b849-18a767137bcd",
   "metadata": {},
   "source": [
    "First, let's load the population, commuting, and municipality data from the last exercise:"
   ]
  },
  {
   "cell_type": "code",
   "execution_count": null,
   "id": "1b97fc5d-1a78-409b-81fd-067a2033d1a3",
   "metadata": {},
   "outputs": [],
   "source": [
    "df_population = pd.read_parquet(\"population.parquet\")\n",
    "df_commutes = pd.read_parquet(\"commutes.parquet\")\n",
    "\n",
    "# geopandas\n",
    "df_munipalities = gpd.read_parquet(\"municipalities.parquet\")"
   ]
  },
  {
   "cell_type": "markdown",
   "id": "9a5e9b80-dd6a-4188-ba50-841d707bee9f",
   "metadata": {},
   "source": [
    "**Task**: To reduce the amount of computation, filter all three data sets for the Île-de-France region. For the commuting data, make sure to only keep movements where both origin and destination are within the region."
   ]
  },
  {
   "cell_type": "code",
   "execution_count": null,
   "id": "2dd6d8ad-c636-484d-b151-d6356744bea4",
   "metadata": {},
   "outputs": [],
   "source": [
    "idf_departments = [\"75\", \"92\", \"93\", \"94\", \"95\", \"77\", \"91\", \"78\"]"
   ]
  },
  {
   "cell_type": "code",
   "execution_count": null,
   "id": "e8afa6c0-53d1-4b1b-89f2-fa4d99ddc71d",
   "metadata": {},
   "outputs": [],
   "source": [
    "# Insert code here ...\n",
    "# ...\n"
   ]
  },
  {
   "cell_type": "markdown",
   "id": "a0f96698-d58c-444e-900e-309a566482bf",
   "metadata": {},
   "source": [
    "## Simple model"
   ]
  },
  {
   "cell_type": "markdown",
   "id": "c06c8390-1101-4b4a-8646-b1da87182a42",
   "metadata": {},
   "source": [
    "**Task**: Implement the simple trip generation model as described during the lecture:\n",
    "\n",
    "$$\n",
    "O_i = \\beta N_i\n",
    "$$\n",
    "\n",
    "with $O_i$ indicating the outflow (the number of commuters) of a municipality and $N_i$ its population count. To estimate, $\\beta$, the following formula has been established:\n",
    "\n",
    "$$\n",
    "\\beta = \\frac{\\sum_i \\hat O_i \\cdot N_i}{\\sum_i N_i^2}\n",
    "$$\n",
    "\n",
    "with $\\hat O_i$ as the reference commuters known from data."
   ]
  },
  {
   "cell_type": "code",
   "execution_count": null,
   "id": "f5d5dc6b-7100-4202-8cbf-b7e01ddd5fb2",
   "metadata": {},
   "outputs": [],
   "source": [
    "# Hint: Working with multiple data frames is easier if we know that the order with respect to the keys is the same. We can do so by indexing our data sets:\n",
    "municipalities = df_munipalities[\"municipality_id\"].unique()\n",
    "\n",
    "df_population = df_population.set_index(\"municipality_id\").reindex(municipalities)"
   ]
  },
  {
   "cell_type": "code",
   "execution_count": null,
   "id": "0be60ac9-5f3a-4c94-9c97-f55563bd71ed",
   "metadata": {},
   "outputs": [],
   "source": [
    "# Insert code here ...\n",
    "# ...\n",
    "\n",
    "# nominator = \n",
    "# denominator = \n",
    "# beta =\n"
   ]
  },
  {
   "cell_type": "markdown",
   "id": "2fe421e9-64c9-40ad-8131-526ecf660564",
   "metadata": {},
   "source": [
    "**Task**: Generate the flows using your model."
   ]
  },
  {
   "cell_type": "code",
   "execution_count": null,
   "id": "d599f788-bfd1-48c3-a944-3d3ae61cede5",
   "metadata": {},
   "outputs": [],
   "source": [
    "# Insert code here ...\n",
    "# ...\n",
    "\n",
    "# O_generated = ...\n"
   ]
  },
  {
   "cell_type": "markdown",
   "id": "b8262cfc-ae35-4aeb-a1c0-92444da635b6",
   "metadata": {},
   "source": [
    "**Task**: Plot the fit of your model as a scatter plot (x = reference, y = model)."
   ]
  },
  {
   "cell_type": "code",
   "execution_count": null,
   "id": "74467ecf-3fcc-4fea-bf23-a3101c1953c8",
   "metadata": {},
   "outputs": [],
   "source": [
    "# Insert code here ...\n",
    "# ...\n"
   ]
  },
  {
   "cell_type": "markdown",
   "id": "295f3b16-b1f9-44a4-b3b7-7a3de38d66f0",
   "metadata": {},
   "source": [
    "**Task**: Let's test the ability to generalize of the model.\n",
    "- Shuffle the order of the municipalities\n",
    "- Take 30% as the validation data set\n",
    "- Take the remaining 70% as the training data set\n",
    "- Use 20%, 40%, 60%, 80%, 100% of the training data set to estimate the model\n",
    "- For each case, note the model fit on the validation data $(O_i - \\hat O_i)^2$"
   ]
  },
  {
   "cell_type": "markdown",
   "id": "3ecb8ac6-b45a-405c-906d-dc79f9db5c16",
   "metadata": {},
   "source": [
    "## CSP Model"
   ]
  },
  {
   "cell_type": "markdown",
   "id": "6045e37a-0507-4609-954c-9aae71c77bdb",
   "metadata": {},
   "source": [
    "**Task**: Implement the CSP-based growth model for trip distribution as it was introduced in the lecture.\n",
    "\n",
    "- Prepare the input data and reference data\n",
    "- Set up the model\n",
    "- Show the coefficients and the offset\n",
    "- What do you observe? Which impact do individual CSP have on the commutes?\n",
    "\n",
    "Hint: Make use of `sklearn.linear_model.LinearRegression`"
   ]
  },
  {
   "cell_type": "code",
   "execution_count": null,
   "id": "dd96c878-36fa-4e64-88da-7622907a2a5b",
   "metadata": {},
   "outputs": [],
   "source": [
    "# Insert code here ...\n",
    "# ...\n",
    "\n",
    "# Set up the model input data (features)\n",
    "# X =\n",
    "\n",
    "# Set up the reference data (labels / ground truth)\n",
    "# y = \n",
    "\n",
    "# Set up the sklearn model\n",
    "# model = \n"
   ]
  },
  {
   "cell_type": "markdown",
   "id": "021b66ce-1139-433e-800d-654c577efd0e",
   "metadata": {},
   "source": [
    "**Task**: Apply the model to the population data without using sklearn, but just making use of the parameters. Show the fit with the reference data"
   ]
  },
  {
   "cell_type": "code",
   "execution_count": null,
   "id": "8c67e176-fc8f-462e-8c8f-7b31c30bd799",
   "metadata": {},
   "outputs": [],
   "source": [
    "# Insert code here ...\n",
    "# ...\n",
    "\n",
    "# coefficients = \n",
    "# intercept = \n",
    "\n",
    "# prediction = \n"
   ]
  },
  {
   "cell_type": "markdown",
   "id": "20372880-a532-4b3f-8272-02076580b030",
   "metadata": {},
   "source": [
    "**Bonus task:** Now we have a model that generates the number of outgoing commuters per day, based on the composition of the population in a zone. As a bonus task, go back to the population data from the previous task. Remember that it gave us the number of people in a CSP per IRIS, not only per municipality. Use the model that we have estimated now to generate the number of commuters per IRIS in Île-de-France."
   ]
  },
  {
   "cell_type": "code",
   "execution_count": null,
   "id": "da82edc7-e1a4-4bf1-956f-068bf9741092",
   "metadata": {},
   "outputs": [],
   "source": [
    "# Insert code here ...\n",
    "# ...\n"
   ]
  },
  {
   "cell_type": "markdown",
   "id": "f4c91a4c-0193-48b4-8926-594312131b25",
   "metadata": {},
   "source": [
    "**Congratulations**, you can now solve Exercise 2.1 of the course project."
   ]
  }
 ],
 "metadata": {
  "kernelspec": {
   "display_name": "Python 3 (ipykernel)",
   "language": "python",
   "name": "python3"
  },
  "language_info": {
   "codemirror_mode": {
    "name": "ipython",
    "version": 3
   },
   "file_extension": ".py",
   "mimetype": "text/x-python",
   "name": "python",
   "nbconvert_exporter": "python",
   "pygments_lexer": "ipython3",
   "version": "3.12.1"
  }
 },
 "nbformat": 4,
 "nbformat_minor": 5
}
