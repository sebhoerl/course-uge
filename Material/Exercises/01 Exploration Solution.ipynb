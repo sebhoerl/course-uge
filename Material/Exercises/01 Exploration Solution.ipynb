{
 "cells": [
  {
   "cell_type": "code",
   "execution_count": 36,
   "id": "99afbbf7-5405-4ba8-a6aa-b1743f9822c5",
   "metadata": {},
   "outputs": [],
   "source": [
    "import numpy as np\n",
    "import pandas as pd\n",
    "import geopandas as gpd\n",
    "import plotly.express as px\n",
    "import os\n",
    "\n",
    "import matplotlib.pyplot as plt\n",
    "%matplotlib inline"
   ]
  },
  {
   "cell_type": "markdown",
   "id": "8c4e08f3-3258-40f0-8c3e-da694f7ca4b7",
   "metadata": {},
   "source": [
    "# Exploration\n",
    "\n",
    "The purpose of this notebook is to get familiar with the relevant data sets that are used during the course. You will see examples of how to work with numpy, pandas and plotting libraries. "
   ]
  },
  {
   "cell_type": "markdown",
   "id": "234926a8-5b98-4a15-a28c-d42a17d9b6d8",
   "metadata": {},
   "source": [
    "## Detailed population data"
   ]
  },
  {
   "cell_type": "markdown",
   "id": "4c8c397d-9f70-447f-a241-a7a045ae9295",
   "metadata": {},
   "source": [
    "INSEE provides detailed population information per municipality as open data:\n",
    "\n",
    "- Go to https://www.insee.fr/fr/statistiques/6544333\n",
    "- Download \"Individus localisés au canton-ou-ville\" in CSV format\n",
    "- Put the downloaded zip file into the folder that contains this notebook\n",
    "- Unpack the zip file so that the CSV file is located next to this notebook\n",
    "- Alternatively call the following cell if you are using Linux"
   ]
  },
  {
   "cell_type": "code",
   "execution_count": 37,
   "id": "705887b6-4719-4000-8d7e-028b9e84f784",
   "metadata": {},
   "outputs": [],
   "source": [
    "if not os.path.exists(\"FD_INDCVI_2019.csv\"):\n",
    "    !wget https://www.insee.fr/fr/statistiques/fichier/6544333/RP2019_INDCVI_csv.zip\n",
    "    !unzip RP2019_INDCVI_csv.zip"
   ]
  },
  {
   "cell_type": "markdown",
   "id": "6c17a5bc-1467-4421-b283-0401b2e160d9",
   "metadata": {},
   "source": [
    "Next, load a chunk of the data to see what is contained in the file:"
   ]
  },
  {
   "cell_type": "code",
   "execution_count": 38,
   "id": "1beec7c2-7d52-4722-8e27-5506711b9a64",
   "metadata": {},
   "outputs": [
    {
     "data": {
      "text/html": [
       "<div>\n",
       "<style scoped>\n",
       "    .dataframe tbody tr th:only-of-type {\n",
       "        vertical-align: middle;\n",
       "    }\n",
       "\n",
       "    .dataframe tbody tr th {\n",
       "        vertical-align: top;\n",
       "    }\n",
       "\n",
       "    .dataframe thead th {\n",
       "        text-align: right;\n",
       "    }\n",
       "</style>\n",
       "<table border=\"1\" class=\"dataframe\">\n",
       "  <thead>\n",
       "    <tr style=\"text-align: right;\">\n",
       "      <th></th>\n",
       "      <th>CANTVILLE</th>\n",
       "      <th>NUMMI</th>\n",
       "      <th>ACHLR</th>\n",
       "      <th>AEMMR</th>\n",
       "      <th>AGED</th>\n",
       "      <th>AGER20</th>\n",
       "      <th>AGEREV</th>\n",
       "      <th>AGEREVQ</th>\n",
       "      <th>ANAI</th>\n",
       "      <th>ANEMR</th>\n",
       "      <th>...</th>\n",
       "      <th>TP</th>\n",
       "      <th>TRANS</th>\n",
       "      <th>TRIRIS</th>\n",
       "      <th>TYPC</th>\n",
       "      <th>TYPFC</th>\n",
       "      <th>TYPL</th>\n",
       "      <th>TYPMC</th>\n",
       "      <th>TYPMR</th>\n",
       "      <th>VOIT</th>\n",
       "      <th>WC</th>\n",
       "    </tr>\n",
       "  </thead>\n",
       "  <tbody>\n",
       "    <tr>\n",
       "      <th>0</th>\n",
       "      <td>101</td>\n",
       "      <td>1</td>\n",
       "      <td>4</td>\n",
       "      <td>9</td>\n",
       "      <td>68</td>\n",
       "      <td>79</td>\n",
       "      <td>67</td>\n",
       "      <td>65</td>\n",
       "      <td>1949</td>\n",
       "      <td>1</td>\n",
       "      <td>...</td>\n",
       "      <td>Z</td>\n",
       "      <td>Z</td>\n",
       "      <td>ZZZZZZ</td>\n",
       "      <td>3</td>\n",
       "      <td>Z</td>\n",
       "      <td>2</td>\n",
       "      <td>1</td>\n",
       "      <td>11</td>\n",
       "      <td>1</td>\n",
       "      <td>Z</td>\n",
       "    </tr>\n",
       "    <tr>\n",
       "      <th>1</th>\n",
       "      <td>101</td>\n",
       "      <td>2</td>\n",
       "      <td>5</td>\n",
       "      <td>9</td>\n",
       "      <td>33</td>\n",
       "      <td>39</td>\n",
       "      <td>32</td>\n",
       "      <td>30</td>\n",
       "      <td>1983</td>\n",
       "      <td>0</td>\n",
       "      <td>...</td>\n",
       "      <td>1</td>\n",
       "      <td>5</td>\n",
       "      <td>ZZZZZZ</td>\n",
       "      <td>2</td>\n",
       "      <td>2</td>\n",
       "      <td>1</td>\n",
       "      <td>4</td>\n",
       "      <td>41</td>\n",
       "      <td>2</td>\n",
       "      <td>Z</td>\n",
       "    </tr>\n",
       "    <tr>\n",
       "      <th>2</th>\n",
       "      <td>101</td>\n",
       "      <td>2</td>\n",
       "      <td>5</td>\n",
       "      <td>9</td>\n",
       "      <td>1</td>\n",
       "      <td>2</td>\n",
       "      <td>0</td>\n",
       "      <td>0</td>\n",
       "      <td>2015</td>\n",
       "      <td>0</td>\n",
       "      <td>...</td>\n",
       "      <td>Z</td>\n",
       "      <td>Z</td>\n",
       "      <td>ZZZZZZ</td>\n",
       "      <td>2</td>\n",
       "      <td>2</td>\n",
       "      <td>1</td>\n",
       "      <td>4</td>\n",
       "      <td>41</td>\n",
       "      <td>2</td>\n",
       "      <td>Z</td>\n",
       "    </tr>\n",
       "    <tr>\n",
       "      <th>3</th>\n",
       "      <td>101</td>\n",
       "      <td>2</td>\n",
       "      <td>5</td>\n",
       "      <td>9</td>\n",
       "      <td>30</td>\n",
       "      <td>29</td>\n",
       "      <td>29</td>\n",
       "      <td>25</td>\n",
       "      <td>1986</td>\n",
       "      <td>0</td>\n",
       "      <td>...</td>\n",
       "      <td>1</td>\n",
       "      <td>5</td>\n",
       "      <td>ZZZZZZ</td>\n",
       "      <td>2</td>\n",
       "      <td>2</td>\n",
       "      <td>1</td>\n",
       "      <td>4</td>\n",
       "      <td>41</td>\n",
       "      <td>2</td>\n",
       "      <td>Z</td>\n",
       "    </tr>\n",
       "    <tr>\n",
       "      <th>4</th>\n",
       "      <td>101</td>\n",
       "      <td>3</td>\n",
       "      <td>4</td>\n",
       "      <td>9</td>\n",
       "      <td>72</td>\n",
       "      <td>79</td>\n",
       "      <td>71</td>\n",
       "      <td>70</td>\n",
       "      <td>1948</td>\n",
       "      <td>2</td>\n",
       "      <td>...</td>\n",
       "      <td>Z</td>\n",
       "      <td>Z</td>\n",
       "      <td>ZZZZZZ</td>\n",
       "      <td>3</td>\n",
       "      <td>Z</td>\n",
       "      <td>2</td>\n",
       "      <td>1</td>\n",
       "      <td>12</td>\n",
       "      <td>0</td>\n",
       "      <td>Z</td>\n",
       "    </tr>\n",
       "  </tbody>\n",
       "</table>\n",
       "<p>5 rows × 88 columns</p>\n",
       "</div>"
      ],
      "text/plain": [
       "   CANTVILLE  NUMMI  ACHLR  AEMMR  AGED  AGER20  AGEREV  AGEREVQ  ANAI  ANEMR  \\\n",
       "0        101      1      4      9    68      79      67       65  1949      1   \n",
       "1        101      2      5      9    33      39      32       30  1983      0   \n",
       "2        101      2      5      9     1       2       0        0  2015      0   \n",
       "3        101      2      5      9    30      29      29       25  1986      0   \n",
       "4        101      3      4      9    72      79      71       70  1948      2   \n",
       "\n",
       "   ...  TP TRANS  TRIRIS TYPC TYPFC TYPL  TYPMC  TYPMR VOIT  WC  \n",
       "0  ...   Z     Z  ZZZZZZ    3     Z    2      1     11    1   Z  \n",
       "1  ...   1     5  ZZZZZZ    2     2    1      4     41    2   Z  \n",
       "2  ...   Z     Z  ZZZZZZ    2     2    1      4     41    2   Z  \n",
       "3  ...   1     5  ZZZZZZ    2     2    1      4     41    2   Z  \n",
       "4  ...   Z     Z  ZZZZZZ    3     Z    2      1     12    0   Z  \n",
       "\n",
       "[5 rows x 88 columns]"
      ]
     },
     "execution_count": 38,
     "metadata": {},
     "output_type": "execute_result"
    }
   ],
   "source": [
    "df_census = pd.read_csv(\"FD_INDCVI_2019.csv\", sep = \";\", nrows = 10)\n",
    "df_census.head()"
   ]
  },
  {
   "cell_type": "markdown",
   "id": "c069067f-4f44-4136-9e46-769498ae5b91",
   "metadata": {},
   "source": [
    "You will find information on the variables in the dataset by clicking on \"Dictionnaire des variables\" in the link above and downloading the corresponding PDF."
   ]
  },
  {
   "cell_type": "markdown",
   "id": "84f915e9-d5f2-4c5f-b9b2-0b2515e35631",
   "metadata": {},
   "source": [
    "**Task**:  For our first analysis, load the following columns. For performance reasons, it makes sense, to define a data type for each column:\n",
    "- Detailed age (by year) as `int`\n",
    "- Socioprofessional category (Catégorie socioprofessionnelle en 8 postes) as `int`\n",
    "\n",
    "Additionally, load the following columns:\n",
    "- `IRIS` is an identifier for the location of the observation in France, load it as `str`\n",
    "- `IPONDI` is a weight of each observation, load it as `float`"
   ]
  },
  {
   "cell_type": "code",
   "execution_count": 39,
   "id": "6b115072-9d10-444e-ab0b-3b9202c448d4",
   "metadata": {},
   "outputs": [
    {
     "ename": "KeyboardInterrupt",
     "evalue": "",
     "output_type": "error",
     "traceback": [
      "\u001b[0;31m---------------------------------------------------------------------------\u001b[0m",
      "\u001b[0;31mKeyboardInterrupt\u001b[0m                         Traceback (most recent call last)",
      "Cell \u001b[0;32mIn[39], line 12\u001b[0m\n\u001b[1;32m      1\u001b[0m columns \u001b[38;5;241m=\u001b[39m {\n\u001b[1;32m      2\u001b[0m     \u001b[38;5;124m\"\u001b[39m\u001b[38;5;124mIRIS\u001b[39m\u001b[38;5;124m\"\u001b[39m: \u001b[38;5;28mstr\u001b[39m,\n\u001b[1;32m      3\u001b[0m     \u001b[38;5;124m\"\u001b[39m\u001b[38;5;124mIPONDI\u001b[39m\u001b[38;5;124m\"\u001b[39m: \u001b[38;5;28mfloat\u001b[39m,\n\u001b[0;32m   (...)\u001b[0m\n\u001b[1;32m      9\u001b[0m     \u001b[38;5;124m\"\u001b[39m\u001b[38;5;124mCS1\u001b[39m\u001b[38;5;124m\"\u001b[39m: \u001b[38;5;28mint\u001b[39m\n\u001b[1;32m     10\u001b[0m }\n\u001b[0;32m---> 12\u001b[0m df_census \u001b[38;5;241m=\u001b[39m \u001b[43mpd\u001b[49m\u001b[38;5;241;43m.\u001b[39;49m\u001b[43mread_csv\u001b[49m\u001b[43m(\u001b[49m\u001b[38;5;124;43m\"\u001b[39;49m\u001b[38;5;124;43mFD_INDCVI_2019.csv\u001b[39;49m\u001b[38;5;124;43m\"\u001b[39;49m\u001b[43m,\u001b[49m\u001b[43m \u001b[49m\u001b[43msep\u001b[49m\u001b[43m \u001b[49m\u001b[38;5;241;43m=\u001b[39;49m\u001b[43m \u001b[49m\u001b[38;5;124;43m\"\u001b[39;49m\u001b[38;5;124;43m;\u001b[39;49m\u001b[38;5;124;43m\"\u001b[39;49m\u001b[43m,\u001b[49m\u001b[43m \u001b[49m\u001b[43mdtype\u001b[49m\u001b[43m \u001b[49m\u001b[38;5;241;43m=\u001b[39;49m\u001b[43m \u001b[49m\u001b[43mcolumns\u001b[49m\u001b[43m,\u001b[49m\u001b[43m \u001b[49m\u001b[43musecols\u001b[49m\u001b[43m \u001b[49m\u001b[38;5;241;43m=\u001b[39;49m\u001b[43m \u001b[49m\u001b[43mcolumns\u001b[49m\u001b[38;5;241;43m.\u001b[39;49m\u001b[43mkeys\u001b[49m\u001b[43m(\u001b[49m\u001b[43m)\u001b[49m\u001b[43m)\u001b[49m\n\u001b[1;32m     13\u001b[0m df_census\u001b[38;5;241m.\u001b[39mhead()\n",
      "File \u001b[0;32m~/.miniforge/envs/uge/lib/python3.12/site-packages/pandas/io/parsers/readers.py:948\u001b[0m, in \u001b[0;36mread_csv\u001b[0;34m(filepath_or_buffer, sep, delimiter, header, names, index_col, usecols, dtype, engine, converters, true_values, false_values, skipinitialspace, skiprows, skipfooter, nrows, na_values, keep_default_na, na_filter, verbose, skip_blank_lines, parse_dates, infer_datetime_format, keep_date_col, date_parser, date_format, dayfirst, cache_dates, iterator, chunksize, compression, thousands, decimal, lineterminator, quotechar, quoting, doublequote, escapechar, comment, encoding, encoding_errors, dialect, on_bad_lines, delim_whitespace, low_memory, memory_map, float_precision, storage_options, dtype_backend)\u001b[0m\n\u001b[1;32m    935\u001b[0m kwds_defaults \u001b[38;5;241m=\u001b[39m _refine_defaults_read(\n\u001b[1;32m    936\u001b[0m     dialect,\n\u001b[1;32m    937\u001b[0m     delimiter,\n\u001b[0;32m   (...)\u001b[0m\n\u001b[1;32m    944\u001b[0m     dtype_backend\u001b[38;5;241m=\u001b[39mdtype_backend,\n\u001b[1;32m    945\u001b[0m )\n\u001b[1;32m    946\u001b[0m kwds\u001b[38;5;241m.\u001b[39mupdate(kwds_defaults)\n\u001b[0;32m--> 948\u001b[0m \u001b[38;5;28;01mreturn\u001b[39;00m \u001b[43m_read\u001b[49m\u001b[43m(\u001b[49m\u001b[43mfilepath_or_buffer\u001b[49m\u001b[43m,\u001b[49m\u001b[43m \u001b[49m\u001b[43mkwds\u001b[49m\u001b[43m)\u001b[49m\n",
      "File \u001b[0;32m~/.miniforge/envs/uge/lib/python3.12/site-packages/pandas/io/parsers/readers.py:617\u001b[0m, in \u001b[0;36m_read\u001b[0;34m(filepath_or_buffer, kwds)\u001b[0m\n\u001b[1;32m    614\u001b[0m     \u001b[38;5;28;01mreturn\u001b[39;00m parser\n\u001b[1;32m    616\u001b[0m \u001b[38;5;28;01mwith\u001b[39;00m parser:\n\u001b[0;32m--> 617\u001b[0m     \u001b[38;5;28;01mreturn\u001b[39;00m \u001b[43mparser\u001b[49m\u001b[38;5;241;43m.\u001b[39;49m\u001b[43mread\u001b[49m\u001b[43m(\u001b[49m\u001b[43mnrows\u001b[49m\u001b[43m)\u001b[49m\n",
      "File \u001b[0;32m~/.miniforge/envs/uge/lib/python3.12/site-packages/pandas/io/parsers/readers.py:1748\u001b[0m, in \u001b[0;36mTextFileReader.read\u001b[0;34m(self, nrows)\u001b[0m\n\u001b[1;32m   1741\u001b[0m nrows \u001b[38;5;241m=\u001b[39m validate_integer(\u001b[38;5;124m\"\u001b[39m\u001b[38;5;124mnrows\u001b[39m\u001b[38;5;124m\"\u001b[39m, nrows)\n\u001b[1;32m   1742\u001b[0m \u001b[38;5;28;01mtry\u001b[39;00m:\n\u001b[1;32m   1743\u001b[0m     \u001b[38;5;66;03m# error: \"ParserBase\" has no attribute \"read\"\u001b[39;00m\n\u001b[1;32m   1744\u001b[0m     (\n\u001b[1;32m   1745\u001b[0m         index,\n\u001b[1;32m   1746\u001b[0m         columns,\n\u001b[1;32m   1747\u001b[0m         col_dict,\n\u001b[0;32m-> 1748\u001b[0m     ) \u001b[38;5;241m=\u001b[39m \u001b[38;5;28;43mself\u001b[39;49m\u001b[38;5;241;43m.\u001b[39;49m\u001b[43m_engine\u001b[49m\u001b[38;5;241;43m.\u001b[39;49m\u001b[43mread\u001b[49m\u001b[43m(\u001b[49m\u001b[43m  \u001b[49m\u001b[38;5;66;43;03m# type: ignore[attr-defined]\u001b[39;49;00m\n\u001b[1;32m   1749\u001b[0m \u001b[43m        \u001b[49m\u001b[43mnrows\u001b[49m\n\u001b[1;32m   1750\u001b[0m \u001b[43m    \u001b[49m\u001b[43m)\u001b[49m\n\u001b[1;32m   1751\u001b[0m \u001b[38;5;28;01mexcept\u001b[39;00m \u001b[38;5;167;01mException\u001b[39;00m:\n\u001b[1;32m   1752\u001b[0m     \u001b[38;5;28mself\u001b[39m\u001b[38;5;241m.\u001b[39mclose()\n",
      "File \u001b[0;32m~/.miniforge/envs/uge/lib/python3.12/site-packages/pandas/io/parsers/c_parser_wrapper.py:234\u001b[0m, in \u001b[0;36mCParserWrapper.read\u001b[0;34m(self, nrows)\u001b[0m\n\u001b[1;32m    232\u001b[0m \u001b[38;5;28;01mtry\u001b[39;00m:\n\u001b[1;32m    233\u001b[0m     \u001b[38;5;28;01mif\u001b[39;00m \u001b[38;5;28mself\u001b[39m\u001b[38;5;241m.\u001b[39mlow_memory:\n\u001b[0;32m--> 234\u001b[0m         chunks \u001b[38;5;241m=\u001b[39m \u001b[38;5;28;43mself\u001b[39;49m\u001b[38;5;241;43m.\u001b[39;49m\u001b[43m_reader\u001b[49m\u001b[38;5;241;43m.\u001b[39;49m\u001b[43mread_low_memory\u001b[49m\u001b[43m(\u001b[49m\u001b[43mnrows\u001b[49m\u001b[43m)\u001b[49m\n\u001b[1;32m    235\u001b[0m         \u001b[38;5;66;03m# destructive to chunks\u001b[39;00m\n\u001b[1;32m    236\u001b[0m         data \u001b[38;5;241m=\u001b[39m _concatenate_chunks(chunks)\n",
      "File \u001b[0;32mparsers.pyx:843\u001b[0m, in \u001b[0;36mpandas._libs.parsers.TextReader.read_low_memory\u001b[0;34m()\u001b[0m\n",
      "File \u001b[0;32mparsers.pyx:904\u001b[0m, in \u001b[0;36mpandas._libs.parsers.TextReader._read_rows\u001b[0;34m()\u001b[0m\n",
      "File \u001b[0;32mparsers.pyx:879\u001b[0m, in \u001b[0;36mpandas._libs.parsers.TextReader._tokenize_rows\u001b[0;34m()\u001b[0m\n",
      "File \u001b[0;32mparsers.pyx:890\u001b[0m, in \u001b[0;36mpandas._libs.parsers.TextReader._check_tokenize_status\u001b[0;34m()\u001b[0m\n",
      "File \u001b[0;32mparsers.pyx:2050\u001b[0m, in \u001b[0;36mpandas._libs.parsers.raise_parser_error\u001b[0;34m()\u001b[0m\n",
      "File \u001b[0;32m<frozen codecs>:331\u001b[0m, in \u001b[0;36mgetstate\u001b[0;34m(self)\u001b[0m\n",
      "\u001b[0;31mKeyboardInterrupt\u001b[0m: "
     ]
    }
   ],
   "source": [
    "columns = {\n",
    "    \"IRIS\": str,\n",
    "    \"IPONDI\": float,\n",
    "    \n",
    "    # Insert the other columns here\n",
    "    # ...\n",
    "\n",
    "    \"AGED\": int,\n",
    "    \"CS1\": int\n",
    "}\n",
    "\n",
    "df_census = pd.read_csv(\"FD_INDCVI_2019.csv\", sep = \";\", dtype = columns, usecols = columns.keys())\n",
    "df_census.head()"
   ]
  },
  {
   "cell_type": "markdown",
   "id": "026f10b1-60d7-4474-9c88-afa22f76e2ec",
   "metadata": {},
   "source": [
    "**Task**:  It is always better to work with a cleaned data set, let's clean up the column names:\n",
    "- The age column to `age`\n",
    "- The socioprofessional category column to `csp`"
   ]
  },
  {
   "cell_type": "code",
   "execution_count": null,
   "id": "47f6eab6-31cb-49ab-9c54-d77715b1c83a",
   "metadata": {},
   "outputs": [],
   "source": [
    "df_census = df_census.rename(columns = {\n",
    "    \"IRIS\": \"iris_id\",\n",
    "    \"IPONDI\": \"weight\",\n",
    "\n",
    "    # Insert code here\n",
    "    # ...\n",
    "\n",
    "    \"AGED\": \"age\",\n",
    "    \"CS1\": \"csp\"\n",
    "})\n",
    "\n",
    "df_census.head()"
   ]
  },
  {
   "cell_type": "markdown",
   "id": "e2b11b52-55a1-4e8b-a0a3-e6f5d8710ab1",
   "metadata": {},
   "source": [
    "The data set contains the official open census data from the French statistical office INSEE. Let's aggregate the data to obtain a data frame that gives us the number of persons at a certain age:"
   ]
  },
  {
   "cell_type": "code",
   "execution_count": null,
   "id": "f5f9f1ec-521c-4e71-b6fd-1cbd8f3752bb",
   "metadata": {},
   "outputs": [],
   "source": [
    "df_age = df_census.groupby(\"age\").size().reset_index(name = \"count\")\n",
    "df_age.head()"
   ]
  },
  {
   "cell_type": "markdown",
   "id": "9422abc4-9a0c-42c8-b65d-ae6b2dd05167",
   "metadata": {},
   "source": [
    "And plot this information using plotly:"
   ]
  },
  {
   "cell_type": "code",
   "execution_count": null,
   "id": "7cd6516b-5c7f-4c16-8a05-d8e5e2d9f034",
   "metadata": {},
   "outputs": [],
   "source": [
    "px.bar(df_age, x = \"age\", y = \"count\")"
   ]
  },
  {
   "cell_type": "markdown",
   "id": "64a8c43e-30fb-4744-9fd8-fbdf3aa7b1df",
   "metadata": {},
   "source": [
    "Is this information correct? Write the code to calculate total number of observations in the data set:"
   ]
  },
  {
   "cell_type": "code",
   "execution_count": null,
   "id": "67a8f4a8-6de2-46fb-bc34-b8b572cdfc1b",
   "metadata": {},
   "outputs": [],
   "source": [
    "df_census.size"
   ]
  },
  {
   "cell_type": "markdown",
   "id": "2c22d06e-5c27-4d28-af56-bde698de72e8",
   "metadata": {},
   "source": [
    "Compare this value with information from other sources like Wikipedia? Do we see a difference? Why?"
   ]
  },
  {
   "cell_type": "markdown",
   "id": "88647e72-f63b-47da-bef4-f732cf55f359",
   "metadata": {},
   "source": [
    "**Task**: Write the code to calculate the correct number of French inhabitants:"
   ]
  },
  {
   "cell_type": "code",
   "execution_count": null,
   "id": "7d5fbbdb-b062-477e-8593-534afb2470f6",
   "metadata": {},
   "outputs": [],
   "source": [
    "# Insert code here\n",
    "# ...\n",
    "\n",
    "df_census[\"weight\"].sum()"
   ]
  },
  {
   "cell_type": "markdown",
   "id": "1730caee-77e4-4e34-9280-377701ecfc67",
   "metadata": {},
   "source": [
    "**Task:** Show a bar plot of both the count of *observations* at a specific age and the number of *persons*.\n",
    "\n",
    "Hints: \n",
    "- You will need another aggregator function than `size` (used before) in your `groupby` statement\n",
    "- You will need to `merge` the existing `df_age` data frame and a new one that you create\n",
    "- For the y-axis, you may pass a list of columns to plotly\n",
    "- Try to use the `barmode = \"group\"` argument for plotly"
   ]
  },
  {
   "cell_type": "code",
   "execution_count": null,
   "id": "fcddc36f-0649-4a6e-b76e-19e6991d8084",
   "metadata": {},
   "outputs": [],
   "source": [
    "# Insert code here\n",
    "# ...\n",
    "\n",
    "df_age_persons = df_census.groupby(\"age\")[\"weight\"].sum().reset_index()\n",
    "df_age = pd.merge(df_age, df_age_persons, on = \"age\")\n",
    "\n",
    "px.bar(df_age, x = \"age\", y = [\"count\", \"weight\"], barmode = \"group\")"
   ]
  },
  {
   "cell_type": "markdown",
   "id": "047708cb-c3f8-46c6-ae90-877708e6c912",
   "metadata": {},
   "source": [
    "**Task:** On average, how many persons are represented by one observation in the census data?"
   ]
  },
  {
   "cell_type": "code",
   "execution_count": null,
   "id": "b6edcf4c-f8bf-44e1-8e5f-ff5c5a6d783b",
   "metadata": {},
   "outputs": [],
   "source": [
    "# Insert code here\n",
    "# ...\n",
    "\n",
    "df_census[\"weight\"].mean()"
   ]
  },
  {
   "cell_type": "markdown",
   "id": "a24030c3-e348-48b6-95a1-36bc963bc8a9",
   "metadata": {},
   "source": [
    "Let's explore the data a bit further. \n",
    "\n",
    "**Task:** Show the number of persons for each socioprofessional category in a plot.\n",
    "\n",
    "Bonus: Instead of showing only CSP identifiers, can you show the name of the CSPs?\n",
    "\n",
    "Remember, the socioprofessional category is a classification of persons in France according to their job status:\n",
    "https://www.insee.fr/fr/metadonnees/pcs2003/categorieSocioprofessionnelleAgregee/1?champRecherche=true"
   ]
  },
  {
   "cell_type": "code",
   "execution_count": null,
   "id": "becb1174-eead-4545-9328-13f0906f87d9",
   "metadata": {},
   "outputs": [],
   "source": [
    "# Insert code here\n",
    "# ...\n",
    "\n",
    "df_csp = df_census.groupby(\"csp\")[\"weight\"].sum().reset_index()\n",
    "df_csp = df_csp.replace({\n",
    "    1: \"Agriculteurs\",\n",
    "    2: \"Artisans\",\n",
    "    3: \"Cadres\",\n",
    "    4: \"Intermédiaires\",\n",
    "    5: \"Employés\",\n",
    "    6: \"Ouvriers\",\n",
    "    7: \"Retraités\",\n",
    "    8: \"Autres\"\n",
    "})\n",
    "\n",
    "px.bar(df_csp, x = \"csp\", y = \"weight\")"
   ]
  },
  {
   "cell_type": "markdown",
   "id": "91d820b4-1f2a-4ac3-a640-ecf594beea8c",
   "metadata": {},
   "source": [
    "**Task:** Show a bar plot with one age distribution per CSP in different colors and use it to compare the age distribution of at least three CSP.\n",
    "\n",
    "Hint:\n",
    "- You will need to aggregate over two columns this time."
   ]
  },
  {
   "cell_type": "code",
   "execution_count": null,
   "id": "9cc17dc5-8c3f-434d-b735-4ce934050718",
   "metadata": {},
   "outputs": [],
   "source": [
    "# Insert code here\n",
    "# ...\n",
    "\n",
    "df_age = df_census.groupby([\"age\", \"csp\"])[\"weight\"].sum().reset_index()\n",
    "df_age = df_age[df_age[\"csp\"].isin([1, 3, 5])]\n",
    "df_age[\"csp\"] = df_age[\"csp\"].astype(str)\n",
    "\n",
    "px.bar(df_age, x = \"age\", y = \"weight\", color = \"csp\", barmode = \"group\")"
   ]
  },
  {
   "cell_type": "markdown",
   "id": "d963d9da-1c9b-4d8a-b621-9d6f724e4225",
   "metadata": {},
   "source": [
    "The previous analysis were performed in absolute terms. Let's pass on to a relative analysis. We want to know which percentage of people belonging to a certain CSP has a certain age. So the bars should sum up to one per CSP.\n",
    "\n",
    "**Task:** Set up a plot where two or three CSP are shown with their relative age distribution, summing up to one for each CSP.\n",
    "\n",
    "Hints:\n",
    "- Proceed as in the previous task, but perform a second aggregation by CSP.\n",
    "- Via `merge`, append another column to the two-variable data set that describes this total\n",
    "- Then, divide the absolute value by the group total"
   ]
  },
  {
   "cell_type": "code",
   "execution_count": null,
   "id": "fe964b58-9ec9-4a52-9523-49e62246c702",
   "metadata": {},
   "outputs": [],
   "source": [
    "# Insert code here\n",
    "# ...\n",
    "\n",
    "df_age = df_census.groupby([\"age\", \"csp\"])[\"weight\"].sum().reset_index()\n",
    "df_total = df_census.groupby(\"csp\")[\"weight\"].sum().reset_index().rename(columns = { \"weight\": \"total\" })\n",
    "\n",
    "df_age = pd.merge(df_age, df_total, on = \"csp\")\n",
    "df_age[\"share\"] = df_age[\"weight\"] / df_age[\"total\"]\n",
    "\n",
    "df_age = df_age[df_age[\"csp\"].isin([1, 3, 5])]\n",
    "df_age[\"csp\"] = df_age[\"csp\"].astype(str)\n",
    "\n",
    "px.bar(df_age, x = \"age\", y = \"share\", color = \"csp\", barmode = \"group\")"
   ]
  },
  {
   "cell_type": "markdown",
   "id": "81721615-c8f2-4b0f-b6ce-2ad80370ce2d",
   "metadata": {},
   "source": [
    "## Spatial data"
   ]
  },
  {
   "cell_type": "markdown",
   "id": "cc12eb55-3e09-498a-9b03-5a981a026f7e",
   "metadata": {},
   "source": [
    "So far, we have only performed analysis over the whole French population. The data set contains a column called `IRIS`. This is a statistical zoning system that covers France. Each zone in that system has a unique identifier. It is constructed as follows:\n",
    "\n",
    "- `[2]` digits are the department identifier\n",
    "- `[3]` following digits describe the municipality\n",
    "- `[4]` following digits describe the IRIS (sub-municipality zoning)\n",
    "\n",
    "For instance, the 14e arrondissement in Paris has the `75` as the department identifier `75`, followed by `114` indicating the arrondissement. After, there are four digits that describe smaller zones within the arrondissement, for instance:\n",
    "\n",
    "`[75][115][0001]`"
   ]
  },
  {
   "cell_type": "markdown",
   "id": "46a11219-cbc4-4785-8a99-7fe808f42d46",
   "metadata": {},
   "source": [
    "**Task:** For convience, let's create additional columns that indicate the department and the municipality of an observation:\n",
    "- `department_id`: The first two digits of `iris_id`\n",
    "- `municipality_id`: The five first digits of `iris_id`"
   ]
  },
  {
   "cell_type": "code",
   "execution_count": null,
   "id": "5f540510-c06d-4d70-99de-e85855a934de",
   "metadata": {},
   "outputs": [],
   "source": [
    "### Insert code here\n",
    "# ...\n",
    "\n",
    "df_census[\"department_id\"] = df_census[\"iris_id\"].str[:2]\n",
    "df_census[\"municipality_id\"] = df_census[\"iris_id\"].str[:5]"
   ]
  },
  {
   "cell_type": "markdown",
   "id": "4e197496-c6d1-4c5a-bcba-2ceb02593d5b",
   "metadata": {},
   "source": [
    "**Task:** Find out which are the 10 departments with the highest number of inhabitants. Which are the 10 least inhabitated ones?"
   ]
  },
  {
   "cell_type": "code",
   "execution_count": null,
   "id": "3fd6655e-3b45-4879-bd51-a1ef089558e5",
   "metadata": {},
   "outputs": [],
   "source": [
    "### Insert code here\n",
    "# ...\n",
    "\n",
    "df_census.groupby(\"department_id\")[\"weight\"].sum().reset_index().sort_values(by = \"weight\", ascending = True)"
   ]
  },
  {
   "cell_type": "markdown",
   "id": "865d9b34-9637-4cfd-8481-159ca6b9818c",
   "metadata": {},
   "source": [
    "Do you observe anything special?"
   ]
  },
  {
   "cell_type": "markdown",
   "id": "11327c69-4d53-4f1c-a16a-1c69a1b075e3",
   "metadata": {},
   "source": [
    "**Task:** Let's repeat the exercise by identifying the top 10 and bottom 10 municipalities:"
   ]
  },
  {
   "cell_type": "code",
   "execution_count": null,
   "id": "2a157f5f-417a-4668-9f0d-e6ff6763e35e",
   "metadata": {},
   "outputs": [],
   "source": [
    "### Insert code here\n",
    "# ...\n",
    "\n",
    "df_census.groupby(\"municipality_id\")[\"weight\"].sum().reset_index().sort_values(by = \"weight\", ascending = False)"
   ]
  },
  {
   "cell_type": "markdown",
   "id": "44f7d195-7731-41fa-8e18-b29b6d987fda",
   "metadata": {},
   "source": [
    "## Mapping"
   ]
  },
  {
   "cell_type": "markdown",
   "id": "b44efc18-4f82-4503-9ef3-d1cf3b255360",
   "metadata": {},
   "source": [
    "Looking at spatial data works best when using maps. The IRIS system is not only a system of identifiers, but there is also geographic shape data attached to it. The data is provided by IGN (Institut Géographique National).\n",
    "\n",
    "- Download the data from https://geoservices.ign.fr/contoursiris\n",
    "- Make sure to download the 2021 edition which is compatible with our 2019 census data\n",
    "- Unpack the 7z file in the current folder\n",
    "- The relevant files are located in `CONTOURS*/1_DONNES/*LAMB93*/` (make sure about the last `LAMB93` part)\n",
    "- Copy the files prefixed with `CONTOURS-IRIS.*` to the folder where this notebook is located"
   ]
  },
  {
   "cell_type": "markdown",
   "id": "5304b90f-3c21-4acd-a7e9-991b94f4f5ef",
   "metadata": {},
   "source": [
    "Let's load the data using `geopandas`:"
   ]
  },
  {
   "cell_type": "code",
   "execution_count": null,
   "id": "fd4deaf7-6ec9-4995-ab92-b0f29078fa92",
   "metadata": {},
   "outputs": [],
   "source": [
    "df_iris = gpd.read_file(\"CONTOURS-IRIS.shp\")\n",
    "df_iris.head()"
   ]
  },
  {
   "cell_type": "markdown",
   "id": "9f666670-0849-4c1e-977e-4f99a09c8f1b",
   "metadata": {},
   "source": [
    "As before, let's clean up the data set. We will need the following columns with the following readable names:\n",
    "- `INSEE_COM`: `municipality_id`\n",
    "- `CODE_IRIS`: `iris_id`\n",
    "- `geometry`\n",
    "\n",
    "**Task:** Set up the data set accordingly."
   ]
  },
  {
   "cell_type": "code",
   "execution_count": null,
   "id": "2eedd72d-5903-4a1d-803e-c6477e02ef37",
   "metadata": {},
   "outputs": [],
   "source": [
    "### Insert code here\n",
    "# ...\n",
    "\n",
    "df_iris = df_iris[[\"INSEE_COM\", \"CODE_IRIS\", \"geometry\"]].rename(columns = {\n",
    "    \"INSEE_COM\": \"municipality_id\", \"CODE_IRIS\": \"iris_id\"\n",
    "})"
   ]
  },
  {
   "cell_type": "markdown",
   "id": "93de557d-ffef-4aa7-b01c-a3283973fa27",
   "metadata": {},
   "source": [
    "**Task**: Calculate how many IRIS exist in France and how many municipalities are there:"
   ]
  },
  {
   "cell_type": "code",
   "execution_count": null,
   "id": "8858788d-2406-4060-afa4-9087b13f8b84",
   "metadata": {},
   "outputs": [],
   "source": [
    "len(df_iris[\"municipality_id\"].unique()), len(df_iris[\"iris_id\"].unique())"
   ]
  },
  {
   "cell_type": "markdown",
   "id": "94a3e575-e77f-483e-8207-5418c2d7b68c",
   "metadata": {},
   "source": [
    "You can try plotting all IRIS or all municipalities, but this will usually take a while with the standard Python tools. Let's plot only Paris:"
   ]
  },
  {
   "cell_type": "code",
   "execution_count": null,
   "id": "5f7a5c36-faf3-49db-ab32-5d35ba0b705b",
   "metadata": {},
   "outputs": [],
   "source": [
    "df_iris[df_iris[\"municipality_id\"].str.startswith(\"75\")].plot()"
   ]
  },
  {
   "cell_type": "markdown",
   "id": "ab81d6b3-ac5f-45e1-ad5d-2ae165f33468",
   "metadata": {},
   "source": [
    "**Task**: Only the spatial shapes are not really useful. We should attach some data to it. To simplify our life, let's create a data frame based on `df_iris` that only contains the municipality shapes `df_municipalities`.\n",
    "\n",
    "Hint: Check the `dissolve` method in `geopandas`."
   ]
  },
  {
   "cell_type": "code",
   "execution_count": null,
   "id": "c18e63d1-3554-49a7-9343-3770690c81e1",
   "metadata": {},
   "outputs": [],
   "source": [
    "### Insert code here\n",
    "# ...\n",
    "\n",
    "# df_municipalities = \n",
    "\n",
    "df_municipalities = df_iris.dissolve(\"municipality_id\").reset_index()"
   ]
  },
  {
   "cell_type": "markdown",
   "id": "edb44b04-4eed-4d98-822f-a684d7ca3d8f",
   "metadata": {},
   "source": [
    "**Task**: Plot all municipalities in the Essonne departmennt (91)."
   ]
  },
  {
   "cell_type": "code",
   "execution_count": null,
   "id": "1149cec8-2d8d-4483-bbef-4b46344147f2",
   "metadata": {},
   "outputs": [],
   "source": [
    "### Insert code here\n",
    "# ...\n",
    "\n",
    "df_municipalities[df_municipalities[\"municipality_id\"].str.startswith(\"91\")].plot()"
   ]
  },
  {
   "cell_type": "markdown",
   "id": "9a47ef5d-a2a5-44bd-b350-0d8aad4d9c09",
   "metadata": {},
   "source": [
    "The following list contains all departments in the Île-de-France region:"
   ]
  },
  {
   "cell_type": "code",
   "execution_count": null,
   "id": "76f18e40-40b6-4658-8b07-a676962ba883",
   "metadata": {},
   "outputs": [],
   "source": [
    "idf_departments = [\"75\", \"92\", \"93\", \"94\", \"95\", \"77\", \"91\", \"78\"]"
   ]
  },
  {
   "cell_type": "markdown",
   "id": "f005a4c1-97d1-4ed7-a5bc-20c741e15e82",
   "metadata": {},
   "source": [
    "**Task**: Show all municipalities in the Île-de-France region."
   ]
  },
  {
   "cell_type": "code",
   "execution_count": null,
   "id": "aaea671e-a037-4b43-88af-a330c526a41e",
   "metadata": {},
   "outputs": [],
   "source": [
    "### Insert code here\n",
    "# ...\n",
    "\n",
    "df_municipalities[\"department_id\"] = df_municipalities[\"municipality_id\"].str[:2]\n",
    "df_municipalities[df_municipalities[\"department_id\"].isin(idf_departments)].plot()"
   ]
  },
  {
   "cell_type": "markdown",
   "id": "3e60b1be-eabd-4ff4-a72a-9454d68df864",
   "metadata": {},
   "source": [
    "**Task**: Now we are ready to cross some information with the spatial data set:\n",
    "- Prepare a data set that contains the number of inhabitants per municipality (`municipality_id`, `inhabitants`)\n",
    "- Perform a merge between your municipality data frame and the inhabitant data frame\n",
    "- Provide the inhabitants column in the `plot` method"
   ]
  },
  {
   "cell_type": "code",
   "execution_count": null,
   "id": "eabe2efa-00d6-468e-8ccc-a2e7b1652ff7",
   "metadata": {},
   "outputs": [],
   "source": [
    "### Insert code here\n",
    "# ...\n",
    "\n",
    "df_inhabitants = df_census.groupby(\"municipality_id\")[\"weight\"].sum().reset_index(name = \"inhabitants\")\n",
    "pd.merge(df_municipalities, df_inhabitants).plot(\"inhabitants\")"
   ]
  },
  {
   "cell_type": "markdown",
   "id": "70d17846-f33e-40c8-b515-5ef348816b6f",
   "metadata": {},
   "source": [
    "**Task**: Plot a population map of Île-de-France with a legend (using `legend = True`)"
   ]
  },
  {
   "cell_type": "code",
   "execution_count": null,
   "id": "71473d86-d29a-4b19-b729-35bcb74f07a1",
   "metadata": {},
   "outputs": [],
   "source": [
    "### Insert code here\n",
    "# ...\n",
    "\n",
    "df_inhabitants = df_census.groupby(\"municipality_id\")[\"weight\"].sum().reset_index(name = \"inhabitants\")\n",
    "pd.merge(df_municipalities[df_municipalities[\"department_id\"].isin(idf_departments)], df_inhabitants).plot(\"inhabitants\")"
   ]
  },
  {
   "cell_type": "markdown",
   "id": "e36ee6f9-b480-440c-b347-bc39eefed4ee",
   "metadata": {},
   "source": [
    "Do you observe anything specific?"
   ]
  },
  {
   "cell_type": "markdown",
   "id": "1b186325-3a37-4df2-b95c-1faabae57a6e",
   "metadata": {},
   "source": [
    "## Aggregated population data"
   ]
  },
  {
   "cell_type": "markdown",
   "id": "aa7bf0d6-b1d2-42c2-85b2-2a2d94a131e3",
   "metadata": {},
   "source": [
    "To solve the issue, INSEE provides aggregated census data sets with less attributes but higher spatial availability. We will make use of a data set that indicates the total population and population per CSP over 15 years for every municipality in France:\n",
    "\n",
    "- The data is available at https://www.insee.fr/fr/statistiques/6543200\n",
    "- Download \"Population en 2019 - IRIS - France hors Mayotte\" in CSV format\n",
    "- Information on the variables is avaialble in \"Dictionnaire des variables\""
   ]
  },
  {
   "cell_type": "markdown",
   "id": "559569f1-91bc-4911-baaf-67774945ba5b",
   "metadata": {},
   "source": [
    "**Task**: Load the data set have a first look\n",
    "- Only load a couple of lines (`nrows=20`) to be sure that you don't exceed your memory\n",
    "- Look at the first few lines and check the explanation of the variables online\n",
    "- How can you obtain the population total per municipality from this data set?\n",
    "- How can you obtain the number of persons per CSP from this data set?"
   ]
  },
  {
   "cell_type": "code",
   "execution_count": null,
   "id": "e3c63415-dc7a-405b-8405-db685078dcad",
   "metadata": {},
   "outputs": [],
   "source": [
    "### Insert code here\n",
    "# ...\n",
    "\n",
    "df_population = pd.read_csv(\"base-ic-evol-struct-pop-2019.CSV\", sep = \";\", nrows = 20)\n",
    "df_population"
   ]
  },
  {
   "cell_type": "markdown",
   "id": "a9a4745c-b8c7-42ce-9593-96a3d0e557b2",
   "metadata": {},
   "source": [
    "**Task**: Transform the data set such that you have each municipality together with the population total and the total of each CSP:"
   ]
  },
  {
   "cell_type": "code",
   "execution_count": null,
   "id": "5a93cf66-36da-417b-ab5c-514b3c414007",
   "metadata": {},
   "outputs": [],
   "source": [
    "pd.DataFrame({ \"municipality_id\": [], \"population\": [], \"csp_1\": [], \"csp_2\": [], \"csp_3\": [], \"csp_...\": [] })"
   ]
  },
  {
   "cell_type": "markdown",
   "id": "91885d7b-a3be-44a4-b757-6f255d19bb04",
   "metadata": {},
   "source": [
    "Hint: The data set is given per IRIS."
   ]
  },
  {
   "cell_type": "code",
   "execution_count": null,
   "id": "c8760fa2-85a7-4efb-9260-f5bef01120b7",
   "metadata": {},
   "outputs": [],
   "source": [
    "### Insert code here\n",
    "# ...\n",
    "\n",
    "# df_population = ...\n",
    "\n",
    "df_population = pd.read_csv(\"base-ic-evol-struct-pop-2019.CSV\", sep = \";\", dtype = {\n",
    "    \"COM\": \"str\"\n",
    "}, usecols = [\"COM\", \"P19_POP\"] + [\"C19_POP15P_CS{}\".format(k) for k in range(1,9)])\n",
    "\n",
    "for k in range(1, 9):\n",
    "    df_population[\"csp_{}\".format(k)] = df_population[\"C19_POP15P_CS{}\".format(k)]\n",
    "    \n",
    "df_population = df_population[[\"COM\", \"P19_POP\"] + [\"csp_{}\".format(k) for k in range(1,9)]]\n",
    "df_population.columns = [\"municipality_id\", \"population\"] + [\"csp_{}\".format(k) for k in range(1,9)]\n",
    "df_population = df_population.groupby(\"municipality_id\").sum().reset_index()"
   ]
  },
  {
   "cell_type": "markdown",
   "id": "4eaa7863-f979-47a7-943a-aadd3065861d",
   "metadata": {},
   "source": [
    "**Task**: Repeat the task from above, create a map of the population in Île-de-France, but with the new data set."
   ]
  },
  {
   "cell_type": "code",
   "execution_count": null,
   "id": "6ca0eea6-db14-412d-91b3-d280c9a1d761",
   "metadata": {},
   "outputs": [],
   "source": [
    "### Insert code here\n",
    "# ...\n",
    "\n",
    "pd.merge(df_municipalities[df_municipalities[\"department_id\"].isin(idf_departments)], df_population).plot(\"population\")"
   ]
  },
  {
   "cell_type": "markdown",
   "id": "f69febde-c786-4619-b47e-94b8def42292",
   "metadata": {},
   "source": [
    "Save the cleaned population data, because we will need it again in a later exercise:"
   ]
  },
  {
   "cell_type": "code",
   "execution_count": null,
   "id": "ddae2e88-9027-464f-b858-9192286f408a",
   "metadata": {},
   "outputs": [],
   "source": [
    "df_population.to_parquet(\"population.parquet\")"
   ]
  },
  {
   "cell_type": "markdown",
   "id": "53185c35-f08a-4437-bbb5-014a95a133a0",
   "metadata": {},
   "source": [
    "Let's do the same with the municipalities spatial data set:"
   ]
  },
  {
   "cell_type": "code",
   "execution_count": null,
   "id": "7fc745f8-662b-497f-b470-1632bce1cef6",
   "metadata": {},
   "outputs": [],
   "source": [
    "df_municipalities.to_parquet(\"municipalities.parquet\")"
   ]
  },
  {
   "cell_type": "markdown",
   "id": "3f95e6e1-fb71-48f8-9577-ea467f11ec18",
   "metadata": {},
   "source": [
    "For mapping, Python can be useful to make a first draft, but there are more elaborate tools available. \n",
    "\n",
    "**Task**: Create a data frame in which the municipality data has been merged with the the population data set, i.e., we want all columns from the population data set and additionally the `geometry` column. Filter for all municipalities in Île-de-France. Save this data frame in GeoPackage format:"
   ]
  },
  {
   "cell_type": "code",
   "execution_count": null,
   "id": "0c11f50d-9ae6-4b21-be8c-fa963498b90d",
   "metadata": {},
   "outputs": [],
   "source": [
    "### Insert code here\n",
    "# ...\n",
    "\n",
    "# df_export = ...\n",
    "\n",
    "df_export = pd.merge(df_municipalities[df_municipalities[\"department_id\"].isin(\n",
    "    idf_departments\n",
    ")], df_population, on = \"municipality_id\")"
   ]
  },
  {
   "cell_type": "code",
   "execution_count": null,
   "id": "faa857c0-6ad3-453a-bfc6-47af9c29d905",
   "metadata": {},
   "outputs": [],
   "source": [
    "df_export.to_file(\"export.gpkg\")"
   ]
  },
  {
   "cell_type": "markdown",
   "id": "e2ce1791-26d3-4e83-8027-5cef4cddc2c5",
   "metadata": {},
   "source": [
    "**Exercise**: Explore the exported data using **QGIS**"
   ]
  },
  {
   "cell_type": "markdown",
   "id": "7b3f3a8f-4a0a-4d46-bf76-f360ba6a0e42",
   "metadata": {},
   "source": [
    "![](qgis.png)"
   ]
  },
  {
   "cell_type": "markdown",
   "id": "7865703c-257b-4c96-b06f-6695fe1ffa82",
   "metadata": {},
   "source": [
    "## Employment"
   ]
  },
  {
   "cell_type": "markdown",
   "id": "3d7b0640-7371-4141-90ab-082787002f01",
   "metadata": {},
   "source": [
    "In a later exercise, we will also need information on employment. Employment data per municipality is avaialble as open data from Urssaf.\n",
    "\n",
    "- Download the data from https://open.urssaf.fr/explore/dataset/etablissements-et-effectifs-salaries-au-niveau-commune-x-ape-last/information/\n",
    "- Go to \"Export\" and export the data as CSV"
   ]
  },
  {
   "cell_type": "markdown",
   "id": "42e11723-3c62-41c4-a152-f125d59a6e40",
   "metadata": {},
   "source": [
    "**Task**: As before, explore the data by first loading a few columns and understanding the content.\n",
    "\n",
    "Hint: To get a better overview of the available columns, try `df.columns`"
   ]
  },
  {
   "cell_type": "code",
   "execution_count": null,
   "id": "e5b9e384-5c36-45aa-82f6-182153956e3e",
   "metadata": {},
   "outputs": [],
   "source": [
    "### Insert code here\n",
    "# ...\n",
    "\n",
    "df_employment = pd.read_csv(\"etablissements-et-effectifs-salaries-au-niveau-commune-x-ape-last.csv\", nrows = 20, sep = \";\")\n",
    "df_employment.head()\n",
    "df_employment.columns"
   ]
  },
  {
   "cell_type": "markdown",
   "id": "0b480540-8771-4c46-ae66-04f84c327b2f",
   "metadata": {},
   "source": [
    "**Task**: Clean the data set such that you have a column indicating the municipality identifier and the number of emloyees in 2019 in that zone.\n",
    "\n",
    "Hint: The data frame is disaggregated over various economic sectors (NAF code), but we want the total!"
   ]
  },
  {
   "cell_type": "code",
   "execution_count": null,
   "id": "41c34b8a-b24c-4cb0-bdd8-9f169301abdc",
   "metadata": {},
   "outputs": [],
   "source": [
    "pd.DataFrame({ \"municipality_id\": [], \"emloyment\": [] })"
   ]
  },
  {
   "cell_type": "code",
   "execution_count": null,
   "id": "b86ad8d5-b34a-4560-9af1-a080ad758d76",
   "metadata": {},
   "outputs": [],
   "source": [
    "### Insert code here\n",
    "# ...\n",
    "\n",
    "# df_employment = ...\n",
    "\n",
    "df_employment = pd.read_csv(\"etablissements-et-effectifs-salaries-au-niveau-commune-x-ape-last.csv\", sep = \";\", \n",
    "    usecols = [\"code_commune\", \"effectifs_salaries_2019\"], dtype = { \"code_commune\": str })\n",
    "\n",
    "df_employment = df_employment.rename(columns = {\n",
    "    \"code_commune\": \"municipality_id\",\n",
    "    \"effectifs_salaries_2019\": \"employment\"\n",
    "})\n",
    "\n",
    "df_employment = df_employment.groupby(\"municipality_id\").sum().reset_index()\n",
    "\n",
    "df_employment.head()"
   ]
  },
  {
   "cell_type": "markdown",
   "id": "ed705d26-c020-45ed-8bc0-75b82cb20b41",
   "metadata": {},
   "source": [
    "**Task**: Plot a map of the number of employees in a department of your choice"
   ]
  },
  {
   "cell_type": "code",
   "execution_count": null,
   "id": "5bf82e97-9382-421b-9c75-30d4430bd9f1",
   "metadata": {},
   "outputs": [],
   "source": [
    "### Insert code here\n",
    "# ...\n",
    "\n",
    "pd.merge(df_municipalities[df_municipalities[\"department_id\"] == \"63\"], df_employment).plot(\"employment\")"
   ]
  },
  {
   "cell_type": "markdown",
   "id": "00051131-4135-4284-8d66-a1e58000a745",
   "metadata": {},
   "source": [
    "Let's save this data for later:"
   ]
  },
  {
   "cell_type": "code",
   "execution_count": null,
   "id": "47aa176e-bcb0-44c4-9f46-1d52e0651c30",
   "metadata": {},
   "outputs": [],
   "source": [
    "df_employment.to_parquet(\"employment.parquet\")"
   ]
  },
  {
   "cell_type": "markdown",
   "id": "4ac82869-c09a-4856-a794-345e98bedc19",
   "metadata": {},
   "source": [
    "## Commuting data"
   ]
  },
  {
   "cell_type": "markdown",
   "id": "eca5f00f-0afe-41af-9583-b2a83ba159b3",
   "metadata": {},
   "source": [
    "Finally, we will have a look at a more complex data set: commuting data. This data set is also available from INSEE and describes how many people living in a specific municipality in France to to any other municipality for work. This data set is known as *MOBPRO*.\n",
    "\n",
    "- Download the data from https://www.insee.fr/fr/statistiques/6456056\n",
    "- Download the data in CSV format"
   ]
  },
  {
   "cell_type": "markdown",
   "id": "068a8246-4a41-4fb4-98d6-86163a9be03f",
   "metadata": {},
   "source": [
    "**Task**: Load the data set with the following columns:\n",
    "- `COMMUNE` : `str`\n",
    "- `ARM` : `str`\n",
    "- `DCLT`: `str`\n",
    "- `IPONDI`: `float`\n",
    "- `TRANS`: `int`"
   ]
  },
  {
   "cell_type": "code",
   "execution_count": null,
   "id": "6208654c-d378-4072-a5af-d2c540b6301b",
   "metadata": {},
   "outputs": [],
   "source": [
    "### Insert code here\n",
    "# ...\n",
    "\n",
    "# df_commutes = ...\n",
    "\n",
    "columns = { \"COMMUNE\": str, \"ARM\": str, \"DCLT\": str, \"IPONDI\": float, \"TRANS\": int }\n",
    "df_commutes = pd.read_csv(\"RP2019_MOBPRO_csv/FD_MOBPRO_2019.csv\", dtype = columns, usecols = columns.keys(), sep = \";\")"
   ]
  },
  {
   "cell_type": "markdown",
   "id": "66f68d58-d45d-4f14-83f0-be86d05156d7",
   "metadata": {},
   "source": [
    "The MOBPRO data set is a bit particular with respect to the spatial identifiers. In fact, `DCLT` describes the destination of a commuters as a municipality identifier. In principle, this is also the case for `COMMUNE` which describes the origin. However, Paris, for instance, is encoded as `75056`, but the actual \"municipality\" (or arrondissement) is contained in `ARM`. If one knows this, there is an easy fix:"
   ]
  },
  {
   "cell_type": "code",
   "execution_count": null,
   "id": "4d26065d-e9e8-4121-bd33-80e492597b4c",
   "metadata": {},
   "outputs": [],
   "source": [
    "f = df_commutes[\"ARM\"] != \"ZZZZZ\"\n",
    "df_commutes.loc[f, \"COMMUNE\"] = df_commutes.loc[f, \"ARM\"]"
   ]
  },
  {
   "cell_type": "markdown",
   "id": "f7cb9a30-9b2d-4d90-8349-248aad092ee7",
   "metadata": {},
   "source": [
    "**Task**: Reformat the data frame so that we have the following format."
   ]
  },
  {
   "cell_type": "code",
   "execution_count": null,
   "id": "54090a26-645f-41aa-b4fa-c318a283804c",
   "metadata": {},
   "outputs": [],
   "source": [
    "pd.DataFrame({ \"origin_id\": [], \"destination_id\": [], \"weight\": [], \"transport_mode\": [] })"
   ]
  },
  {
   "cell_type": "code",
   "execution_count": null,
   "id": "e55152ec-22e7-4653-8a51-46b55b27c4ce",
   "metadata": {},
   "outputs": [],
   "source": [
    "### Insert code here\n",
    "# ...\n",
    "\n",
    "df_commutes = df_commutes.rename(columns = {\n",
    "    \"COMMUNE\": \"origin_id\", \"DCLT\": \"destination_id\", \"IPONDI\": \"weight\", \"TRANS\": \"transport_mode\"\n",
    "})[[\"origin_id\", \"destination_id\", \"weight\", \"transport_mode\"]]"
   ]
  },
  {
   "cell_type": "markdown",
   "id": "128d939c-fa93-421d-a78c-18f93025b1f6",
   "metadata": {},
   "source": [
    "**Task**: Plot a map showing how many people commute from Alfortville (94002) in the south of Paris to any other municipality in Île-de-France **by car**."
   ]
  },
  {
   "cell_type": "code",
   "execution_count": null,
   "id": "eb90ba69-621c-45c4-94c7-3b360d34507b",
   "metadata": {},
   "outputs": [],
   "source": [
    "### Insert code here\n",
    "# ...\n",
    "\n",
    "df = df_commutes[df_commutes[\"transport_mode\"] == 5]\n",
    "df = df[df_commutes[\"origin_id\"] == \"94002\"]\n",
    "df = df.groupby(\"destination_id\")[\"weight\"].sum().reset_index()\n",
    "df = df.rename(columns = { \"destination_id\": \"municipality_id\" })\n",
    "\n",
    "pd.merge(df_municipalities[df_municipalities[\"department_id\"].isin(idf_departments)], df).plot(\"weight\")"
   ]
  },
  {
   "cell_type": "markdown",
   "id": "2ff67755-e84e-4766-8462-16cb219a6f87",
   "metadata": {},
   "source": [
    "**Task**: Plot the same map but for commutes by **public transport**. What do you notice?"
   ]
  },
  {
   "cell_type": "code",
   "execution_count": null,
   "id": "a63cb7a8-9934-448d-bda6-29a00f987012",
   "metadata": {},
   "outputs": [],
   "source": [
    "### Insert code here\n",
    "# ...\n",
    "\n",
    "df = df_commutes[df_commutes[\"transport_mode\"] == 6]\n",
    "df = df[df[\"origin_id\"] == \"94002\"]\n",
    "df = df.groupby(\"destination_id\")[\"weight\"].sum().reset_index()\n",
    "df = df.rename(columns = { \"destination_id\": \"municipality_id\" })\n",
    "\n",
    "pd.merge(df_municipalities[df_municipalities[\"department_id\"].isin(idf_departments)], df).plot(\"weight\")"
   ]
  },
  {
   "cell_type": "markdown",
   "id": "ae19127f-1cdc-4787-82a2-e039fa7e13ff",
   "metadata": {},
   "source": [
    "**Task:** Aggregate the commuting data set further by removing the `transport_mode` column such that we only have the bare commuting flows as a weight between two municipalities. Then, save the data set as `commutes.parquet`, we will need it later on!"
   ]
  },
  {
   "cell_type": "code",
   "execution_count": null,
   "id": "88311e30-67da-4d42-9110-6144496d8489",
   "metadata": {},
   "outputs": [],
   "source": [
    "### Insert code here\n",
    "# ...\n",
    "\n",
    "df_commutes = df_commutes.groupby([\"origin_id\", \"destination_id\"])[\"weight\"].sum().reset_index()\n",
    "df_commutes.to_parquet(\"commutes.parquet\")"
   ]
  },
  {
   "cell_type": "markdown",
   "id": "7153ad3c-63f0-45d5-a12d-dcbc63dea908",
   "metadata": {},
   "source": [
    "**Congratulations!** You can now solve Exercise 1 of the course project."
   ]
  }
 ],
 "metadata": {
  "kernelspec": {
   "display_name": "Python 3 (ipykernel)",
   "language": "python",
   "name": "python3"
  },
  "language_info": {
   "codemirror_mode": {
    "name": "ipython",
    "version": 3
   },
   "file_extension": ".py",
   "mimetype": "text/x-python",
   "name": "python",
   "nbconvert_exporter": "python",
   "pygments_lexer": "ipython3",
   "version": "3.12.1"
  }
 },
 "nbformat": 4,
 "nbformat_minor": 5
}
