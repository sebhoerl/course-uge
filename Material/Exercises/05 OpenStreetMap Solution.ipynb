{
 "cells": [
  {
   "cell_type": "code",
   "execution_count": 1,
   "id": "8511778d-7d56-47f9-a4c5-041168186df1",
   "metadata": {},
   "outputs": [],
   "source": [
    "import numpy as np\n",
    "import pandas as pd\n",
    "import geopandas as gpd\n",
    "import matplotlib.pyplot as plt\n",
    "import shapely.geometry as sgeo\n",
    "%matplotlib inline"
   ]
  },
  {
   "cell_type": "markdown",
   "id": "7661f44d-fedb-48df-9257-6fb263304909",
   "metadata": {},
   "source": [
    "# OpenStreetMap\n",
    "\n",
    "In the previous exercise, we have generated a trip table with origin and destination coordinates. In this exercise, we will make use of OpenStreetMap data to route the individual trips on the networks and show which roads are used by the generated trips.\n",
    "\n",
    "The following steps will be followed:\n",
    "- We download OpenStreetMap data for Île-de-France\n",
    "- We use a tool called `osmosis` to out only the city of Paris (to speed up routing) and to bring the raw data in the right format\n",
    "- We make use of the library `osmnx` to prepare the network data for routing\n",
    "- We make use of the library to route all generated trips from the previous exercise on the network\n",
    "- We plot the flow along the road network that is created by the trips"
   ]
  },
  {
   "cell_type": "markdown",
   "id": "4c69ff30-3ec0-4b20-aa7c-9bf8529b0430",
   "metadata": {},
   "source": [
    "First, we load in the trip information and the municipality data:"
   ]
  },
  {
   "cell_type": "code",
   "execution_count": 2,
   "id": "40fe56cb-59d0-4f1f-859c-aaa3988bc4f8",
   "metadata": {},
   "outputs": [],
   "source": [
    "df_trips = gpd.read_parquet(\"trips.parquet\")\n",
    "df_municipalities = gpd.read_parquet(\"municipalities.parquet\")"
   ]
  },
  {
   "cell_type": "markdown",
   "id": "b8f94d1e-0b0a-4dfa-bc8d-98aed2daf352",
   "metadata": {},
   "source": [
    "**Task**: Filter the municipalities such that only Paris remains in the data set."
   ]
  },
  {
   "cell_type": "code",
   "execution_count": 3,
   "id": "94d603c6-74c3-41ee-bbfb-9987b47c142f",
   "metadata": {},
   "outputs": [],
   "source": [
    "### Insert code here\n",
    "# ...\n",
    "\n",
    "df_municipalities = df_municipalities[df_municipalities[\"municipality_id\"].str.startswith(\"75\")]"
   ]
  },
  {
   "cell_type": "markdown",
   "id": "48e616c0-7595-4e69-b6b5-28ec7e0a7ca8",
   "metadata": {},
   "source": [
    "## Preparing OpenStreetMap data\n",
    "\n",
    "In this part, we will download the OpenStreetMap data, and use `osmosis` to cut and convert it for further processing. Please follow the following steps."
   ]
  },
  {
   "cell_type": "markdown",
   "id": "f300227e-d491-4f91-b755-fde6fd960ffe",
   "metadata": {},
   "source": [
    "### Osmosis\n",
    "\n",
    "- Osmosis is a Java-based tool, so you will need to make sure that you have installed a recent Java runtime environment. If you don't have one installed, you may get, for instance, the Adopt OpenJDK: https://adoptopenjdk.net/releases.html\n",
    "\n",
    "- Next, you can download Osmosis from Github: https://github.com/openstreetmap/osmosis/releases/tag/0.49.2\n",
    "\n",
    "- When you unpack the archive, you should find a folder called `bin`, which contains the osmosis executable\n",
    "\n",
    "- On your command line, move into that folder and call `osmosis -v`. You should see some logging output.\n",
    "\n",
    "**Task**: Adjust the absolute path to the `osmosis` executable here:"
   ]
  },
  {
   "cell_type": "code",
   "execution_count": 4,
   "id": "041bc9aa-9149-4cf2-8e24-cd4a5bbd9649",
   "metadata": {},
   "outputs": [],
   "source": [
    "osmosis_path = \"osmosis\""
   ]
  },
  {
   "cell_type": "code",
   "execution_count": 5,
   "id": "c0561425-553f-43b3-82ec-519aaa646f28",
   "metadata": {},
   "outputs": [
    {
     "name": "stdout",
     "output_type": "stream",
     "text": [
      "Jan 22, 2024 8:48:44 PM org.openstreetmap.osmosis.core.Osmosis run\n",
      "INFO: Osmosis Version 0.49.2\n",
      "SLF4J: Failed to load class \"org.slf4j.impl.StaticLoggerBinder\".\n",
      "SLF4J: Defaulting to no-operation (NOP) logger implementation\n",
      "SLF4J: See http://www.slf4j.org/codes.html#StaticLoggerBinder for further details.\n",
      "Jan 22, 2024 8:48:45 PM org.openstreetmap.osmosis.core.TaskRegistrar loadJPFPlugins\n",
      "FINE: Searching for JPF plugins.\n",
      "Jan 22, 2024 8:48:45 PM org.openstreetmap.osmosis.core.TaskRegistrar loadJPFPlugins\n",
      "FINE: Registering the core plugin.\n",
      "Jan 22, 2024 8:48:45 PM org.openstreetmap.osmosis.core.TaskRegistrar loadJPFPlugins\n",
      "FINE: Registering the extension plugins.\n",
      "Jan 22, 2024 8:48:45 PM org.openstreetmap.osmosis.core.Osmosis run\n",
      "INFO: Preparing pipeline.\n",
      "Jan 22, 2024 8:48:45 PM org.openstreetmap.osmosis.core.pipeline.common.Pipeline prepare\n",
      "FINE: Building tasks.\n",
      "Jan 22, 2024 8:48:45 PM org.openstreetmap.osmosis.core.pipeline.common.Pipeline prepare\n",
      "FINE: Connecting tasks.\n",
      "Jan 22, 2024 8:48:45 PM org.openstreetmap.osmosis.core.Osmosis run\n",
      "INFO: Launching pipeline execution.\n",
      "Jan 22, 2024 8:48:45 PM org.openstreetmap.osmosis.core.Osmosis run\n",
      "INFO: Pipeline executing, waiting for completion.\n",
      "Jan 22, 2024 8:48:45 PM org.openstreetmap.osmosis.core.Osmosis run\n",
      "INFO: Pipeline complete.\n",
      "Jan 22, 2024 8:48:45 PM org.openstreetmap.osmosis.core.Osmosis run\n",
      "INFO: Total execution time: 162 milliseconds.\n"
     ]
    }
   ],
   "source": [
    "# Test if osmosis can be called from the notebook\n",
    "!{osmosis_path} -v"
   ]
  },
  {
   "cell_type": "markdown",
   "id": "3a7762e3-55df-45b9-bf44-6c7ff7df6ad8",
   "metadata": {},
   "source": [
    "### OpenStreetMap data\n",
    "\n",
    "The whole OpenStreetMap data set is large, so there are providers of smaller cut-outs. One useful source of such cut-outs is GeoFabrik, which provides per-region data sets for France: http://download.geofabrik.de/europe/france.html\n",
    "\n",
    "- Download the latest data for Île-de-France in `.osm.pbf` format and put the file next to this notebook."
   ]
  },
  {
   "cell_type": "markdown",
   "id": "fb630eb9-45c5-48b5-bcee-fe4aac67b134",
   "metadata": {},
   "source": [
    "### Preparing the perimeter\n",
    "\n",
    "We will use `osmosis` to cut the city of Paris from the Île-de-France data. However, `osmosis` only understands a certain format to define a perimeter (`.poly`).\n",
    "\n",
    "**Task**: First, `dissolve` your municipalities data frame and save it as `paris.gpkg`:"
   ]
  },
  {
   "cell_type": "code",
   "execution_count": 6,
   "id": "c9bd908f-e127-46da-8382-de4e090cca87",
   "metadata": {},
   "outputs": [],
   "source": [
    "### Insert code here\n",
    "# ...\n",
    "\n",
    "df_municipalities.to_file(\"paris.gpkg\")"
   ]
  },
  {
   "cell_type": "markdown",
   "id": "cf0048b3-82a6-4410-b2ac-143534a32e04",
   "metadata": {},
   "source": [
    "**Task**:\n",
    "- In the course material on Github, find a notebook in the `Material/Exercises/Code` folder that is called `Make Polygon.ipynb`.\n",
    "- Download it, have a look at it and use it to convert `paris.gpkg` into `paris.poly`."
   ]
  },
  {
   "cell_type": "markdown",
   "id": "ce97c97b-11bc-4df0-affd-7e2114ea982a",
   "metadata": {},
   "source": [
    "You should now have the `paris.poly` file next to this notebook."
   ]
  },
  {
   "cell_type": "markdown",
   "id": "02339562-ecd9-4dbc-8e4e-b85af569cd52",
   "metadata": {},
   "source": [
    "### Cutting the perimeter\n",
    "\n",
    "Now we make use of `osmosis` to generate a smaller OSM cut-out that only covers Paris. Along the way, we instruct `osmosis` to\n",
    "- Filter out everything that is not a road (\"highway\" in OSM speak) and a road within a certain hierachy level\n",
    "- Filter out everything that is not within `paris.poly`\n",
    "- Write the output into a new file called `paris.osm`\n",
    "\n",
    "**Task**: Run the following command to do so. The processing will take a while:"
   ]
  },
  {
   "cell_type": "code",
   "execution_count": 7,
   "id": "70e99e55-a75e-4f1f-a1ed-404f0d70d2cf",
   "metadata": {},
   "outputs": [
    {
     "name": "stdout",
     "output_type": "stream",
     "text": [
      "Jan 22, 2024 8:48:45 PM org.openstreetmap.osmosis.core.Osmosis run\n",
      "INFO: Osmosis Version 0.49.2\n",
      "SLF4J: Failed to load class \"org.slf4j.impl.StaticLoggerBinder\".\n",
      "SLF4J: Defaulting to no-operation (NOP) logger implementation\n",
      "SLF4J: See http://www.slf4j.org/codes.html#StaticLoggerBinder for further details.\n",
      "Jan 22, 2024 8:48:45 PM org.openstreetmap.osmosis.core.Osmosis run\n",
      "INFO: Preparing pipeline.\n",
      "Jan 22, 2024 8:48:45 PM org.openstreetmap.osmosis.core.Osmosis run\n",
      "INFO: Launching pipeline execution.\n",
      "Jan 22, 2024 8:48:45 PM org.openstreetmap.osmosis.core.Osmosis run\n",
      "INFO: Pipeline executing, waiting for completion.\n",
      "Jan 22, 2024 8:51:01 PM org.openstreetmap.osmosis.core.Osmosis run\n",
      "INFO: Pipeline complete.\n",
      "Jan 22, 2024 8:51:01 PM org.openstreetmap.osmosis.core.Osmosis run\n",
      "INFO: Total execution time: 135574 milliseconds.\n"
     ]
    }
   ],
   "source": [
    "!{osmosis_path} --read-pbf ile-de-france-latest.osm.pbf \\\n",
    "    --tag-filter accept-ways highway=motorway,motorway_link,trunk,trunk_link,primary,primary_link,secondary,secondary_link,tertiary,tertiary_link,residential,residential_link \\\n",
    "    --bounding-polygon file=paris.poly completeWays=yes \\\n",
    "    --used-node --write-xml paris.osm"
   ]
  },
  {
   "cell_type": "markdown",
   "id": "da621681-33f1-4c38-95a1-af10936b5d03",
   "metadata": {},
   "source": [
    "**Congratulations!** You should now be able to cut a road network for the course project (Exercise 3.3)."
   ]
  },
  {
   "cell_type": "markdown",
   "id": "6786478f-465b-41a7-b186-160988382ba6",
   "metadata": {},
   "source": [
    "## Bonus: Loading the OpenStreetMap data\n",
    "\n",
    "We are now ready to read the data and make use of it in this notebook. For that, we make use of the `osmnx` library."
   ]
  },
  {
   "cell_type": "markdown",
   "id": "372a00c9-f649-4c37-afe4-7a7aff3c1d0c",
   "metadata": {},
   "source": [
    "Note: During the course, you may also start from the following file for the following sections: [Download](https://drive.google.com/file/d/1eXhJGNnQaP93CgXevxFx1cSqR8IB6s_n/view?usp=sharing)"
   ]
  },
  {
   "cell_type": "code",
   "execution_count": 8,
   "id": "7df1095b-8ce5-41b3-bc8f-1d0dea75cd34",
   "metadata": {},
   "outputs": [],
   "source": [
    "import osmnx as ox\n",
    "import networkx as nx"
   ]
  },
  {
   "cell_type": "markdown",
   "id": "e944c3be-e367-4d28-8e1b-16b4b60e75a8",
   "metadata": {},
   "source": [
    "First, we load the data into memory:"
   ]
  },
  {
   "cell_type": "code",
   "execution_count": 9,
   "id": "51d2208f-b5c0-450b-962e-5067f4643b17",
   "metadata": {},
   "outputs": [],
   "source": [
    "graph = ox.graph_from_xml(\"paris.osm\")"
   ]
  },
  {
   "cell_type": "markdown",
   "id": "59a2455a-055e-4a77-83e4-afb088857ba2",
   "metadata": {},
   "source": [
    "Second, we perform various clean-ups that will allow us to use the data as a consistent, connected routing network:"
   ]
  },
  {
   "cell_type": "code",
   "execution_count": 10,
   "id": "7bf185e1-66e0-4f78-b693-67e3a31c08f0",
   "metadata": {},
   "outputs": [],
   "source": [
    "# Self-loop edges\n",
    "self_loop_edges = list(nx.selfloop_edges(graph))\n",
    "graph.remove_edges_from(self_loop_edges)\n",
    "\n",
    "# Isolated nodes\n",
    "graph = ox.utils_graph.remove_isolated_nodes(graph)\n",
    "\n",
    "# Find strongly connected component\n",
    "graph = ox.utils_graph.get_largest_component(graph, strongly = True)\n",
    "\n",
    "# Speeds and travel times\n",
    "graph = ox.add_edge_speeds(graph)\n",
    "graph = ox.add_edge_travel_times(graph)"
   ]
  },
  {
   "cell_type": "markdown",
   "id": "5250e581-04c8-4bad-be81-6f2e9eb54d5a",
   "metadata": {},
   "source": [
    "Third, we obtain a network and clean the data frame to only retain the geometry and the identifiers. Each *edge* in the network is defined through a start *node* and an end *node*."
   ]
  },
  {
   "cell_type": "code",
   "execution_count": 11,
   "id": "d1775729-38e4-4891-8015-56ecb74c50b5",
   "metadata": {},
   "outputs": [],
   "source": [
    "df_edges = ox.graph_to_gdfs(graph, edges = True, nodes = False)\n",
    "df_edges = df_edges.reset_index()[[\"u\", \"v\", \"highway\", \"geometry\"]]\n",
    "df_edges[\"highway\"] = df_edges[\"highway\"].astype(str)"
   ]
  },
  {
   "cell_type": "markdown",
   "id": "0dab8fed-cd26-4b3c-9628-0c3e1ae9d713",
   "metadata": {},
   "source": [
    "**Task**: Save the data frame as `paris_network.gpkg` and view it in QGIS. You can use the `highway` attribute to show different road types in different colors."
   ]
  },
  {
   "cell_type": "code",
   "execution_count": 12,
   "id": "58d42cf7-c537-4b8a-927c-38b1e5d5437f",
   "metadata": {},
   "outputs": [],
   "source": [
    "### Insert code here\n",
    "# ...\n",
    "\n",
    "df_edges.to_file(\"paris_network.gpkg\")"
   ]
  },
  {
   "cell_type": "markdown",
   "id": "3cd55b35-aab8-4020-8b0e-5b0fa17bdbe9",
   "metadata": {},
   "source": [
    "Fourth, we need to translate our coordinates (origin and destination) into *nodes* of the routing network. We use `osmnx.nearest_nodes` to do so, but we need to take into account the *geographic projection* of our data:"
   ]
  },
  {
   "cell_type": "code",
   "execution_count": 13,
   "id": "7788920f-24d3-461a-9f8d-3108bbb6fc4e",
   "metadata": {},
   "outputs": [],
   "source": [
    "# add origin_node column to our data frame\n",
    "geometry = df_trips[\"origin_geometry\"].to_crs(\"EPSG:4326\")\n",
    "df_trips[\"origin_node\"] = ox.nearest_nodes(graph, geometry.x, geometry.y)\n",
    "\n",
    "# add destination_node column to our data frame\n",
    "geometry = df_trips[\"destination_geometry\"].to_crs(\"EPSG:4326\")\n",
    "df_trips[\"destination_node\"] = ox.nearest_nodes(graph, geometry.x, geometry.y)"
   ]
  },
  {
   "cell_type": "markdown",
   "id": "3e344208-7f55-4f85-8189-2efdd7ab2a84",
   "metadata": {},
   "source": [
    "Fifth, we use `osmnx.shortest_path` to find all shortest paths between the origin nodes and the destination nodes row by row. You may start with a smaller number of $N$ to only route a certain number of trips to speed up the process."
   ]
  },
  {
   "cell_type": "code",
   "execution_count": 14,
   "id": "d5a9a9fd-04d3-4736-b25e-6ecb18b7c4e4",
   "metadata": {},
   "outputs": [],
   "source": [
    "N = 20 # len(df_trips)\n",
    "\n",
    "routes = ox.shortest_path(\n",
    "    graph, df_trips[\"origin_node\"].iloc[:N], df_trips[\"destination_node\"].iloc[:N], weight = \"travel_time\"\n",
    ")"
   ]
  },
  {
   "cell_type": "markdown",
   "id": "42f4c272-a517-4a1d-86d0-93600f9dabc8",
   "metadata": {},
   "source": [
    "We have now obtained a list of routes, one for each trip. A route is simply a list of nodes. By always noting down one node in a route, and its successor, we can obtain a data frame that counts the number of traversals of each edge:"
   ]
  },
  {
   "cell_type": "code",
   "execution_count": 15,
   "id": "b0ab088c-bca6-43e7-8adb-adef01b65fa8",
   "metadata": {},
   "outputs": [
    {
     "data": {
      "text/html": [
       "<div>\n",
       "<style scoped>\n",
       "    .dataframe tbody tr th:only-of-type {\n",
       "        vertical-align: middle;\n",
       "    }\n",
       "\n",
       "    .dataframe tbody tr th {\n",
       "        vertical-align: top;\n",
       "    }\n",
       "\n",
       "    .dataframe thead th {\n",
       "        text-align: right;\n",
       "    }\n",
       "</style>\n",
       "<table border=\"1\" class=\"dataframe\">\n",
       "  <thead>\n",
       "    <tr style=\"text-align: right;\">\n",
       "      <th></th>\n",
       "      <th>u</th>\n",
       "      <th>v</th>\n",
       "      <th>count</th>\n",
       "    </tr>\n",
       "  </thead>\n",
       "  <tbody>\n",
       "    <tr>\n",
       "      <th>135</th>\n",
       "      <td>15859483</td>\n",
       "      <td>382052</td>\n",
       "      <td>4</td>\n",
       "    </tr>\n",
       "    <tr>\n",
       "      <th>158</th>\n",
       "      <td>21648537</td>\n",
       "      <td>361045</td>\n",
       "      <td>3</td>\n",
       "    </tr>\n",
       "    <tr>\n",
       "      <th>307</th>\n",
       "      <td>6198634678</td>\n",
       "      <td>644147</td>\n",
       "      <td>3</td>\n",
       "    </tr>\n",
       "    <tr>\n",
       "      <th>308</th>\n",
       "      <td>6225709029</td>\n",
       "      <td>361715</td>\n",
       "      <td>3</td>\n",
       "    </tr>\n",
       "    <tr>\n",
       "      <th>64</th>\n",
       "      <td>644145</td>\n",
       "      <td>6198634678</td>\n",
       "      <td>3</td>\n",
       "    </tr>\n",
       "  </tbody>\n",
       "</table>\n",
       "</div>"
      ],
      "text/plain": [
       "              u           v  count\n",
       "135    15859483      382052      4\n",
       "158    21648537      361045      3\n",
       "307  6198634678      644147      3\n",
       "308  6225709029      361715      3\n",
       "64       644145  6198634678      3"
      ]
     },
     "execution_count": 15,
     "metadata": {},
     "output_type": "execute_result"
    }
   ],
   "source": [
    "df_count = { \"u\": [], \"v\": [] }\n",
    "\n",
    "for route in routes:\n",
    "    for k in range(1, len(route)):\n",
    "        df_count[\"u\"].append(route[k - 1])\n",
    "        df_count[\"v\"].append(route[k])\n",
    "\n",
    "df_count = pd.DataFrame(df_count)\n",
    "df_count = df_count.groupby([\"u\", \"v\"]).size().reset_index(name = \"count\")\n",
    "\n",
    "df_count.sort_values(by = \"count\", ascending = False).head()"
   ]
  },
  {
   "cell_type": "markdown",
   "id": "60d02a7b-dc2f-4867-a2e8-d6cf08242540",
   "metadata": {},
   "source": [
    "Now we can create a geographic data frame that contains the network, and we merge the counts on top:"
   ]
  },
  {
   "cell_type": "code",
   "execution_count": 16,
   "id": "7d625236-8358-400c-88ea-7bc6f48c8dc1",
   "metadata": {},
   "outputs": [],
   "source": [
    "df_count = pd.merge(df_edges, df_count, on = [\"u\", \"v\"])"
   ]
  },
  {
   "cell_type": "markdown",
   "id": "895a5def-b45d-4238-8481-f32cb465b441",
   "metadata": {},
   "source": [
    "**Task**: Plot the network using the `count` column in this notebook or in QGIS."
   ]
  },
  {
   "cell_type": "code",
   "execution_count": 17,
   "id": "d2d29c43-5e2c-4821-a744-bded650f0be8",
   "metadata": {},
   "outputs": [
    {
     "data": {
      "text/plain": [
       "<Axes: >"
      ]
     },
     "execution_count": 17,
     "metadata": {},
     "output_type": "execute_result"
    },
    {
     "data": {
      "image/png": "[encoded data removed]",
      "text/plain": [
       "<Figure size 640x480 with 2 Axes>"
      ]
     },
     "metadata": {},
     "output_type": "display_data"
    }
   ],
   "source": [
    "### Insert code here\n",
    "# ...\n",
    "\n",
    "df_count.plot(\"count\", legend = True)"
   ]
  }
 ],
 "metadata": {
  "kernelspec": {
   "display_name": "Python 3 (ipykernel)",
   "language": "python",
   "name": "python3"
  },
  "language_info": {
   "codemirror_mode": {
    "name": "ipython",
    "version": 3
   },
   "file_extension": ".py",
   "mimetype": "text/x-python",
   "name": "python",
   "nbconvert_exporter": "python",
   "pygments_lexer": "ipython3",
   "version": "3.12.1"
  }
 },
 "nbformat": 4,
 "nbformat_minor": 5
}
