{
 "cells": [
  {
   "cell_type": "code",
   "execution_count": null,
   "id": "5890628d-71ba-4cbf-9dd6-13534aae4d5c",
   "metadata": {},
   "outputs": [],
   "source": [
    "import numpy as np\n",
    "import pandas as pd\n",
    "import geopandas as gpd\n",
    "import plotly.express as px\n",
    "import os\n",
    "import numpy.linalg as la\n",
    "\n",
    "import sklearn.linear_model\n",
    "\n",
    "import matplotlib.pyplot as plt\n",
    "%matplotlib inline"
   ]
  },
  {
   "cell_type": "markdown",
   "id": "d2448cf2-082f-49a3-9cc5-42f351cb0de8",
   "metadata": {},
   "source": [
    "# Trip distribution"
   ]
  },
  {
   "cell_type": "markdown",
   "id": "96345766-dee9-4f25-bf09-7d7ef24e3ecd",
   "metadata": {},
   "source": [
    "The purpose of this notebook is to learn how to work with simple gravity models for trip distribution."
   ]
  },
  {
   "cell_type": "markdown",
   "id": "b74c3ac6-03c8-4361-97d0-ee8edc6e0804",
   "metadata": {},
   "source": [
    "First, let's load the population, commuting, and municipality data from the first exercise:"
   ]
  },
  {
   "cell_type": "code",
   "execution_count": null,
   "id": "3cadca96-b0a0-4521-92a2-048b3c039fd5",
   "metadata": {},
   "outputs": [],
   "source": [
    "df_employment = pd.read_parquet(\"employment.parquet\")\n",
    "df_commutes = pd.read_parquet(\"commutes.parquet\")\n",
    "\n",
    "# geopandas\n",
    "df_municipalities = gpd.read_parquet(\"municipalities.parquet\")"
   ]
  },
  {
   "cell_type": "markdown",
   "id": "a5472369-1850-4f02-acfb-4c93722b2bf3",
   "metadata": {},
   "source": [
    "**Task**: As before, reduce all data sets to the area of Île-de-France."
   ]
  },
  {
   "cell_type": "code",
   "execution_count": null,
   "id": "a648ff61-9537-40fe-a28c-df2c613a5f15",
   "metadata": {},
   "outputs": [],
   "source": [
    "idf_departments = [\"75\", \"92\", \"93\", \"94\", \"95\", \"77\", \"91\", \"78\"]"
   ]
  },
  {
   "cell_type": "code",
   "execution_count": null,
   "id": "cc4141fe-e58d-47c7-9237-efe9b71df885",
   "metadata": {},
   "outputs": [],
   "source": [
    "# Insert code here ...\n",
    "# ...\n"
   ]
  },
  {
   "cell_type": "markdown",
   "id": "0e29c15a-4363-4ab8-8810-6a3e18caa833",
   "metadata": {},
   "source": [
    "**Task**: Keeping track of the order of the data will be important. Set up a fixed list of municipalities and adjust the indices of all data sets. Especially, take care of the commuting data set.\n",
    "\n",
    "Hint: Make use of `pd.MultiIndex.from_product`"
   ]
  },
  {
   "cell_type": "code",
   "execution_count": null,
   "id": "8ca52964-8783-4417-b5b8-90651ac8213a",
   "metadata": {},
   "outputs": [],
   "source": [
    "# Insert code here ...\n",
    "# ...\n",
    "\n",
    "# municipalities = \n",
    "\n",
    "# df_emloyment = \n",
    "# df_commutes = \n"
   ]
  },
  {
   "cell_type": "markdown",
   "id": "fd7d6880-9a63-471a-8004-21e1fae40e34",
   "metadata": {},
   "source": [
    "Have a look at your data sets after reindexing, do you notice anything special?"
   ]
  },
  {
   "cell_type": "markdown",
   "id": "87ace94f-d378-4a31-b7cf-492b54011b03",
   "metadata": {},
   "source": [
    "**Task**: How many flow values can we theoretically have (between all zones) in Île-de-France? For how many do we have actual values?"
   ]
  },
  {
   "cell_type": "code",
   "execution_count": null,
   "id": "460fe7c2-0cf6-45e0-9887-ac87562ce91a",
   "metadata": {},
   "outputs": [],
   "source": [
    "# Insert code here ...\n",
    "# ...\n"
   ]
  },
  {
   "cell_type": "markdown",
   "id": "e7f7f61a-a0b0-4369-868c-3475f0c61b6d",
   "metadata": {},
   "source": [
    "**Task**: Replace missing values by zero (zero commuters)."
   ]
  },
  {
   "cell_type": "code",
   "execution_count": null,
   "id": "8e7371a1-b967-4417-b56f-ef3383d9e5ea",
   "metadata": {},
   "outputs": [],
   "source": [
    "# Insert code here ...\n",
    "# ...\n"
   ]
  },
  {
   "cell_type": "markdown",
   "id": "3e987578-6c14-48f3-9efb-1e1967e09d74",
   "metadata": {},
   "source": [
    "## Friction term"
   ]
  },
  {
   "cell_type": "markdown",
   "id": "26cfed4c-fd72-4ae7-8330-619a8face9df",
   "metadata": {},
   "source": [
    "The first step in setting up our model is to obtain the friction term."
   ]
  },
  {
   "cell_type": "markdown",
   "id": "b3b5e53d-9be6-4ebc-a670-94e692f5b378",
   "metadata": {},
   "source": [
    "**Task**: The gravity model puts into relation different places in the study area. The friction term describes how easy it is to reach one municipality from another one. The first step is, therefore, to obtain the distances between all zones. Complete the following code to set up a distance matrix `distance_matrix`."
   ]
  },
  {
   "cell_type": "code",
   "execution_count": null,
   "id": "0f5ad2c2-a00f-46e7-b419-192af2b79759",
   "metadata": {},
   "outputs": [],
   "source": [
    "centroids = df_municipalities[\"geometry\"].centroid\n",
    "centroids = np.array([centroids.x, centroids.y] ).T\n",
    "\n",
    "distance_matrix = np.zeros((len(municipalities), len(municipalities)))\n",
    "\n",
    "for k in range(len(municipalities)):\n",
    "    ###  Insert code here\n",
    "    # ...\n",
    "    \n",
    "    # distance_matrix[k,:] = # Calculate the Euclidean distance, you may also try numpy.linalg.norm\n",
    "    "
   ]
  },
  {
   "cell_type": "markdown",
   "id": "cf31c994-bfe3-4bbb-bf3a-ba153a316503",
   "metadata": {},
   "source": [
    "**Task:** Plot the distance matrix (it may take a while) using `matplotlib`'s `pcolor`."
   ]
  },
  {
   "cell_type": "code",
   "execution_count": null,
   "id": "2f36613a-6ed5-4789-a8e2-9eb4f612c0e6",
   "metadata": {},
   "outputs": [],
   "source": [
    "# Insert code here ...\n",
    "# ...\n"
   ]
  },
  {
   "cell_type": "markdown",
   "id": "75aab2bd-050d-44f5-9421-ba84326f4e8a",
   "metadata": {},
   "source": [
    "**Task**: Analogously to the distance matrix, we need a flow matrix indicating all observed movements (`weight`) between all zones. Obtain this matrix by transforming the commuting data set into a matrix.\n",
    "\n",
    "Hint: Have a look at `numpy.ndarray.reshape`"
   ]
  },
  {
   "cell_type": "code",
   "execution_count": null,
   "id": "87161748-b23b-4262-bc3c-ea4ea22985b7",
   "metadata": {},
   "outputs": [],
   "source": [
    "# Insert code here ...\n",
    "# ...\n",
    "\n",
    "# flow_matrix = \n"
   ]
  },
  {
   "cell_type": "markdown",
   "id": "3ee370d5-f567-4dce-b873-de750015a50a",
   "metadata": {},
   "source": [
    "**Task**: Now we obtain the data to set up the friction model:\n",
    "- Bin the distances into about twenty distance bins and sum up the commuters you find in each distance bin\n",
    "- Plot how much flow occurs at every distance bin"
   ]
  },
  {
   "cell_type": "code",
   "execution_count": null,
   "id": "1f4193e8-0f7e-4977-9e17-8fb07dfd55fd",
   "metadata": {},
   "outputs": [],
   "source": [
    "df_friction = pd.DataFrame({\n",
    "    \"distance\": distance_matrix.flatten(),\n",
    "    \"flow\": flow_matrix.flatten()\n",
    "})\n",
    "\n",
    "distance_classes = np.arange(20) * 5000\n",
    "\n",
    "# Hint: Check numpy.digitize\n",
    "\n",
    "# Insert code here ...\n",
    "# ...\n"
   ]
  },
  {
   "cell_type": "markdown",
   "id": "0de3cb9f-32b9-450c-b1d7-14d0972324c5",
   "metadata": {},
   "source": [
    "**Task**: Now divide the obtained flow in each bin by the total flow, to obtain an empirical probability density function (pdf). Plot the function in absolute coordinates and with the probability logarithmized. What do you observe?"
   ]
  },
  {
   "cell_type": "code",
   "execution_count": null,
   "id": "0cf35ccf-bc4c-481f-805f-bae23ffaa11a",
   "metadata": {},
   "outputs": [],
   "source": [
    "# Insert code here ...\n",
    "# ...\n",
    "\n",
    "# pdf = \n"
   ]
  },
  {
   "cell_type": "markdown",
   "id": "dc7bf7fa-fcd3-4354-a325-6198fc629063",
   "metadata": {},
   "source": [
    "**Task**: In logarithmic space, manually (or automatically, if you like), fit a linear function on the graph that you see."
   ]
  },
  {
   "cell_type": "code",
   "execution_count": null,
   "id": "9104531f-0767-4526-994e-75e80c7712e7",
   "metadata": {},
   "outputs": [],
   "source": [
    "# Insert code here ...\n",
    "# ...\n",
    "\n",
    "# a = ?\n",
    "# b = ?\n",
    "\n",
    "# logy = a + b * np.log(pdf)\n"
   ]
  },
  {
   "cell_type": "markdown",
   "id": "5f0c13a0-5f11-451a-ba5f-15ab2f1c414d",
   "metadata": {},
   "source": [
    "**Task**: Now plot the initial data along with your fitted curve in linear space. How does you friction model look like?"
   ]
  },
  {
   "cell_type": "code",
   "execution_count": null,
   "id": "31a52435-cf8d-4ed9-bc64-476ab1ab2a92",
   "metadata": {},
   "outputs": [],
   "source": [
    "# Insert code here ...\n",
    "# ...\n"
   ]
  },
  {
   "cell_type": "markdown",
   "id": "1831f10c-0766-4fcb-8356-cd2684bbd5b2",
   "metadata": {},
   "source": [
    "**Task**: Based on your distance matrix and your friction model, calculate a friction matrix:"
   ]
  },
  {
   "cell_type": "code",
   "execution_count": null,
   "id": "4619189e-509b-43d9-8ae8-b196ce0532df",
   "metadata": {},
   "outputs": [],
   "source": [
    "# Insert code here ...\n",
    "# ...\n",
    "\n",
    "# friction_matrix = \n"
   ]
  },
  {
   "cell_type": "markdown",
   "id": "4060d784-1910-46cf-b076-aeed6ac6f7c0",
   "metadata": {},
   "source": [
    "## Single-constrained gravity model"
   ]
  },
  {
   "cell_type": "markdown",
   "id": "1ad1c558-cd7c-4550-9c98-2b12ecd6ae6d",
   "metadata": {},
   "source": [
    "Based on the friction model, it is now possible to set up a single-constrained gravity model."
   ]
  },
  {
   "cell_type": "markdown",
   "id": "bd0a24ad-144b-4112-9656-3865f7a7dceb",
   "metadata": {},
   "source": [
    "As in the example during the lecture, we assume the following attraction model:\n",
    "\n",
    "$$\n",
    "A_i = w_i^\\lambda\n",
    "$$\n",
    "\n",
    "with $w_i$ being the employment in zone $i$ and $\\lambda$ the parmeter we need to obtain."
   ]
  },
  {
   "cell_type": "markdown",
   "id": "418a7b04-df65-4c0c-ad74-56b330fe320e",
   "metadata": {},
   "source": [
    "**Task**: For a parameter of $\\lambda = 0.5$ calculate the attraction term. Treat NaN values as \"no emloyment\" (= 0)."
   ]
  },
  {
   "cell_type": "code",
   "execution_count": null,
   "id": "a77d983b-3e80-4d0d-876d-03e87723b090",
   "metadata": {},
   "outputs": [],
   "source": [
    "# Insert code here ...\n",
    "# ...\n",
    "\n",
    "# attraction = \n"
   ]
  },
  {
   "cell_type": "markdown",
   "id": "98418987-7162-4f23-89ff-bac019456886",
   "metadata": {},
   "source": [
    "**Task**: The single-constrained gravity model is defined as\n",
    "\n",
    "$$\n",
    "F_{ij} = \\frac{A_j \\cdot \\rho_{ij}}{\\sum_j A_j \\cdot \\rho_{ij}} O_i\n",
    "$$\n",
    "\n",
    "The friction term $\\rho_{ij}$ is already known in our example. $A_j$ has been calculated in the last task for one specific parameter $\\lambda$. As the next exercise, calculate $F_{ij}$ according to the formula above."
   ]
  },
  {
   "cell_type": "code",
   "execution_count": null,
   "id": "d20aacce-e8be-455f-b9ff-b6f6c31eb537",
   "metadata": {},
   "outputs": [],
   "source": [
    "origins = np.sum(flow_matrix, axis = 1)\n",
    "\n",
    "F = np.zeros((len(municipalities), len(municipalities)))\n",
    "\n",
    "# Insert code here ...\n",
    "# ...\n",
    "\n",
    "#for i in range(len(municipalities)):\n",
    "    # nominator =\n",
    "    # denominator =\n",
    "\n",
    "    # F[i,:] = \n"
   ]
  },
  {
   "cell_type": "markdown",
   "id": "03434196-f2db-4ac9-9bb0-bcac75a778a2",
   "metadata": {},
   "source": [
    "**Task**: Create a scatter plot where you compare the obtained flows $F_{ij}$ with the reference flows. Think about how to reshape the matrix."
   ]
  },
  {
   "cell_type": "code",
   "execution_count": null,
   "id": "526f7748-3e16-4312-a540-2986c45f41f2",
   "metadata": {},
   "outputs": [],
   "source": [
    "df_comparison = df_commutes.copy()\n",
    "\n",
    "# Insert code here ...\n",
    "# ...\n"
   ]
  },
  {
   "cell_type": "markdown",
   "id": "06b0d733-18b7-4c8a-b2e5-66ca4666742c",
   "metadata": {},
   "source": [
    "**Task**: Now wrap the code of the last cells in a loop and test various values for $\\lambda$. Plot the difference with the reference data $\\sum_{ij} (F_{ij} - \\hat F_{ij})^2$ as a function of $\\lambda$"
   ]
  },
  {
   "cell_type": "code",
   "execution_count": null,
   "id": "1f842dd2-e75b-40ba-a5db-cb05c44a7175",
   "metadata": {},
   "outputs": [],
   "source": [
    "# Insert code here ...\n",
    "# ...\n",
    "\n",
    "# lambdas = np.linspace(0.1, 2.0, 10)\n",
    "# objectives = []\n",
    "\n",
    "# for lbda in lambdas:\n",
    "    # ...\n"
   ]
  },
  {
   "cell_type": "markdown",
   "id": "fed07258-96e4-4249-8291-bd93aff1a2f5",
   "metadata": {},
   "source": [
    "**Task**: Using the obtained parameter, calculate the resulting flow matrix from your model, then perform a scatter plot again to see the model fit. "
   ]
  },
  {
   "cell_type": "code",
   "execution_count": null,
   "id": "9c697d5b-04be-42c9-8eab-4328e7f4a08b",
   "metadata": {},
   "outputs": [],
   "source": [
    "# Insert code here ...\n",
    "# ...\n"
   ]
  },
  {
   "cell_type": "markdown",
   "id": "0e532fa7-8214-4fc6-ab3f-2188e2916187",
   "metadata": {},
   "source": [
    "What do you observe? Which municipalities could be the outliers on the bottom?"
   ]
  },
  {
   "cell_type": "markdown",
   "id": "eeb6f2eb-5f01-4a19-8915-cde999ab45a9",
   "metadata": {},
   "source": [
    "**Task**: Provide the same plot and color the flows in red which go from one municipality to itself."
   ]
  },
  {
   "cell_type": "code",
   "execution_count": null,
   "id": "e91829b4-9cfe-4129-937a-302dc78e2cba",
   "metadata": {},
   "outputs": [],
   "source": [
    "# Insert code here ...\n",
    "# ...\n"
   ]
  },
  {
   "cell_type": "markdown",
   "id": "a6bab888-ffb3-4e82-99c1-f239fbcc0118",
   "metadata": {},
   "source": [
    "**Task**: Try to estimate a new model using the following modified friction term:\n",
    "\n",
    "$$\n",
    "F_{ij} = \\begin{cases}\n",
    "    w_i^\\lambda & \\text{if} i \\neq j \\\\\n",
    "    w_i^\\lambda + \\gamma & \\text{if} i = j\n",
    "\\end{cases}\n",
    "$$\n",
    "\n",
    "Which parameters $\\lambda$ and $\\gamma$ work best?\n",
    "\n",
    "Hint: Keep your existing friction matrix in `friction_matrix` and create new matrices on the fly for testing."
   ]
  },
  {
   "cell_type": "code",
   "execution_count": null,
   "id": "97171d35-afa9-4df3-a17e-a1914f099777",
   "metadata": {},
   "outputs": [],
   "source": [
    "# Insert code here ...\n",
    "# ...\n"
   ]
  },
  {
   "cell_type": "markdown",
   "id": "d6240cc8-8c6e-4172-aa3a-f13901048a80",
   "metadata": {},
   "source": [
    "**Task**: Show the fit of your new model in a scatter plot."
   ]
  },
  {
   "cell_type": "code",
   "execution_count": null,
   "id": "6f72f3d6-b8d0-410f-bfbc-7c1cf1b2f8e5",
   "metadata": {},
   "outputs": [],
   "source": [
    "# Insert code here ...\n",
    "# ...\n"
   ]
  },
  {
   "cell_type": "markdown",
   "id": "e3215c71-b9d4-4e3e-a5ac-61e8d725b548",
   "metadata": {},
   "source": [
    "**Task**: Create also scatter plots for the fit in terms of origin counts and destination counts. What do you expect? What do you observe?"
   ]
  },
  {
   "cell_type": "code",
   "execution_count": null,
   "id": "280029dc-da14-4536-9bea-7490534ac7f8",
   "metadata": {},
   "outputs": [],
   "source": [
    "# Insert code here ...\n",
    "# ...\n"
   ]
  },
  {
   "cell_type": "markdown",
   "id": "1be8ccb6-863f-4604-bb1f-bd9f70833be5",
   "metadata": {},
   "source": [
    "What do you observe?"
   ]
  },
  {
   "cell_type": "markdown",
   "id": "77797d53-de28-4897-b829-772888802297",
   "metadata": {},
   "source": [
    "## Double-constrained gravity model"
   ]
  },
  {
   "cell_type": "markdown",
   "id": "570be0e9-4154-46da-8644-c85b56c0a900",
   "metadata": {},
   "source": [
    "Let's move on to the double-constrained model. In that model, both the origin and destination flows $O_i$ and $D_j$ are known and we aim to automatically find the attraction and production terms $A_j$ and $P_i$.\n",
    "\n",
    "The model is defined as follows:\n",
    "\n",
    "$$\n",
    "F_{ij} = \\frac{O_i \\cdot D_i}{(\\sum_i P_i \\cdot \\rho_{ij})\\cdot (\\sum_j A_j \\cdot \\rho_{ij})}\n",
    "$$\n",
    "\n",
    "the attraction and production terms are obtained by iteratively executing:\n",
    "\n",
    "$$\n",
    "P_i = \\frac{O_i}{\\sum_j A_j \\cdot \\rho_{ij}}\n",
    "$$\n",
    "$$\n",
    "A_j = \\frac{D_j}{\\sum_i P_i \\cdot \\rho_{ij}}\n",
    "$$"
   ]
  },
  {
   "cell_type": "markdown",
   "id": "d70b4b24-540e-4382-9728-63a6b6c424f5",
   "metadata": {},
   "source": [
    "**Task**: Implement the double-constrained gravity model to calculate the production and attraction terms."
   ]
  },
  {
   "cell_type": "code",
   "execution_count": null,
   "id": "fe4aaf40-2dc1-4eb2-ae1a-cd17990cde28",
   "metadata": {},
   "outputs": [],
   "source": [
    "### Insert code here\n",
    "# ...\n",
    "\n",
    "# origins = # Format properly\n",
    "# destinations = # Format properly\n",
    "\n",
    "# production = # Initialize to one\n",
    "# attraction = # Initialize to one\n",
    "\n",
    "# for iteration in range(500):\n",
    "#    for i in range(len(municipalities)):\n",
    "        # ...\n",
    "\n",
    "#    for j in range(len(municipalities)):\n",
    "        # ...\n"
   ]
  },
  {
   "cell_type": "markdown",
   "id": "4f9996ba-1ac1-4c46-b8bf-092e03e1c21b",
   "metadata": {},
   "source": [
    "**Task**: Extend the example from above and plot the sum of the attraction term and the sum of the production term over the iterations. What do you observe? Do they stabilize?"
   ]
  },
  {
   "cell_type": "code",
   "execution_count": null,
   "id": "29667fb8-3d30-4bf6-9ff4-7d0effadddea",
   "metadata": {},
   "outputs": [],
   "source": [
    "### Insert code here\n",
    "# ...\n"
   ]
  },
  {
   "cell_type": "markdown",
   "id": "8c5c4942-8292-4f4d-b2bc-2eefefae8934",
   "metadata": {},
   "source": [
    "**Task**: Calculate the resulting flows of your model. Compare the flows with the reference data, and also compare origin and destination flows in two additional plots."
   ]
  },
  {
   "cell_type": "code",
   "execution_count": null,
   "id": "ffaf71b3-1408-4cfb-b4f0-8e649bb78e48",
   "metadata": {},
   "outputs": [],
   "source": [
    "### Insert code here\n",
    "# ...\n"
   ]
  },
  {
   "cell_type": "markdown",
   "id": "73e71d62-280b-4d5a-aa5c-9f3992a51e4c",
   "metadata": {},
   "source": [
    "**Task**: Do you remeber the initial data frame `df_commutes`? Add a new column to this data frame into which you write your latest modeling results. Show the data frame."
   ]
  },
  {
   "cell_type": "code",
   "execution_count": null,
   "id": "29b81b8a-d166-4b1f-9ee1-f3494c0e701e",
   "metadata": {},
   "outputs": [],
   "source": [
    "### Insert code here\n",
    "# ...\n"
   ]
  },
  {
   "cell_type": "markdown",
   "id": "73a6a262-3801-4a82-aeba-6656b5e8c4b0",
   "metadata": {},
   "source": [
    "**Congratulations!** You can now solve exercise 2.3 of the course project."
   ]
  }
 ],
 "metadata": {
  "kernelspec": {
   "display_name": "Python 3 (ipykernel)",
   "language": "python",
   "name": "python3"
  },
  "language_info": {
   "codemirror_mode": {
    "name": "ipython",
    "version": 3
   },
   "file_extension": ".py",
   "mimetype": "text/x-python",
   "name": "python",
   "nbconvert_exporter": "python",
   "pygments_lexer": "ipython3",
   "version": "3.12.1"
  }
 },
 "nbformat": 4,
 "nbformat_minor": 5
}
