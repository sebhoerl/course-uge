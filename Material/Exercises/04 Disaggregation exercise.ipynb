{
 "cells": [
  {
   "cell_type": "code",
   "execution_count": null,
   "id": "9838f5c0-a151-4461-a3cc-450ec14db271",
   "metadata": {},
   "outputs": [],
   "source": [
    "import numpy as np\n",
    "import pandas as pd\n",
    "import geopandas as gpd\n",
    "import matplotlib.pyplot as plt\n",
    "import shapely.geometry as sgeo\n",
    "%matplotlib inline"
   ]
  },
  {
   "cell_type": "markdown",
   "id": "2476030b-4a05-41e8-ab85-7b8277f55ea6",
   "metadata": {},
   "source": [
    "# Disaggregation\n",
    "\n",
    "The goal of this exercise is to learn how to switch from a zone-based and flow-based simulation to a trip-based setting. The idea is to take the flow matrix generated in the previous exercise and to generate individual trips."
   ]
  },
  {
   "cell_type": "markdown",
   "id": "505bedf6-9dbf-40a5-b44a-dea1a27a9cbc",
   "metadata": {},
   "source": [
    "## Disaggregating the flows\n",
    "\n",
    "Instead of generating the true number of trips, we will only generate a small share to keep the calculations feasible. "
   ]
  },
  {
   "cell_type": "markdown",
   "id": "9527a267-ef7d-4a01-85d7-a8a31e40412e",
   "metadata": {},
   "source": [
    "First, we read the generated flow data and the municipality shapes from the previous exercises:"
   ]
  },
  {
   "cell_type": "code",
   "execution_count": null,
   "id": "ae3a7561-d6cc-4111-81b9-a80607919cd8",
   "metadata": {},
   "outputs": [],
   "source": [
    "df_flow = pd.read_parquet(\"data/flow.parquet\")\n",
    "df_municipalities = gpd.read_parquet(\"data/municipalities.parquet\")"
   ]
  },
  {
   "cell_type": "markdown",
   "id": "bef4f94e-99ac-4816-8869-cba4e3cfd7b3",
   "metadata": {},
   "source": [
    "**Task**: Filter both the municipalities data frame and the flow data frame for the area of Paris (department 75). For the flow data set, make sure that only flows are kept that start within Paris and also end within Paris."
   ]
  },
  {
   "cell_type": "code",
   "execution_count": null,
   "id": "889da019-5a15-45bd-bb69-5146afe5b789",
   "metadata": {},
   "outputs": [],
   "source": [
    "### Insert your code here\n"
   ]
  },
  {
   "cell_type": "markdown",
   "id": "90e399a8-7a36-4765-99e9-a233547558e7",
   "metadata": {},
   "source": [
    "**Task**: Now convert the `weight` column (reference flows) or the `model` column (your choice) into a probability by dividing by the total:"
   ]
  },
  {
   "cell_type": "code",
   "execution_count": null,
   "id": "bcd7acf6-6340-400b-9ccb-75f8fb4a8c68",
   "metadata": {},
   "outputs": [],
   "source": [
    "### Insert your code here\n",
    "# df_flow[\"probability\"] = \n"
   ]
  },
  {
   "cell_type": "markdown",
   "id": "3dbf8061-6893-483b-9680-8371750fb959",
   "metadata": {},
   "source": [
    "**Task**: Next, sample a trip table from the flow data frame, using *pandas*' `sample` method of the data frame, according to the `probability` of each relation. Make sure to pass `replace = True` so you can sample individual entries multiple times. Sample *1,000* trips."
   ]
  },
  {
   "cell_type": "code",
   "execution_count": null,
   "id": "b1faa419-7644-4f8c-b168-2f2cff76d886",
   "metadata": {},
   "outputs": [],
   "source": [
    "### Insert your code here\n",
    "# df_trips = \n"
   ]
  },
  {
   "cell_type": "markdown",
   "id": "617da165-0266-4fbe-ab3c-89a9a2c3a626",
   "metadata": {},
   "source": [
    "Next, we clean up the trips data frame:"
   ]
  },
  {
   "cell_type": "code",
   "execution_count": null,
   "id": "d0551d03-14cd-490b-82bf-45e7ba967157",
   "metadata": {},
   "outputs": [],
   "source": [
    "df_trips = df_trips[[\"origin_id\", \"destination_id\"]]\n",
    "df_trips.head()"
   ]
  },
  {
   "cell_type": "markdown",
   "id": "1466aac6-ef4f-4c64-9cec-c4bf22b312bd",
   "metadata": {},
   "source": [
    "## Sampling a departure time\n",
    "\n",
    "Our next goal is to generate a departure time for each trip. We will only generate trips for the morning peak.\n",
    "\n",
    "**Task**: Add a departure time to each trip by sampling from the following normal distribution:\n",
    "\n",
    "$$\n",
    "t \\sim \\mathcal{N}(\\mu = 8.5, \\sigma = 1)\n",
    "$$\n",
    "\n",
    "Save the departure time in seconds (seconds after midnight). Set any negative values to zero to avoid computational issues:"
   ]
  },
  {
   "cell_type": "code",
   "execution_count": null,
   "id": "6e9b59a8-36ca-4cc1-ada2-37130631dff6",
   "metadata": {},
   "outputs": [],
   "source": [
    "### Insert your code here\n",
    "# df_trips[\"departure_time\"] = \n"
   ]
  },
  {
   "cell_type": "markdown",
   "id": "9c4a84a1-26a7-48e7-be31-fdc4c63c661a",
   "metadata": {},
   "source": [
    "**Task**: To make sure, plot a histogram of your generated departure times."
   ]
  },
  {
   "cell_type": "code",
   "execution_count": null,
   "id": "bc423adc-707b-4e59-aa9b-1a1c7de9eeed",
   "metadata": {},
   "outputs": [],
   "source": [
    "### Insert your code here\n"
   ]
  },
  {
   "cell_type": "markdown",
   "id": "0698bf3c-721a-4f2a-9ad1-6b9dc40bcd26",
   "metadata": {},
   "source": [
    "## Sampling origins and destinations\n",
    "\n",
    "Next, we want to generate origin and destination points for the trips and show them on a map."
   ]
  },
  {
   "cell_type": "markdown",
   "id": "89b4439b-b233-4fd6-947e-f90ce06a8f1f",
   "metadata": {},
   "source": [
    "**Task**: We will follow a process that is not the most efficient, but straight-forward to follow. First, merge the municipality data frame onto the trips data frame such that a new column `origin_geometry` is created:"
   ]
  },
  {
   "cell_type": "code",
   "execution_count": null,
   "id": "e75c4fd7-023c-4c68-af13-ed609f0e5825",
   "metadata": {},
   "outputs": [],
   "source": [
    "pd.DataFrame({ \"origin_id\": [], \"destination_id\": [], \"departure_time\": [], \"origin_geometry\": [] })"
   ]
  },
  {
   "cell_type": "code",
   "execution_count": null,
   "id": "7fdf72b1-f3c3-4c20-b77f-79025ff419ba",
   "metadata": {},
   "outputs": [],
   "source": [
    "### Insert your code here\n",
    "# df_trips = pd.merge(df_trips, df_municipalities.rename( # complete # ), on = \"origin_id\")\n"
   ]
  },
  {
   "cell_type": "markdown",
   "id": "95c46eb7-c4ca-498a-99a4-13b12e7295ac",
   "metadata": {},
   "source": [
    "**Task**: Now repeat the same to generate a new column `destination_geometry` for each trip:"
   ]
  },
  {
   "cell_type": "code",
   "execution_count": null,
   "id": "57a2168e-7f73-4ee2-9c3c-b59d25d41798",
   "metadata": {},
   "outputs": [],
   "source": [
    "### Insert your code here\n"
   ]
  },
  {
   "cell_type": "markdown",
   "id": "259df66e-a2ce-4f76-8c51-090d70106181",
   "metadata": {},
   "source": [
    "Let's clean the data set, we should have the following columns:"
   ]
  },
  {
   "cell_type": "code",
   "execution_count": null,
   "id": "fb0cdaae-271e-472e-8634-a0196400fca2",
   "metadata": {},
   "outputs": [],
   "source": [
    "df_trips = df_trips[[\"origin_id\", \"destination_id\", \"departure_time\", \"origin_geometry\", \"destination_geometry\"]]\n",
    "assert len(df_trips) == 1000"
   ]
  },
  {
   "cell_type": "markdown",
   "id": "8b2f016d-48ef-4ae3-9f5f-2de607404878",
   "metadata": {},
   "source": [
    "*Geopandas* provides a useful method called `sample_points`, but it only acts on the active *geometry* column of a `GeoDataFrame`. First, we need to convert `df_trips` into a `GeoDataFrame` with `origin_geometry` as the active geometry column:"
   ]
  },
  {
   "cell_type": "code",
   "execution_count": null,
   "id": "a0ef59a8-0075-4f8b-a05d-3445f6f3a8bb",
   "metadata": {},
   "outputs": [],
   "source": [
    "df_trips = gpd.GeoDataFrame(df_trips, geometry = \"origin_geometry\", crs = df_municipalities.crs)"
   ]
  },
  {
   "cell_type": "markdown",
   "id": "d5b6e8ec-cbcc-4521-a654-6122f69aefa4",
   "metadata": {},
   "source": [
    "Try the following code, it will take the polygon geometry of every trip's origin zone and sample a point from within that zone:"
   ]
  },
  {
   "cell_type": "code",
   "execution_count": null,
   "id": "7ed9756c-6dcb-4990-b909-83c01466bebb",
   "metadata": {},
   "outputs": [],
   "source": [
    "df_trips.sample_points(1)"
   ]
  },
  {
   "cell_type": "markdown",
   "id": "78252eea-421e-4215-b242-ede420aa3b00",
   "metadata": {},
   "source": [
    "**Task**: Override the (polygon) `origin_geometry` column in your trip table now with a sampled point from the respective zone:"
   ]
  },
  {
   "cell_type": "code",
   "execution_count": null,
   "id": "3bea3ec9-da4a-483b-b729-46dd777a67f7",
   "metadata": {},
   "outputs": [],
   "source": [
    "### Insert your code here\n",
    "# df_trips[\"origin_geometry\"] = # ...\n"
   ]
  },
  {
   "cell_type": "markdown",
   "id": "8ec1a3b3-133e-4678-b296-75370b58c6b0",
   "metadata": {},
   "source": [
    "**Task**: Now, do the same with the destination. First, set the active geometry column of the data frame to `destination_geometry` (see `GeoDataFrame.set_geometry` and then override this column with a randomly sampled point:"
   ]
  },
  {
   "cell_type": "code",
   "execution_count": null,
   "id": "923e659d-6d70-49ce-a35e-eee623e6ee2c",
   "metadata": {},
   "outputs": [],
   "source": [
    "### Insert your code here\n",
    "# df_trips[\"origin_geometry\"] = ...\n"
   ]
  },
  {
   "cell_type": "markdown",
   "id": "b030045d-3a05-4c35-b562-51fe8b1263e1",
   "metadata": {},
   "source": [
    "Have a look at your data frame. You should see that both `origin_geometry` and `destination_geometry` are of type `POINT`. If they are *exactly* the same, you did something wrong in the previous cells:"
   ]
  },
  {
   "cell_type": "code",
   "execution_count": null,
   "id": "455b83af-139c-4f72-86a3-4cf0a4556788",
   "metadata": {},
   "outputs": [],
   "source": [
    "df_trips.head()"
   ]
  },
  {
   "cell_type": "markdown",
   "id": "1cd3ce95-c915-4849-a8de-842d26880bac",
   "metadata": {},
   "source": [
    "We will now create a new geometry column which, instead of a `POINT` contains a `LINESTRING`, i.e. a connected line between `N` (in our case 2) points. For that, we make use of the `shapely.geometry` package, which we have imported as `sgeo` (see first cell)."
   ]
  },
  {
   "cell_type": "code",
   "execution_count": null,
   "id": "9af45fb0-acdb-45ba-917d-13f9b72d07d1",
   "metadata": {},
   "outputs": [],
   "source": [
    "df_trips[\"geometry\"] = [\n",
    "    sgeo.LineString(od) \n",
    "    for od in zip(df_trips[\"origin_geometry\"], df_trips[\"destination_geometry\"])\n",
    "]"
   ]
  },
  {
   "cell_type": "markdown",
   "id": "ee29eabc-7d2e-4773-8c51-0a3c24285438",
   "metadata": {},
   "source": [
    "Try to understand the previous cell. What does it do?"
   ]
  },
  {
   "cell_type": "markdown",
   "id": "a7096f9e-9a8b-4e26-ab40-86992b1f3fe6",
   "metadata": {},
   "source": [
    "**Task**: Set the *active geometry column* of the data frame to `geometry` and plot the data frame. What do you see?"
   ]
  },
  {
   "cell_type": "code",
   "execution_count": null,
   "id": "bd089d63-d6c3-4388-a454-88d42fb7f01b",
   "metadata": {},
   "outputs": [],
   "source": [
    "### Insert your code here\n"
   ]
  },
  {
   "cell_type": "markdown",
   "id": "1bf2de17-778c-4b46-8cba-f50f6eefebd6",
   "metadata": {},
   "source": [
    "**Task**: In this notebook or using QGIS, plot the arrondissements of Paris together with your generated flows."
   ]
  },
  {
   "cell_type": "code",
   "execution_count": null,
   "id": "8d4fbb6d-9e62-4480-8b39-c6b2371d9beb",
   "metadata": {},
   "outputs": [],
   "source": [
    "### Insert your code here or use QGIS"
   ]
  },
  {
   "cell_type": "markdown",
   "id": "42218cc8-132b-4619-8717-83ad99c57222",
   "metadata": {},
   "source": [
    "Let's save the generated trips for the next exercise:"
   ]
  },
  {
   "cell_type": "code",
   "execution_count": null,
   "id": "729622ad-9813-4e25-b410-455b0bb7f17e",
   "metadata": {},
   "outputs": [],
   "source": [
    "df_trips.to_parquet(\"trips.parquet\")"
   ]
  },
  {
   "cell_type": "markdown",
   "id": "acf017f2-fe42-4776-a514-be1c2a5c2c07",
   "metadata": {},
   "source": [
    "**Congratulations!** You should now be able to disaggregate a flow matrix for your course project (Exercise 3.1)."
   ]
  }
 ],
 "metadata": {
  "kernelspec": {
   "display_name": "course2024",
   "language": "python",
   "name": "python3"
  },
  "language_info": {
   "codemirror_mode": {
    "name": "ipython",
    "version": 3
   },
   "file_extension": ".py",
   "mimetype": "text/x-python",
   "name": "python",
   "nbconvert_exporter": "python",
   "pygments_lexer": "ipython3",
   "version": "3.12.8"
  }
 },
 "nbformat": 4,
 "nbformat_minor": 5
}
