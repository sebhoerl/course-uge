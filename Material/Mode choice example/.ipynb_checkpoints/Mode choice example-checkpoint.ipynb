{
 "cells": [
  {
   "cell_type": "code",
   "execution_count": 1,
   "id": "498dc5ba-3ed1-40f7-aad0-cc1f4c935bf1",
   "metadata": {},
   "outputs": [],
   "source": [
    "import numpy as np\n",
    "import pandas as pd\n",
    "import matplotlib.pyplot as plt\n",
    "from sklearn.linear_model import LogisticRegression\n",
    "%matplotlib inline"
   ]
  },
  {
   "cell_type": "markdown",
   "id": "31891464-cedc-49d1-aaef-20945ccbed6f",
   "metadata": {},
   "source": [
    "# Mode choice example"
   ]
  },
  {
   "cell_type": "markdown",
   "id": "f4cf993d-055c-40a1-8d67-f41f98f42a55",
   "metadata": {},
   "source": [
    "This notebook gives an example on how to work with discrete choice data and how to estimate a simple choice model."
   ]
  },
  {
   "cell_type": "markdown",
   "id": "afa1eb99-4909-419d-9083-e09e3001ca0e",
   "metadata": {},
   "source": [
    "First, we load the data set"
   ]
  },
  {
   "cell_type": "code",
   "execution_count": 101,
   "id": "f8f7bfbc-711a-491b-9ed1-c2f8293f92d5",
   "metadata": {},
   "outputs": [],
   "source": [
    "df = pd.read_csv(\"mode_choice_data.csv\", sep = \";\")"
   ]
  },
  {
   "cell_type": "markdown",
   "id": "b5830659-3967-420e-91aa-bd372cad19ab",
   "metadata": {},
   "source": [
    "It contains information on 1,000 trips that have been performed by a sample population:"
   ]
  },
  {
   "cell_type": "code",
   "execution_count": 102,
   "id": "ff00a514-3f24-4725-8293-5b6a18749aaa",
   "metadata": {},
   "outputs": [
    {
     "data": {
      "text/html": [
       "<div>\n",
       "<style scoped>\n",
       "    .dataframe tbody tr th:only-of-type {\n",
       "        vertical-align: middle;\n",
       "    }\n",
       "\n",
       "    .dataframe tbody tr th {\n",
       "        vertical-align: top;\n",
       "    }\n",
       "\n",
       "    .dataframe thead th {\n",
       "        text-align: right;\n",
       "    }\n",
       "</style>\n",
       "<table border=\"1\" class=\"dataframe\">\n",
       "  <thead>\n",
       "    <tr style=\"text-align: right;\">\n",
       "      <th></th>\n",
       "      <th>weight</th>\n",
       "      <th>car_in_vehicle_time_min</th>\n",
       "      <th>pt_in_vehicle_time_total_min</th>\n",
       "      <th>pt_total_walk_travel_time_min</th>\n",
       "      <th>pt_transfers</th>\n",
       "    </tr>\n",
       "  </thead>\n",
       "  <tbody>\n",
       "    <tr>\n",
       "      <th>count</th>\n",
       "      <td>1000.000000</td>\n",
       "      <td>1000.000000</td>\n",
       "      <td>1000.000000</td>\n",
       "      <td>1000.000000</td>\n",
       "      <td>1000.000000</td>\n",
       "    </tr>\n",
       "    <tr>\n",
       "      <th>mean</th>\n",
       "      <td>320.869124</td>\n",
       "      <td>21.031406</td>\n",
       "      <td>25.228000</td>\n",
       "      <td>21.242067</td>\n",
       "      <td>0.857000</td>\n",
       "    </tr>\n",
       "    <tr>\n",
       "      <th>std</th>\n",
       "      <td>214.914135</td>\n",
       "      <td>15.607052</td>\n",
       "      <td>22.373256</td>\n",
       "      <td>9.541779</td>\n",
       "      <td>0.945222</td>\n",
       "    </tr>\n",
       "    <tr>\n",
       "      <th>min</th>\n",
       "      <td>39.163101</td>\n",
       "      <td>0.828332</td>\n",
       "      <td>0.000000</td>\n",
       "      <td>1.950000</td>\n",
       "      <td>0.000000</td>\n",
       "    </tr>\n",
       "    <tr>\n",
       "      <th>25%</th>\n",
       "      <td>181.537807</td>\n",
       "      <td>9.633756</td>\n",
       "      <td>8.000000</td>\n",
       "      <td>14.629167</td>\n",
       "      <td>0.000000</td>\n",
       "    </tr>\n",
       "    <tr>\n",
       "      <th>50%</th>\n",
       "      <td>264.180866</td>\n",
       "      <td>16.161660</td>\n",
       "      <td>19.000000</td>\n",
       "      <td>20.175000</td>\n",
       "      <td>1.000000</td>\n",
       "    </tr>\n",
       "    <tr>\n",
       "      <th>75%</th>\n",
       "      <td>396.087819</td>\n",
       "      <td>28.825804</td>\n",
       "      <td>37.000000</td>\n",
       "      <td>26.541667</td>\n",
       "      <td>1.000000</td>\n",
       "    </tr>\n",
       "    <tr>\n",
       "      <th>max</th>\n",
       "      <td>1635.350801</td>\n",
       "      <td>119.052006</td>\n",
       "      <td>150.000000</td>\n",
       "      <td>73.450000</td>\n",
       "      <td>4.000000</td>\n",
       "    </tr>\n",
       "  </tbody>\n",
       "</table>\n",
       "</div>"
      ],
      "text/plain": [
       "            weight  car_in_vehicle_time_min  pt_in_vehicle_time_total_min  \\\n",
       "count  1000.000000              1000.000000                   1000.000000   \n",
       "mean    320.869124                21.031406                     25.228000   \n",
       "std     214.914135                15.607052                     22.373256   \n",
       "min      39.163101                 0.828332                      0.000000   \n",
       "25%     181.537807                 9.633756                      8.000000   \n",
       "50%     264.180866                16.161660                     19.000000   \n",
       "75%     396.087819                28.825804                     37.000000   \n",
       "max    1635.350801               119.052006                    150.000000   \n",
       "\n",
       "       pt_total_walk_travel_time_min  pt_transfers  \n",
       "count                    1000.000000   1000.000000  \n",
       "mean                       21.242067      0.857000  \n",
       "std                         9.541779      0.945222  \n",
       "min                         1.950000      0.000000  \n",
       "25%                        14.629167      0.000000  \n",
       "50%                        20.175000      1.000000  \n",
       "75%                        26.541667      1.000000  \n",
       "max                        73.450000      4.000000  "
      ]
     },
     "execution_count": 102,
     "metadata": {},
     "output_type": "execute_result"
    }
   ],
   "source": [
    "df.describe()"
   ]
  },
  {
   "cell_type": "markdown",
   "id": "a812ca13-d220-442d-90f7-fd32a3ae923a",
   "metadata": {},
   "source": [
    "Our goal is to estimate a multinomial logit model using scikit-learn. We split the data set into labels, weights, and inputs:"
   ]
  },
  {
   "cell_type": "code",
   "execution_count": 104,
   "id": "afe0098f-cdc3-4e47-9804-592b93d1fd5a",
   "metadata": {},
   "outputs": [],
   "source": [
    "X = df[[\n",
    "    \"car_in_vehicle_time_min\", \"pt_in_vehicle_time_total_min\", \"pt_total_walk_travel_time_min\",\n",
    "    \"pt_transfers\"\n",
    "]].values\n",
    "\n",
    "Y = df[\"is_car\"].values\n",
    "W = df[\"weight\"].values"
   ]
  },
  {
   "cell_type": "code",
   "execution_count": 105,
   "id": "097f4dc1-9e30-438c-abce-95049c45a7f9",
   "metadata": {},
   "outputs": [],
   "source": [
    "Y = Y.astype(int)"
   ]
  },
  {
   "cell_type": "markdown",
   "id": "fb6a956d-c00a-4a43-bb1c-6b95caa13b0e",
   "metadata": {},
   "source": [
    "We can now estimate the regression model:"
   ]
  },
  {
   "cell_type": "code",
   "execution_count": 106,
   "id": "907a4112-3f28-4074-a00f-df2a8e542ff5",
   "metadata": {},
   "outputs": [
    {
     "data": {
      "text/html": [
       "<style>#sk-container-id-11 {color: black;}#sk-container-id-11 pre{padding: 0;}#sk-container-id-11 div.sk-toggleable {background-color: white;}#sk-container-id-11 label.sk-toggleable__label {cursor: pointer;display: block;width: 100%;margin-bottom: 0;padding: 0.3em;box-sizing: border-box;text-align: center;}#sk-container-id-11 label.sk-toggleable__label-arrow:before {content: \"▸\";float: left;margin-right: 0.25em;color: #696969;}#sk-container-id-11 label.sk-toggleable__label-arrow:hover:before {color: black;}#sk-container-id-11 div.sk-estimator:hover label.sk-toggleable__label-arrow:before {color: black;}#sk-container-id-11 div.sk-toggleable__content {max-height: 0;max-width: 0;overflow: hidden;text-align: left;background-color: #f0f8ff;}#sk-container-id-11 div.sk-toggleable__content pre {margin: 0.2em;color: black;border-radius: 0.25em;background-color: #f0f8ff;}#sk-container-id-11 input.sk-toggleable__control:checked~div.sk-toggleable__content {max-height: 200px;max-width: 100%;overflow: auto;}#sk-container-id-11 input.sk-toggleable__control:checked~label.sk-toggleable__label-arrow:before {content: \"▾\";}#sk-container-id-11 div.sk-estimator input.sk-toggleable__control:checked~label.sk-toggleable__label {background-color: #d4ebff;}#sk-container-id-11 div.sk-label input.sk-toggleable__control:checked~label.sk-toggleable__label {background-color: #d4ebff;}#sk-container-id-11 input.sk-hidden--visually {border: 0;clip: rect(1px 1px 1px 1px);clip: rect(1px, 1px, 1px, 1px);height: 1px;margin: -1px;overflow: hidden;padding: 0;position: absolute;width: 1px;}#sk-container-id-11 div.sk-estimator {font-family: monospace;background-color: #f0f8ff;border: 1px dotted black;border-radius: 0.25em;box-sizing: border-box;margin-bottom: 0.5em;}#sk-container-id-11 div.sk-estimator:hover {background-color: #d4ebff;}#sk-container-id-11 div.sk-parallel-item::after {content: \"\";width: 100%;border-bottom: 1px solid gray;flex-grow: 1;}#sk-container-id-11 div.sk-label:hover label.sk-toggleable__label {background-color: #d4ebff;}#sk-container-id-11 div.sk-serial::before {content: \"\";position: absolute;border-left: 1px solid gray;box-sizing: border-box;top: 0;bottom: 0;left: 50%;z-index: 0;}#sk-container-id-11 div.sk-serial {display: flex;flex-direction: column;align-items: center;background-color: white;padding-right: 0.2em;padding-left: 0.2em;position: relative;}#sk-container-id-11 div.sk-item {position: relative;z-index: 1;}#sk-container-id-11 div.sk-parallel {display: flex;align-items: stretch;justify-content: center;background-color: white;position: relative;}#sk-container-id-11 div.sk-item::before, #sk-container-id-11 div.sk-parallel-item::before {content: \"\";position: absolute;border-left: 1px solid gray;box-sizing: border-box;top: 0;bottom: 0;left: 50%;z-index: -1;}#sk-container-id-11 div.sk-parallel-item {display: flex;flex-direction: column;z-index: 1;position: relative;background-color: white;}#sk-container-id-11 div.sk-parallel-item:first-child::after {align-self: flex-end;width: 50%;}#sk-container-id-11 div.sk-parallel-item:last-child::after {align-self: flex-start;width: 50%;}#sk-container-id-11 div.sk-parallel-item:only-child::after {width: 0;}#sk-container-id-11 div.sk-dashed-wrapped {border: 1px dashed gray;margin: 0 0.4em 0.5em 0.4em;box-sizing: border-box;padding-bottom: 0.4em;background-color: white;}#sk-container-id-11 div.sk-label label {font-family: monospace;font-weight: bold;display: inline-block;line-height: 1.2em;}#sk-container-id-11 div.sk-label-container {text-align: center;}#sk-container-id-11 div.sk-container {/* jupyter's `normalize.less` sets `[hidden] { display: none; }` but bootstrap.min.css set `[hidden] { display: none !important; }` so we also need the `!important` here to be able to override the default hidden behavior on the sphinx rendered scikit-learn.org. See: https://github.com/scikit-learn/scikit-learn/issues/21755 */display: inline-block !important;position: relative;}#sk-container-id-11 div.sk-text-repr-fallback {display: none;}</style><div id=\"sk-container-id-11\" class=\"sk-top-container\"><div class=\"sk-text-repr-fallback\"><pre>LogisticRegression()</pre><b>In a Jupyter environment, please rerun this cell to show the HTML representation or trust the notebook. <br />On GitHub, the HTML representation is unable to render, please try loading this page with nbviewer.org.</b></div><div class=\"sk-container\" hidden><div class=\"sk-item\"><div class=\"sk-estimator sk-toggleable\"><input class=\"sk-toggleable__control sk-hidden--visually\" id=\"sk-estimator-id-11\" type=\"checkbox\" checked><label for=\"sk-estimator-id-11\" class=\"sk-toggleable__label sk-toggleable__label-arrow\">LogisticRegression</label><div class=\"sk-toggleable__content\"><pre>LogisticRegression()</pre></div></div></div></div></div>"
      ],
      "text/plain": [
       "LogisticRegression()"
      ]
     },
     "execution_count": 106,
     "metadata": {},
     "output_type": "execute_result"
    }
   ],
   "source": [
    "model = LogisticRegression()\n",
    "model.fit(X, Y, W)"
   ]
  },
  {
   "cell_type": "code",
   "execution_count": 107,
   "id": "febb23d4-ea9d-4721-85f5-bf995cb58707",
   "metadata": {},
   "outputs": [],
   "source": [
    "Ypred = model.predict(X)"
   ]
  },
  {
   "cell_type": "markdown",
   "id": "7cbfd1fb-a789-4148-8a42-c2ef970f9ca1",
   "metadata": {},
   "source": [
    "Metrics on the prediction:"
   ]
  },
  {
   "cell_type": "code",
   "execution_count": 108,
   "id": "d6fac798-fa2a-4207-a033-730d3ba6c6db",
   "metadata": {},
   "outputs": [
    {
     "data": {
      "text/plain": [
       "(0.762, 0.805, 0.821)"
      ]
     },
     "execution_count": 108,
     "metadata": {},
     "output_type": "execute_result"
    }
   ],
   "source": [
    "np.mean(Y), np.mean(Ypred), np.mean(Y == Ypred)"
   ]
  },
  {
   "cell_type": "markdown",
   "id": "06b81506-b404-4d75-845e-4935883c0e1e",
   "metadata": {},
   "source": [
    "We notice that the coefficients are not as we would like them to be (non-positive):"
   ]
  },
  {
   "cell_type": "code",
   "execution_count": 109,
   "id": "0ec567ef-3d9e-430d-85ad-10ef6d8041e9",
   "metadata": {},
   "outputs": [
    {
     "data": {
      "text/plain": [
       "(array([[-0.23071835,  0.07933375,  0.1902051 ,  2.53750136]]),\n",
       " array([-0.73565177]))"
      ]
     },
     "execution_count": 109,
     "metadata": {},
     "output_type": "execute_result"
    }
   ],
   "source": [
    "model.coef_, model.intercept_"
   ]
  },
  {
   "cell_type": "markdown",
   "id": "7d9a4fa8-4409-4565-b518-d9d8aaeeb30d",
   "metadata": {},
   "source": [
    "However, we can already experiment with this model:"
   ]
  },
  {
   "cell_type": "code",
   "execution_count": 111,
   "id": "6057e7fc-f037-457b-a4b6-b95c7fb58cca",
   "metadata": {},
   "outputs": [
    {
     "data": {
      "image/png": "[encoded data removed]",
      "text/plain": [
       "<Figure size 720x480 with 1 Axes>"
      ]
     },
     "metadata": {},
     "output_type": "display_data"
    }
   ],
   "source": [
    "car_travel_time = 15\n",
    "pt_travel_time = np.linspace(0, 1, 100) * 120\n",
    "pt_access_time = 10\n",
    "transfers = 0\n",
    "\n",
    "X = np.zeros((len(pt_travel_time), 4))\n",
    "X[:,0] = car_travel_time\n",
    "X[:,1] = pt_travel_time\n",
    "X[:,2] = pt_access_time\n",
    "X[:,3] = transfers\n",
    "\n",
    "probabilities = model.predict_proba(X)\n",
    "\n",
    "plt.figure(dpi = 120, figsize = (6, 4))\n",
    "\n",
    "plt.plot(pt_travel_time, probabilities, label = [\"Transit\", \"Car\"])\n",
    "plt.legend()\n",
    "plt.grid()\n",
    "plt.xlabel(\"Transit travel time [min]\")\n",
    "plt.ylabel(\"Choice probability\")\n",
    "\n",
    "plt.tight_layout()"
   ]
  }
 ],
 "metadata": {
  "kernelspec": {
   "display_name": "Python 3 (ipykernel)",
   "language": "python",
   "name": "python3"
  },
  "language_info": {
   "codemirror_mode": {
    "name": "ipython",
    "version": 3
   },
   "file_extension": ".py",
   "mimetype": "text/x-python",
   "name": "python",
   "nbconvert_exporter": "python",
   "pygments_lexer": "ipython3",
   "version": "3.12.1"
  }
 },
 "nbformat": 4,
 "nbformat_minor": 5
}
