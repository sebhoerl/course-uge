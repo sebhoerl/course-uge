{
 "cells": [
  {
   "cell_type": "code",
   "execution_count": 1,
   "metadata": {},
   "outputs": [],
   "source": [
    "import geopandas as gpd"
   ]
  },
  {
   "cell_type": "code",
   "execution_count": 1,
   "metadata": {},
   "outputs": [],
   "source": [
    "# Define the input file that shall be converted\n",
    "study_area_path = \"study_area.gpkg\"\n",
    "\n",
    "# Define the name of the output file in poly format\n",
    "output_path = \"study_area.poly\""
   ]
  },
  {
   "cell_type": "markdown",
   "metadata": {},
   "source": [
    "# Convert municipalities to OSM shape"
   ]
  },
  {
   "cell_type": "code",
   "execution_count": 3,
   "metadata": {},
   "outputs": [],
   "source": [
    "df = gpd.read_file(study_area_path)\n",
    "df = df.to_crs(\"EPSG:4326\")\n",
    "\n",
    "df[\"aggregate\"] = 0\n",
    "area = df.dissolve(by = \"aggregate\")[\"geometry\"].values[0]\n",
    "\n",
    "if not hasattr(area, \"exterior\"):\n",
    "    print(\"Selected area is not connected -> Using convex hull.\")\n",
    "    area = area.convex_hull\n",
    "\n",
    "data = []\n",
    "data.append(\"polyfile\")\n",
    "data.append(\"polygon\")\n",
    "\n",
    "for coordinate in area.exterior.coords:\n",
    "    data.append(\"    %e    %e\" % coordinate)\n",
    "\n",
    "data.append(\"END\")\n",
    "data.append(\"END\")\n",
    "\n",
    "with open(output_path, \"w+\") as f:\n",
    "    f.write(\"\\n\".join(data))"
   ]
  }
 ],
 "metadata": {
  "celltoolbar": "Tags",
  "kernelspec": {
   "display_name": "Python 3 (ipykernel)",
   "language": "python",
   "name": "python3"
  },
  "language_info": {
   "codemirror_mode": {
    "name": "ipython",
    "version": 3
   },
   "file_extension": ".py",
   "mimetype": "text/x-python",
   "name": "python",
   "nbconvert_exporter": "python",
   "pygments_lexer": "ipython3",
   "version": "3.12.1"
  }
 },
 "nbformat": 4,
 "nbformat_minor": 4
}
