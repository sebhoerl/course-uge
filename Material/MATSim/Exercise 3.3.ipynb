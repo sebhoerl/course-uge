{
 "cells": [
  {
   "cell_type": "code",
   "execution_count": 1,
   "id": "e6bc70d3-3b5c-4012-9d47-c4d518a24a04",
   "metadata": {},
   "outputs": [],
   "source": [
    "import geopandas as gpd"
   ]
  },
  {
   "cell_type": "code",
   "execution_count": 1,
   "id": "86c9fc1b-b8b8-42d8-b897-d11e554888ae",
   "metadata": {},
   "outputs": [
    {
     "name": "stdout",
     "output_type": "stream",
     "text": [
      "Jan 24, 2024 7:10:13 PM org.openstreetmap.osmosis.core.Osmosis run\n",
      "INFO: Osmosis Version 0.49.2\n",
      "SLF4J: Failed to load class \"org.slf4j.impl.StaticLoggerBinder\".\n",
      "SLF4J: Defaulting to no-operation (NOP) logger implementation\n",
      "SLF4J: See http://www.slf4j.org/codes.html#StaticLoggerBinder for further details.\n",
      "Jan 24, 2024 7:10:14 PM org.openstreetmap.osmosis.core.Osmosis run\n",
      "INFO: Preparing pipeline.\n",
      "Jan 24, 2024 7:10:14 PM org.openstreetmap.osmosis.core.Osmosis run\n",
      "INFO: Launching pipeline execution.\n",
      "Jan 24, 2024 7:10:14 PM org.openstreetmap.osmosis.core.Osmosis run\n",
      "INFO: Pipeline executing, waiting for completion.\n",
      "Jan 24, 2024 7:10:15 PM org.openstreetmap.osmosis.core.Osmosis run\n",
      "INFO: Pipeline complete.\n",
      "Jan 24, 2024 7:10:15 PM org.openstreetmap.osmosis.core.Osmosis run\n",
      "INFO: Total execution time: 1968 milliseconds.\n"
     ]
    }
   ],
   "source": [
    "!osmosis --read-xml ../Exercises/paris.osm --write-pbf study_area.pbf"
   ]
  },
  {
   "cell_type": "code",
   "execution_count": null,
   "id": "b60b1841-4e59-4b23-bfb1-f631d9a8fbb7",
   "metadata": {},
   "outputs": [],
   "source": [
    "osmosis --read-pbf /path/to/your/cutout.osm.pbf \\\n",
    "    --tag-filter accept-ways highway=* \\\n",
    "    --bounding-polygon file=/path/to/your/study_area.poly completeWays=yes --used-node --write-xml /path/to/the/output.osm.xml"
   ]
  }
 ],
 "metadata": {
  "kernelspec": {
   "display_name": "Python 3 (ipykernel)",
   "language": "python",
   "name": "python3"
  },
  "language_info": {
   "codemirror_mode": {
    "name": "ipython",
    "version": 3
   },
   "file_extension": ".py",
   "mimetype": "text/x-python",
   "name": "python",
   "nbconvert_exporter": "python",
   "pygments_lexer": "ipython3",
   "version": "3.12.1"
  }
 },
 "nbformat": 4,
 "nbformat_minor": 5
}
