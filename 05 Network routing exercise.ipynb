{
 "cells": [
  {
   "cell_type": "code",
   "execution_count": null,
   "id": "8511778d-7d56-47f9-a4c5-041168186df1",
   "metadata": {},
   "outputs": [],
   "source": [
    "import numpy as np\n",
    "import pandas as pd\n",
    "import geopandas as gpd\n",
    "import osmnx\n",
    "import pyrosm\n",
    "import os\n",
    "%matplotlib inline"
   ]
  },
  {
   "cell_type": "markdown",
   "id": "7661f44d-fedb-48df-9257-6fb263304909",
   "metadata": {},
   "source": [
    "# Network routing\n",
    "\n",
    "In the previous exercise, we have generated a trip table with origin and destination coordinates. In this exercise, we will make use of OpenStreetMap data to route the individual trips on the networks and show which roads are used by the generated trips.\n",
    "\n",
    "The following steps will be followed:\n",
    "- We download OpenStreetMap data for Île-de-France\n",
    "- We use a tool called `osmium` to out only the city of Paris (to speed up routing) and to bring the raw data in the right format\n",
    "- We make use of the library `osmnx` to prepare the network data for routing\n",
    "- We make use of the library to route all generated trips from the previous exercise on the network\n",
    "- We plot the flow along the road network that is created by the trips"
   ]
  },
  {
   "cell_type": "markdown",
   "id": "4c69ff30-3ec0-4b20-aa7c-9bf8529b0430",
   "metadata": {},
   "source": [
    "First, we load in the trip information and the municipality data:"
   ]
  },
  {
   "cell_type": "code",
   "execution_count": null,
   "id": "40fe56cb-59d0-4f1f-859c-aaa3988bc4f8",
   "metadata": {},
   "outputs": [],
   "source": [
    "df_trips = gpd.read_parquet(\"data/trips.parquet\")\n",
    "df_municipalities = gpd.read_parquet(\"data/municipalities.parquet\")"
   ]
  },
  {
   "cell_type": "markdown",
   "id": "b8f94d1e-0b0a-4dfa-bc8d-98aed2daf352",
   "metadata": {},
   "source": [
    "**Task**: Filter the municipalities such that only Paris remains in the data set."
   ]
  },
  {
   "cell_type": "code",
   "execution_count": null,
   "id": "ce05cbdd",
   "metadata": {},
   "outputs": [],
   "source": [
    "### Insert code here\n",
    "# df_perimeter = \n"
   ]
  },
  {
   "cell_type": "markdown",
   "id": "050b9268",
   "metadata": {},
   "source": [
    "Now, we merge all municipalities into one polygon and save the dataframe in GeoJson format. We'll need it later for cutting the OpenSteetMap data."
   ]
  },
  {
   "cell_type": "code",
   "execution_count": null,
   "id": "f93419a6",
   "metadata": {},
   "outputs": [],
   "source": [
    "# Merge multiply polygons into one\n",
    "df_perimeter = df_perimeter.dissolve()\n",
    "\n",
    "# Write as GeoJson format file. You can have a look at it in QGIS, for instance.\n",
    "df_perimeter.to_crs(\"EPSG:4326\").to_file(\"data/perimeter.geojson\")"
   ]
  },
  {
   "cell_type": "markdown",
   "id": "48e616c0-7595-4e69-b6b5-28ec7e0a7ca8",
   "metadata": {},
   "source": [
    "## Preparing OpenStreetMap data\n",
    "\n",
    "In this part, we will download the OpenStreetMap data, and use `osmium` (installed as a command-line utility in your `conda` environment) to cut and convert it for further processing. Please follow the following steps."
   ]
  },
  {
   "cell_type": "markdown",
   "id": "623e09ee",
   "metadata": {},
   "source": [
    "### OpenStreetMap data\n",
    "\n",
    "The whole OpenStreetMap data set is large, so there are providers of smaller cut-outs. One useful source of such cut-outs is GeoFabrik, which provides per-region data sets for France: http://download.geofabrik.de/europe/france.html\n",
    "\n",
    "- Download the latest data for Île-de-France in `.osm.pbf` format and put the file next to this notebook.\n",
    "\n",
    "Linux users may execute the following cell:"
   ]
  },
  {
   "cell_type": "code",
   "execution_count": null,
   "id": "7da89b45",
   "metadata": {},
   "outputs": [],
   "source": [
    "if not os.path.exists(\"data/ile-de-france-latest.osm.pbf\"):\n",
    "    !cd data && wget http://download.geofabrik.de/europe/france/ile-de-france-latest.osm.pbf"
   ]
  },
  {
   "cell_type": "markdown",
   "id": "06718220",
   "metadata": {},
   "source": [
    "Next, we (1) cut the OpenStreetMap data to the selected perimeter (Paris) and, (2) only retain road geometries in the file:"
   ]
  },
  {
   "cell_type": "code",
   "execution_count": null,
   "id": "242a353b",
   "metadata": {},
   "outputs": [],
   "source": [
    "!osmium extract data/ile-de-france-latest.osm.pbf -p data/perimeter.geojson --overwrite -o data/cut.osm.pbf\n",
    "!osmium tags-filter --overwrite -o data/perimeter.osm.pbf data/cut.osm.pbf w/highway"
   ]
  },
  {
   "cell_type": "markdown",
   "id": "89625dba",
   "metadata": {},
   "source": [
    "## Loading the OpenStreetMap data\n",
    "\n",
    "We are now ready to read the data and make use of it in this notebook. For that, we make use of the `pyrosm` library. Further processing of the data happens using `osmnx` and `networkx`."
   ]
  },
  {
   "cell_type": "code",
   "execution_count": null,
   "id": "113ae7d4",
   "metadata": {},
   "outputs": [],
   "source": [
    "# Load our cut perimetecr data\n",
    "osm = pyrosm.OSM(\"data/perimeter.osm.pbf\")\n",
    "\n",
    "# Extract nodes and edges from the road network\n",
    "nodes, edges = osm.get_network(nodes = True, network_type = \"driving\")\n",
    "\n",
    "# Convert the data into a graph that can be used with the networkx library\n",
    "graph = osm.to_graph(nodes, edges, graph_type = \"networkx\")"
   ]
  },
  {
   "cell_type": "markdown",
   "id": "3424f35a",
   "metadata": {},
   "source": [
    "Next, we add link speeds and travel times to the network based on OSM information:"
   ]
  },
  {
   "cell_type": "code",
   "execution_count": null,
   "id": "5fc6d2e9",
   "metadata": {},
   "outputs": [],
   "source": [
    "osmnx.add_edge_speeds(graph)\n",
    "osmnx.add_edge_travel_times(graph)"
   ]
  },
  {
   "cell_type": "markdown",
   "id": "e85433b5",
   "metadata": {},
   "source": [
    "**Task**: Use `osmnx` to transform the network into a `GeoDataFrame` that you can easily manipulate and visualize. Remove unncessary columns such that you arrive at the structure below:"
   ]
  },
  {
   "cell_type": "code",
   "execution_count": null,
   "id": "9e33a7f8",
   "metadata": {},
   "outputs": [],
   "source": [
    "pd.DataFrame({ \"u\": [], \"v\": [], \"geometry\": [] })"
   ]
  },
  {
   "cell_type": "code",
   "execution_count": null,
   "id": "4bbbaa8e",
   "metadata": {},
   "outputs": [],
   "source": [
    "df_network = osmnx.graph_to_gdfs(graph, nodes = False, edges = True).reset_index()\n",
    "\n",
    "### Insert your code here\n"
   ]
  },
  {
   "cell_type": "markdown",
   "id": "028386ff",
   "metadata": {},
   "source": [
    "**Task**: Write out the network in GeoPackage format and have a look at it in QGIS. "
   ]
  },
  {
   "cell_type": "code",
   "execution_count": null,
   "id": "ad181149",
   "metadata": {},
   "outputs": [],
   "source": [
    "# Insert your code here\n"
   ]
  },
  {
   "cell_type": "markdown",
   "id": "5761345d",
   "metadata": {},
   "source": [
    "### Routing\n",
    "\n",
    "In order to route the trips in our *trips* dataframe through the road network, we need to assign each origin and destination (by coordinate) to a specififc network node:"
   ]
  },
  {
   "cell_type": "code",
   "execution_count": null,
   "id": "7788920f-24d3-461a-9f8d-3108bbb6fc4e",
   "metadata": {},
   "outputs": [],
   "source": [
    "# add origin_node column to our data frame\n",
    "geometry = df_trips[\"origin_geometry\"].to_crs(\"EPSG:4326\")\n",
    "df_trips[\"origin_node\"] = osmnx.nearest_nodes(graph, geometry.x, geometry.y)\n",
    "\n",
    "# add destination_node column to our data frame\n",
    "geometry = df_trips[\"destination_geometry\"].to_crs(\"EPSG:4326\")\n",
    "df_trips[\"destination_node\"] = osmnx.nearest_nodes(graph, geometry.x, geometry.y)"
   ]
  },
  {
   "cell_type": "markdown",
   "id": "82ad193d",
   "metadata": {},
   "source": [
    "**Task**: Look at the updated dataframe and note down one combination of origin and destination node. Use `osmnx.shortest_path` to perform a routing through the network:"
   ]
  },
  {
   "cell_type": "code",
   "execution_count": null,
   "id": "45c1f9d1",
   "metadata": {},
   "outputs": [],
   "source": [
    "### Insert your code here\n",
    "\n",
    "# origin_node = \n",
    "# destination_node = \n",
    "\n",
    "# route = osmnx.shortest_path(graph, ..., weight = \"travel_time\")\n"
   ]
  },
  {
   "cell_type": "markdown",
   "id": "6e7becc7",
   "metadata": {},
   "source": [
    "Print the obtained route. What does it represent?"
   ]
  },
  {
   "cell_type": "code",
   "execution_count": null,
   "id": "f516895c",
   "metadata": {},
   "outputs": [],
   "source": [
    "route"
   ]
  },
  {
   "cell_type": "markdown",
   "id": "89bf8662",
   "metadata": {},
   "source": [
    "**Task**: To visualize the route, we need to select all links from the network that connect the provided node identifiers. Visualize the resulting data here (calling `plot` on the dataframe) and in QGIS."
   ]
  },
  {
   "cell_type": "code",
   "execution_count": null,
   "id": "c91c2fcd",
   "metadata": {},
   "outputs": [],
   "source": [
    "# Understand what happens in the following two lines\n",
    "df_selector = pd.DataFrame({ \"u\": route[:-1], \"v\": route[1:] })\n",
    "df_route = pd.merge(df_network, df_selector, on = [\"u\", \"v\"])\n",
    "\n",
    "### Insert your code here\n"
   ]
  },
  {
   "cell_type": "markdown",
   "id": "3e344208-7f55-4f85-8189-2efdd7ab2a84",
   "metadata": {},
   "source": [
    "**Task**: Now, calculate, at least 200 routes or more from your trips data frame. You can pass a list of origin nodes and a list of destination nodes to `osmnx.shortest_path`."
   ]
  },
  {
   "cell_type": "code",
   "execution_count": null,
   "id": "d5a9a9fd-04d3-4736-b25e-6ecb18b7c4e4",
   "metadata": {},
   "outputs": [],
   "source": [
    "### Insert your code here\n",
    "\n",
    "#routes = ...\n"
   ]
  },
  {
   "cell_type": "markdown",
   "id": "42f4c272-a517-4a1d-86d0-93600f9dabc8",
   "metadata": {},
   "source": [
    "**Task**: We have now obtained a list of routes, one for each trip. A route is simply a list of nodes. By always noting down one node in a route, and its successor, we can obtain a data frame that counts the number of traversals of each edge. Complete the code to have a data frame that shows the number of traversals between to nodes:"
   ]
  },
  {
   "cell_type": "code",
   "execution_count": null,
   "id": "19321ea2",
   "metadata": {},
   "outputs": [],
   "source": [
    "pd.DataFrame({ \"u\": [], \"v\": [], \"count\": [] })"
   ]
  },
  {
   "cell_type": "code",
   "execution_count": null,
   "id": "b0ab088c-bca6-43e7-8adb-adef01b65fa8",
   "metadata": {},
   "outputs": [],
   "source": [
    "# Here we create a list of data frames with the node-to-node traversals\n",
    "df_count = []\n",
    "\n",
    "for route in routes:\n",
    "    df_count.append(pd.DataFrame({ \"u\": route[:-1], \"v\": route[1:] }))\n",
    "\n",
    "# Complete the code to arrive at the count dataframe shown above\n",
    "\n",
    "### Insert your code here\n"
   ]
  },
  {
   "cell_type": "markdown",
   "id": "ec5e5de7",
   "metadata": {},
   "source": [
    "**Task**: Which two nodes have the largest number of traversals between each other?"
   ]
  },
  {
   "cell_type": "code",
   "execution_count": null,
   "id": "6c9cb4fc",
   "metadata": {},
   "outputs": [],
   "source": [
    "### Insert your code here\n",
    "\n",
    "### SOLUTION START\n",
    "df_count.sort_values(by = \"count\", ascending = False)"
   ]
  },
  {
   "cell_type": "markdown",
   "id": "60d02a7b-dc2f-4867-a2e8-d6cf08242540",
   "metadata": {},
   "source": [
    "**Task**: Now merge your network dataframe with the counts dataframe so you have the counts attached to the network geometry. Hint: Perform a *left join* to not remove and network links and fill missing count values with zeros."
   ]
  },
  {
   "cell_type": "code",
   "execution_count": null,
   "id": "246c6f11",
   "metadata": {},
   "outputs": [],
   "source": [
    "pd.DataFrame({ \"u\": [], \"v\": [], \"geometry\": [], \"count\": [] })"
   ]
  },
  {
   "cell_type": "code",
   "execution_count": null,
   "id": "7d625236-8358-400c-88ea-7bc6f48c8dc1",
   "metadata": {},
   "outputs": [],
   "source": [
    "### Insertion your code here\n"
   ]
  },
  {
   "cell_type": "markdown",
   "id": "895a5def-b45d-4238-8481-f32cb465b441",
   "metadata": {},
   "source": [
    "**Task**: Plot the network using the `count` column in this notebook. Find a better representation in QGIS as well."
   ]
  },
  {
   "cell_type": "code",
   "execution_count": null,
   "id": "d2d29c43-5e2c-4821-a744-bded650f0be8",
   "metadata": {},
   "outputs": [],
   "source": [
    "### Insert code here\n",
    "# ...\n"
   ]
  },
  {
   "cell_type": "markdown",
   "id": "54bc4640",
   "metadata": {},
   "source": [
    "**Example for a representation in QGIS**\n",
    "\n",
    "![](material/flow_example.png)"
   ]
  },
  {
   "cell_type": "markdown",
   "id": "ec01b50e",
   "metadata": {},
   "source": [
    "**Congratulations!** You should now be able to cut a road network for the course project (Exercise 3.2)."
   ]
  }
 ],
 "metadata": {
  "kernelspec": {
   "display_name": "course2024",
   "language": "python",
   "name": "python3"
  },
  "language_info": {
   "codemirror_mode": {
    "name": "ipython",
    "version": 3
   },
   "file_extension": ".py",
   "mimetype": "text/x-python",
   "name": "python",
   "nbconvert_exporter": "python",
   "pygments_lexer": "ipython3",
   "version": "3.12.8"
  }
 },
 "nbformat": 4,
 "nbformat_minor": 5
}
