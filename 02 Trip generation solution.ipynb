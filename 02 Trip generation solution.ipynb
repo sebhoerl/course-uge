{
 "cells": [
  {
   "cell_type": "code",
   "execution_count": null,
   "id": "01c4f122-6b2a-4785-acf4-727f844e3dec",
   "metadata": {},
   "outputs": [],
   "source": [
    "import numpy as np\n",
    "import pandas as pd\n",
    "import geopandas as gpd\n",
    "\n",
    "import sklearn.linear_model\n",
    "\n",
    "import matplotlib.pyplot as plt\n",
    "%matplotlib inline"
   ]
  },
  {
   "cell_type": "markdown",
   "id": "3acc1cf0-7474-429e-8c01-149379a3e908",
   "metadata": {},
   "source": [
    "# Trip generation\n",
    "\n",
    "The purpose of this notebook is to give the student a basic understand of how a growth-factor-based trip generation model works and how it can be applied to data."
   ]
  },
  {
   "cell_type": "markdown",
   "id": "33f60d95-117f-4604-b849-18a767137bcd",
   "metadata": {},
   "source": [
    "First, let's load the population, commuting, and municipality data from the last exercise:"
   ]
  },
  {
   "cell_type": "code",
   "execution_count": null,
   "id": "1b97fc5d-1a78-409b-81fd-067a2033d1a3",
   "metadata": {},
   "outputs": [],
   "source": [
    "df_population = pd.read_parquet(\"data/population.parquet\")\n",
    "df_commutes = pd.read_parquet(\"data/commutes.parquet\")\n",
    "df_munipalities = gpd.read_parquet(\"data/municipalities.parquet\")"
   ]
  },
  {
   "cell_type": "markdown",
   "id": "9a5e9b80-dd6a-4188-ba50-841d707bee9f",
   "metadata": {},
   "source": [
    "**Task**: To reduce the amount of computation, filter all three data sets for the Île-de-France region. For the commuting data, make sure to only keep movements where both origin and destination are within the region."
   ]
  },
  {
   "cell_type": "code",
   "execution_count": null,
   "id": "2dd6d8ad-c636-484d-b151-d6356744bea4",
   "metadata": {},
   "outputs": [],
   "source": [
    "idf_departments = [\"75\", \"92\", \"93\", \"94\", \"95\", \"77\", \"91\", \"78\"]"
   ]
  },
  {
   "cell_type": "code",
   "execution_count": null,
   "id": "e8afa6c0-53d1-4b1b-89f2-fa4d99ddc71d",
   "metadata": {},
   "outputs": [],
   "source": [
    "# Insert your code here\n",
    "\n",
    "### SOLUTION START\n",
    "df_population = df_population[df_population[\"municipality_id\"].str[:2].isin(idf_departments)]\n",
    "df_munipalities = df_munipalities[df_munipalities[\"municipality_id\"].str[:2].isin(idf_departments)]\n",
    "\n",
    "df_commutes = df_commutes[\n",
    "    df_commutes[\"origin_id\"].str[:2].isin(idf_departments) &\n",
    "    df_commutes[\"destination_id\"].str[:2].isin(idf_departments)\n",
    "]"
   ]
  },
  {
   "cell_type": "markdown",
   "id": "a0f96698-d58c-444e-900e-309a566482bf",
   "metadata": {},
   "source": [
    "## Simple model"
   ]
  },
  {
   "cell_type": "markdown",
   "id": "c06c8390-1101-4b4a-8646-b1da87182a42",
   "metadata": {},
   "source": [
    "**Task**: Implement the simple trip generation model as described during the lecture:\n",
    "\n",
    "$$\n",
    "O_i = \\beta N_i\n",
    "$$\n",
    "\n",
    "with $O_i$ indicating the outflow (the number of commuters) of a municipality and $N_i$ its population count. To estimate, $\\beta$, the following formula has been established:\n",
    "\n",
    "$$\n",
    "\\beta = \\frac{\\sum_i \\hat O_i \\cdot N_i}{\\sum_i N_i^2}\n",
    "$$\n",
    "\n",
    "with $\\hat O_i$ as the reference commuters known from data."
   ]
  },
  {
   "cell_type": "code",
   "execution_count": null,
   "id": "f5d5dc6b-7100-4202-8cbf-b7e01ddd5fb2",
   "metadata": {},
   "outputs": [],
   "source": [
    "# Hint: Working with multiple data frames is easier if we know that the order with respect to the keys is the same. We can do so by indexing our data sets:\n",
    "municipalities = df_munipalities[\"municipality_id\"].unique()\n",
    "\n",
    "df_population = df_population.set_index(\"municipality_id\").reindex(municipalities)"
   ]
  },
  {
   "cell_type": "code",
   "execution_count": null,
   "id": "0be60ac9-5f3a-4c94-9c97-f55563bd71ed",
   "metadata": {},
   "outputs": [],
   "source": [
    "# Insert your code here\n",
    "\n",
    "# nominator = \n",
    "# denominator = \n",
    "# beta =\n",
    "\n",
    "### SOLUTION START\n",
    "df_origins = df_commutes.groupby(\"origin_id\")[\"weight\"].sum().reset_index()\n",
    "df_origins = df_origins.set_index(\"origin_id\").reindex(municipalities)\n",
    "\n",
    "O = df_origins[\"weight\"].values\n",
    "N = df_population[\"population\"].values\n",
    "\n",
    "nominator = np.sum(O * N)\n",
    "denominator = np.sum(N**2)\n",
    "\n",
    "beta = nominator / denominator\n",
    "beta"
   ]
  },
  {
   "cell_type": "markdown",
   "id": "2fe421e9-64c9-40ad-8131-526ecf660564",
   "metadata": {},
   "source": [
    "**Task**: Generate the flows using your model."
   ]
  },
  {
   "cell_type": "code",
   "execution_count": null,
   "id": "d599f788-bfd1-48c3-a944-3d3ae61cede5",
   "metadata": {},
   "outputs": [],
   "source": [
    "# Insert your code here\n",
    "\n",
    "# O_generated = ...\n",
    "\n",
    "### SOLUTION START\n",
    "O_generated = beta * N"
   ]
  },
  {
   "cell_type": "markdown",
   "id": "b8262cfc-ae35-4aeb-a1c0-92444da635b6",
   "metadata": {},
   "source": [
    "**Task**: Plot the fit of your model as a scatter plot (x = reference, y = model)."
   ]
  },
  {
   "cell_type": "code",
   "execution_count": null,
   "id": "74467ecf-3fcc-4fea-bf23-a3101c1953c8",
   "metadata": {},
   "outputs": [],
   "source": [
    "# Insert your code here\n",
    "\n",
    "### SOLUTION START\n",
    "plt.figure(dpi = 120, figsize = (6, 4))\n",
    "\n",
    "plt.plot(O, O_generated, \".\")\n",
    "plt.plot([0, np.max(O)], [0, np.max(O)], \"k\")\n",
    "\n",
    "plt.grid()\n",
    "plt.xlabel(\"Reference\")\n",
    "plt.ylabel(\"Model\")\n",
    "\n",
    "plt.tight_layout()"
   ]
  },
  {
   "cell_type": "markdown",
   "id": "3ecb8ac6-b45a-405c-906d-dc79f9db5c16",
   "metadata": {},
   "source": [
    "## CSP Model"
   ]
  },
  {
   "cell_type": "markdown",
   "id": "6045e37a-0507-4609-954c-9aae71c77bdb",
   "metadata": {},
   "source": [
    "**Task**: Implement the CSP-based growth model for trip distribution as it was introduced in the lecture.\n",
    "\n",
    "- Prepare the input data and reference data\n",
    "- Set up the model\n",
    "- Show the coefficients and the offset\n",
    "- What do you observe? Which impact do individual CSP have on the commutes?\n",
    "\n",
    "Hint: Make use of `sklearn.linear_model.LinearRegression`"
   ]
  },
  {
   "cell_type": "code",
   "execution_count": null,
   "id": "dd96c878-36fa-4e64-88da-7622907a2a5b",
   "metadata": {},
   "outputs": [],
   "source": [
    "# Insert your code here\n",
    "\n",
    "# Set up the model input data (features)\n",
    "# X =\n",
    "\n",
    "# Set up the reference data (labels / ground truth)\n",
    "# y = \n",
    "\n",
    "# Set up the sklearn model\n",
    "# model = \n",
    "\n",
    "### SOLUTION START\n",
    "X = df_population.reindex(municipalities).values[:,1:]\n",
    "y = df_origins.reindex(municipalities)[\"weight\"].values\n",
    "\n",
    "model = sklearn.linear_model.LinearRegression()\n",
    "model.fit(X, y)\n",
    "\n",
    "model.coef_, model.intercept_"
   ]
  },
  {
   "cell_type": "markdown",
   "id": "021b66ce-1139-433e-800d-654c577efd0e",
   "metadata": {},
   "source": [
    "**Task**: Apply the model to the population data without using sklearn, but just making use of the parameters. Show the fit with the reference data"
   ]
  },
  {
   "cell_type": "code",
   "execution_count": null,
   "id": "8c67e176-fc8f-462e-8c8f-7b31c30bd799",
   "metadata": {},
   "outputs": [],
   "source": [
    "# Insert your code here\n",
    "\n",
    "# coefficients = \n",
    "# intercept = \n",
    "\n",
    "# prediction = \n",
    "\n",
    "### SOLUTION START\n",
    "coefficients = model.coef_\n",
    "intercept = model.intercept_\n",
    "\n",
    "prediction = np.maximum(np.sum(intercept + X * coefficients[np.newaxis, :], axis = 1), 0.0)\n",
    "\n",
    "plt.figure(dpi = 120, figsize = (6, 4))\n",
    "\n",
    "plt.plot(y, prediction, \".\")\n",
    "plt.plot([0, np.max(O)], [0, np.max(O)], \"k\")\n",
    "\n",
    "plt.grid()\n",
    "plt.xlabel(\"Reference\")\n",
    "plt.ylabel(\"Model\")\n",
    "\n",
    "plt.tight_layout()"
   ]
  },
  {
   "cell_type": "markdown",
   "id": "20372880-a532-4b3f-8272-02076580b030",
   "metadata": {},
   "source": [
    "**Bonus task:** Now we have a model that generates the number of outgoing commuters per day, based on the composition of the population in a zone. As a bonus task, go back to the population data from the previous task. Remember that it gave us the number of people in a CSP per IRIS, not only per municipality. Use the model that we have estimated now to generate the number of commuters per IRIS in Île-de-France."
   ]
  },
  {
   "cell_type": "code",
   "execution_count": null,
   "id": "da82edc7-e1a4-4bf1-956f-068bf9741092",
   "metadata": {},
   "outputs": [],
   "source": [
    "# Insert your code here\n",
    "\n",
    "### SOLUTION START\n",
    "df_iris = gpd.read_file(\"data/CONTOURS-IRIS.shp\")\n",
    "df_iris = df_iris[[\"INSEE_COM\", \"CODE_IRIS\", \"geometry\"]].rename(columns = {\n",
    "    \"INSEE_COM\": \"municipality_id\", \"CODE_IRIS\": \"iris_id\"\n",
    "})\n",
    "\n",
    "df_iris_population = pd.read_csv(\"data/base-ic-evol-struct-pop-2019.CSV\", sep = \";\", dtype = {\n",
    "    \"IRIS\": \"str\"\n",
    "}, usecols = [\"IRIS\"] + [\"C19_POP15P_CS{}\".format(k) for k in range(1,9)])\n",
    "\n",
    "for k in range(1, 9):\n",
    "    df_iris_population[\"csp_{}\".format(k)] = df_iris_population[\"C19_POP15P_CS{}\".format(k)]\n",
    "    \n",
    "df_iris_population = df_iris_population[[\"IRIS\"] + [\"csp_{}\".format(k) for k in range(1,9)]]\n",
    "df_iris_population.columns = [\"iris_id\"] + [\"csp_{}\".format(k) for k in range(1,9)]\n",
    "df_iris_population = df_iris_population.groupby(\"iris_id\").sum().reset_index()\n",
    "\n",
    "df_iris_population[\"commuters\"] = np.maximum(\n",
    "    np.sum(intercept + df_iris_population.values[:,1:] * coefficients[np.newaxis, :], axis = 1), 0.0)\n",
    "\n",
    "df_matched = pd.merge(df_iris[\n",
    "    df_iris[\"iris_id\"].str[:2] == \"75\"\n",
    "], df_iris_population, on = \"iris_id\")\n",
    "\n",
    "df_matched[\"commuters\"] = df_matched[\"commuters\"].astype(float)\n",
    "df_matched.plot(\"commuters\")"
   ]
  },
  {
   "cell_type": "markdown",
   "id": "f4c91a4c-0193-48b4-8926-594312131b25",
   "metadata": {},
   "source": [
    "**Congratulations**, you can now solve Exercise 2.1 and 2.2 of the course project."
   ]
  }
 ],
 "metadata": {
  "kernelspec": {
   "display_name": "course2024",
   "language": "python",
   "name": "python3"
  },
  "language_info": {
   "codemirror_mode": {
    "name": "ipython",
    "version": 3
   },
   "file_extension": ".py",
   "mimetype": "text/x-python",
   "name": "python",
   "nbconvert_exporter": "python",
   "pygments_lexer": "ipython3",
   "version": "3.12.8"
  }
 },
 "nbformat": 4,
 "nbformat_minor": 5
}
